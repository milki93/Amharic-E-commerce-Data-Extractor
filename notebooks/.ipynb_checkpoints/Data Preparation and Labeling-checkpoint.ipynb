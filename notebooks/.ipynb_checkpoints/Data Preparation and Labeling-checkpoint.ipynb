{
 "cells": [
  {
   "cell_type": "code",
   "execution_count": 1,
   "id": "94dc0114-a809-4378-8cec-d8ad6728ba8d",
   "metadata": {},
   "outputs": [],
   "source": [
    "import pandas as pd\n",
    "import re\n",
    "\n",
    "csv_file_path = '../data/telegram_data.csv'\n",
    "df = pd.read_csv(csv_file_path)\n",
    "df['text'] = df['text'].fillna('')\n",
    "df = df[df['text'].str.strip().astype(bool)]\n",
    "df_backup = df.copy()"
   ]
  },
  {
   "cell_type": "code",
   "execution_count": 2,
   "id": "ad37ca75-9411-469b-8b7d-4761bbfbfb79",
   "metadata": {},
   "outputs": [],
   "source": [
    "# Data Cleaning \n",
    "\n",
    "def clean_text(text):\n",
    "    \"\"\"\n",
    "    Performs basic text cleaning:\n",
    "    - Converts text to string (handles non-string types)\n",
    "    - Removes URLs, emojis \n",
    "    - Removes special characters and numbers (keeping only letters and basic punctuation)\n",
    "    - Removes extra whitespace\n",
    "    \"\"\"\n",
    "    if not isinstance(text, str):\n",
    "        return \"\"\n",
    "    text = re.sub(r'http\\S+|www\\S+|https\\S+', '', text, flags=re.MULTILINE)\n",
    "    text = re.sub(r'[\\U0001F600-\\U0001F64F\\U0001F300-\\U0001F5FF\\U0001F680-\\U0001F6FF\\U0001F1E0-\\U0001F1FF]+', '', text)\n",
    "    text = re.sub(r'@[A-Za-z0-9_]+|#[A-Za-z0-9_]+', '', text)\n",
    "    text = re.sub(r'[^\\u1200-\\u137F\\s\\w.,!?-]+', '', text) \n",
    "    text = re.sub(r'\\s+', ' ', text).strip()\n",
    "    return text\n",
    "\n",
    "df['cleaned_text'] = df['text'].apply(clean_text)"
   ]
  },
  {
   "cell_type": "code",
   "execution_count": 3,
   "id": "a2ba7ede-6e42-4c50-bb53-6aef92d08004",
   "metadata": {},
   "outputs": [],
   "source": [
    "# Normalize\n",
    "def normalize_text(text):\n",
    "    if not isinstance(text, str):\n",
    "        return \"\"\n",
    "    text = text.strip().casefold()\n",
    "    text = text.replace('\\u1369', '').replace('\\u136A', '').replace('\\u136B', '').replace('\\u136C', '')\n",
    "    text = text.replace('\\u136D', '').replace('\\u136E', '').replace('\\u136F', '').replace('\\u1370', '')\n",
    "    text = text.replace('\\u1371', '').replace('\\u1372', '').replace('\\u1373', '').replace('\\u1374', '')\n",
    "    text = text.replace('\\u1375', '').replace('\\u1376', '').replace('\\u1377', '').replace('\\u1378', '')\n",
    "    text = re.sub(r'\\s+', ' ', text).strip()\n",
    "    return text\n",
    "df['normalized_text'] = df['cleaned_text'].apply(normalize_text)"
   ]
  },
  {
   "cell_type": "code",
   "execution_count": 4,
   "id": "9e477905-2880-450f-be7d-f3253ac62637",
   "metadata": {},
   "outputs": [],
   "source": [
    "# Tokenization\n",
    "def tokenize(text):\n",
    "    if not isinstance(text, str):\n",
    "        return []\n",
    "    tokens = re.findall(r'[\\u1200-\\u137F\\w]+|[.,!?-]', text)\n",
    "    return [token for token in tokens if token]\n",
    "\n",
    "df['tokens'] = df['normalized_text'].apply(tokenize)"
   ]
  },
  {
   "cell_type": "code",
   "execution_count": 5,
   "id": "fd3c9474-f3a1-4526-897d-55d2c2f3a333",
   "metadata": {},
   "outputs": [],
   "source": [
    "sample_df = df[['tokens']].dropna().sample(50, random_state=42).reset_index(drop=True)\n",
    "\n",
    "# Remove dot and punctuation tokens\n",
    "sample_df['tokens'] = sample_df['tokens'].apply(lambda toks: [t for t in toks if t not in ['.', '..', '...', ',', '!', '?']])"
   ]
  },
  {
   "cell_type": "code",
   "execution_count": 6,
   "id": "d8da5391-ff6b-4a19-83ae-e2610ba4c81f",
   "metadata": {},
   "outputs": [
    {
     "name": "stdout",
     "output_type": "stream",
     "text": [
      "✅ Loaded 10 labeled samples from file.\n"
     ]
    }
   ],
   "source": [
    "labeled_data = []\n",
    "try:\n",
    "    with open(\"../data/labeled_data.conll\", \"r\", encoding=\"utf-8\") as f:\n",
    "        sentence = []\n",
    "        for line in f:\n",
    "            line = line.strip()\n",
    "            if line == \"\":\n",
    "                if sentence:\n",
    "                    labeled_data.append(sentence)\n",
    "                    sentence = []\n",
    "            else:\n",
    "                parts = line.rsplit(\" \", 1)\n",
    "                if len(parts) == 2:\n",
    "                    sentence.append((parts[0], parts[1]))\n",
    "    print(f\"✅ Loaded {len(labeled_data)} labeled samples from file.\")\n",
    "except FileNotFoundError:\n",
    "    print(\"⚠️ No saved labels found. Starting from scratch.\")\n",
    "    labeled_data = []"
   ]
  },
  {
   "cell_type": "code",
   "execution_count": 7,
   "id": "63e19975-8fe9-455b-ad11-4f6f63933c90",
   "metadata": {},
   "outputs": [],
   "source": [
    "# Choose one sentence to label\n",
    "# sample_index = 0  # Change this to 1, 2, 3... later\n",
    "\n",
    "# tokens = sample_df.loc[sample_index, 'tokens']\n",
    "\n",
    "# print(f\"Sample {sample_index + 1}/{len(sample_df)}:\")\n",
    "# for i, token in enumerate(tokens):\n",
    "#     print(f\"{i}: {token}\")\n"
   ]
  },
  {
   "cell_type": "code",
   "execution_count": null,
   "id": "e0e7b0c9-7d32-4ce9-8d63-1a22dc04b65c",
   "metadata": {},
   "outputs": [],
   "source": []
  },
  {
   "cell_type": "code",
   "execution_count": 8,
   "id": "4c9b5fee-4e5f-4119-a933-b17a6a642ee6",
   "metadata": {},
   "outputs": [],
   "source": [
    "def label_sentence(index):\n",
    "    tokens = sample_df.loc[index, 'tokens']\n",
    "    labeled_sentence = []\n",
    "\n",
    "    print(f\"\\nSample {index + 1}/{len(sample_df)}:\")\n",
    "\n",
    "    for i, token in enumerate(tokens):\n",
    "        print(f\"{i}: {token}\", end=\" -> \")\n",
    "        label = input(\"Label (O, B-Product, I-PRICE, etc.): \").strip()\n",
    "\n",
    "        if \" \" in label:\n",
    "            print(\"❌ Labels should not contain spaces. Try again.\")\n",
    "            label = input(\"Label (no space!): \").strip()\n",
    "\n",
    "        if label == \"\":\n",
    "            label = \"O\"\n",
    "\n",
    "        labeled_sentence.append((token, label))\n",
    "\n",
    "    labeled_data.append(labeled_sentence)\n",
    "    print(f\"✅ Labeled {len(tokens)} tokens in Sample {index + 1}\")"
   ]
  },
  {
   "cell_type": "code",
   "execution_count": null,
   "id": "0fe1f250-dde5-45d9-ae85-5eb705ae1888",
   "metadata": {},
   "outputs": [
    {
     "name": "stdout",
     "output_type": "stream",
     "text": [
      "\n",
      "Sample 13/50:\n",
      "0: vaccuum -> "
     ]
    },
    {
     "name": "stdin",
     "output_type": "stream",
     "text": [
      "Label (O, B-Product, I-PRICE, etc.):  B-Product\n"
     ]
    },
    {
     "name": "stdout",
     "output_type": "stream",
     "text": [
      "1: flask -> "
     ]
    },
    {
     "name": "stdin",
     "output_type": "stream",
     "text": [
      "Label (O, B-Product, I-PRICE, etc.):  I-Product\n"
     ]
    },
    {
     "name": "stdout",
     "output_type": "stream",
     "text": [
      "2: set -> "
     ]
    },
    {
     "name": "stdin",
     "output_type": "stream",
     "text": [
      "Label (O, B-Product, I-PRICE, etc.):  I-Product\n"
     ]
    },
    {
     "name": "stdout",
     "output_type": "stream",
     "text": [
      "3: የፔርሙዝ -> "
     ]
    },
    {
     "name": "stdin",
     "output_type": "stream",
     "text": [
      "Label (O, B-Product, I-PRICE, etc.):  I-Product\n"
     ]
    },
    {
     "name": "stdout",
     "output_type": "stream",
     "text": [
      "4: ማግ -> "
     ]
    },
    {
     "name": "stdin",
     "output_type": "stream",
     "text": [
      "Label (O, B-Product, I-PRICE, etc.):  I-Product\n"
     ]
    },
    {
     "name": "stdout",
     "output_type": "stream",
     "text": [
      "5: 3 -> "
     ]
    },
    {
     "name": "stdin",
     "output_type": "stream",
     "text": [
      "Label (O, B-Product, I-PRICE, etc.):  O\n"
     ]
    },
    {
     "name": "stdout",
     "output_type": "stream",
     "text": [
      "6: መጠጫ -> "
     ]
    },
    {
     "name": "stdin",
     "output_type": "stream",
     "text": [
      "Label (O, B-Product, I-PRICE, etc.):  O\n"
     ]
    },
    {
     "name": "stdout",
     "output_type": "stream",
     "text": [
      "7: ኩባያዎች -> "
     ]
    },
    {
     "name": "stdin",
     "output_type": "stream",
     "text": [
      "Label (O, B-Product, I-PRICE, etc.):  B-Product\n"
     ]
    },
    {
     "name": "stdout",
     "output_type": "stream",
     "text": [
      "8: ያሉት -> "
     ]
    },
    {
     "name": "stdin",
     "output_type": "stream",
     "text": [
      "Label (O, B-Product, I-PRICE, etc.):  O\n"
     ]
    },
    {
     "name": "stdout",
     "output_type": "stream",
     "text": [
      "9: ለ -> "
     ]
    },
    {
     "name": "stdin",
     "output_type": "stream",
     "text": [
      "Label (O, B-Product, I-PRICE, etc.):  O\n"
     ]
    },
    {
     "name": "stdout",
     "output_type": "stream",
     "text": [
      "10: 12 -> "
     ]
    },
    {
     "name": "stdin",
     "output_type": "stream",
     "text": [
      "Label (O, B-Product, I-PRICE, etc.):  O\n"
     ]
    },
    {
     "name": "stdout",
     "output_type": "stream",
     "text": [
      "11: ሰአታት -> "
     ]
    },
    {
     "name": "stdin",
     "output_type": "stream",
     "text": [
      "Label (O, B-Product, I-PRICE, etc.):  O\n"
     ]
    },
    {
     "name": "stdout",
     "output_type": "stream",
     "text": [
      "12: የሞቀዉን -> "
     ]
    },
    {
     "name": "stdin",
     "output_type": "stream",
     "text": [
      "Label (O, B-Product, I-PRICE, etc.):  O\n"
     ]
    },
    {
     "name": "stdout",
     "output_type": "stream",
     "text": [
      "13: አሙቆ -> "
     ]
    },
    {
     "name": "stdin",
     "output_type": "stream",
     "text": [
      "Label (O, B-Product, I-PRICE, etc.):  O\n"
     ]
    },
    {
     "name": "stdout",
     "output_type": "stream",
     "text": [
      "14: የቀዘቀዘዉን -> "
     ]
    },
    {
     "name": "stdin",
     "output_type": "stream",
     "text": [
      "Label (O, B-Product, I-PRICE, etc.):  O\n"
     ]
    },
    {
     "name": "stdout",
     "output_type": "stream",
     "text": [
      "15: አቀዝቅዞ -> "
     ]
    },
    {
     "name": "stdin",
     "output_type": "stream",
     "text": [
      "Label (O, B-Product, I-PRICE, etc.):  O\n"
     ]
    },
    {
     "name": "stdout",
     "output_type": "stream",
     "text": [
      "16: ሚያስቀምጥ -> "
     ]
    },
    {
     "name": "stdin",
     "output_type": "stream",
     "text": [
      "Label (O, B-Product, I-PRICE, etc.):  O\n"
     ]
    },
    {
     "name": "stdout",
     "output_type": "stream",
     "text": [
      "17: ድንገት -> "
     ]
    },
    {
     "name": "stdin",
     "output_type": "stream",
     "text": [
      "Label (O, B-Product, I-PRICE, etc.):  O\n"
     ]
    },
    {
     "name": "stdout",
     "output_type": "stream",
     "text": [
      "18: ቢወድቅ -> "
     ]
    },
    {
     "name": "stdin",
     "output_type": "stream",
     "text": [
      "Label (O, B-Product, I-PRICE, etc.):  O\n"
     ]
    },
    {
     "name": "stdout",
     "output_type": "stream",
     "text": [
      "19: እንኳን -> "
     ]
    },
    {
     "name": "stdin",
     "output_type": "stream",
     "text": [
      "Label (O, B-Product, I-PRICE, etc.):  O\n"
     ]
    },
    {
     "name": "stdout",
     "output_type": "stream",
     "text": [
      "20: ከማይሰበር -> "
     ]
    },
    {
     "name": "stdin",
     "output_type": "stream",
     "text": [
      "Label (O, B-Product, I-PRICE, etc.):  O\n"
     ]
    },
    {
     "name": "stdout",
     "output_type": "stream",
     "text": [
      "21: ማቴሪያል -> "
     ]
    },
    {
     "name": "stdin",
     "output_type": "stream",
     "text": [
      "Label (O, B-Product, I-PRICE, etc.):  O\n"
     ]
    },
    {
     "name": "stdout",
     "output_type": "stream",
     "text": [
      "22: የተሰራ -> "
     ]
    },
    {
     "name": "stdin",
     "output_type": "stream",
     "text": [
      "Label (O, B-Product, I-PRICE, etc.):  O\n"
     ]
    },
    {
     "name": "stdout",
     "output_type": "stream",
     "text": [
      "23: 500ሚሊ -> "
     ]
    },
    {
     "name": "stdin",
     "output_type": "stream",
     "text": [
      "Label (O, B-Product, I-PRICE, etc.):  O\n"
     ]
    },
    {
     "name": "stdout",
     "output_type": "stream",
     "text": [
      "24: ሊትር -> "
     ]
    },
    {
     "name": "stdin",
     "output_type": "stream",
     "text": [
      "Label (O, B-Product, I-PRICE, etc.):  O\n"
     ]
    },
    {
     "name": "stdout",
     "output_type": "stream",
     "text": [
      "25: የመያዝ -> "
     ]
    },
    {
     "name": "stdin",
     "output_type": "stream",
     "text": [
      "Label (O, B-Product, I-PRICE, etc.):  O\n"
     ]
    },
    {
     "name": "stdout",
     "output_type": "stream",
     "text": [
      "26: አቅም -> "
     ]
    },
    {
     "name": "stdin",
     "output_type": "stream",
     "text": [
      "Label (O, B-Product, I-PRICE, etc.):  O\n"
     ]
    },
    {
     "name": "stdout",
     "output_type": "stream",
     "text": [
      "27: ያለዉ -> "
     ]
    },
    {
     "name": "stdin",
     "output_type": "stream",
     "text": [
      "Label (O, B-Product, I-PRICE, etc.):  O\n"
     ]
    },
    {
     "name": "stdout",
     "output_type": "stream",
     "text": [
      "28: በተለያየ -> "
     ]
    },
    {
     "name": "stdin",
     "output_type": "stream",
     "text": [
      "Label (O, B-Product, I-PRICE, etc.):  O\n"
     ]
    },
    {
     "name": "stdout",
     "output_type": "stream",
     "text": [
      "29: የከለር -> "
     ]
    },
    {
     "name": "stdin",
     "output_type": "stream",
     "text": [
      "Label (O, B-Product, I-PRICE, etc.):  O\n"
     ]
    },
    {
     "name": "stdout",
     "output_type": "stream",
     "text": [
      "30: አማራጭ -> "
     ]
    },
    {
     "name": "stdin",
     "output_type": "stream",
     "text": [
      "Label (O, B-Product, I-PRICE, etc.):  O\n"
     ]
    },
    {
     "name": "stdout",
     "output_type": "stream",
     "text": [
      "31: የቀረበ -> "
     ]
    },
    {
     "name": "stdin",
     "output_type": "stream",
     "text": [
      "Label (O, B-Product, I-PRICE, etc.):  O\n"
     ]
    },
    {
     "name": "stdout",
     "output_type": "stream",
     "text": [
      "32: ለስጦታ -> "
     ]
    },
    {
     "name": "stdin",
     "output_type": "stream",
     "text": [
      "Label (O, B-Product, I-PRICE, etc.):  O\n"
     ]
    },
    {
     "name": "stdout",
     "output_type": "stream",
     "text": [
      "33: የሚሆን -> "
     ]
    },
    {
     "name": "stdin",
     "output_type": "stream",
     "text": [
      "Label (O, B-Product, I-PRICE, etc.):  O\n"
     ]
    },
    {
     "name": "stdout",
     "output_type": "stream",
     "text": [
      "34: የራሱ -> "
     ]
    },
    {
     "name": "stdin",
     "output_type": "stream",
     "text": [
      "Label (O, B-Product, I-PRICE, etc.):  O\n"
     ]
    },
    {
     "name": "stdout",
     "output_type": "stream",
     "text": [
      "35: ማሸጊያና -> "
     ]
    },
    {
     "name": "stdin",
     "output_type": "stream",
     "text": [
      "Label (O, B-Product, I-PRICE, etc.):  O\n"
     ]
    },
    {
     "name": "stdout",
     "output_type": "stream",
     "text": [
      "36: መያዣ -> "
     ]
    },
    {
     "name": "stdin",
     "output_type": "stream",
     "text": [
      "Label (O, B-Product, I-PRICE, etc.):  O\n"
     ]
    },
    {
     "name": "stdout",
     "output_type": "stream",
     "text": [
      "37: ያለዉ -> "
     ]
    },
    {
     "name": "stdin",
     "output_type": "stream",
     "text": [
      "Label (O, B-Product, I-PRICE, etc.):  O\n"
     ]
    },
    {
     "name": "stdout",
     "output_type": "stream",
     "text": [
      "38: ዋጋ፦ -> "
     ]
    },
    {
     "name": "stdin",
     "output_type": "stream",
     "text": [
      "Label (O, B-Product, I-PRICE, etc.):  O\n"
     ]
    },
    {
     "name": "stdout",
     "output_type": "stream",
     "text": [
      "39: 1200 -> "
     ]
    }
   ],
   "source": [
    "# sample_index = len(labeled_data)\n",
    "label_sentence(12)"
   ]
  },
  {
   "cell_type": "code",
   "execution_count": 10,
   "id": "07a58690-83af-4ab3-9e06-b0d84dcd6ea7",
   "metadata": {},
   "outputs": [
    {
     "name": "stdout",
     "output_type": "stream",
     "text": [
      "✅ Saved labeled data.\n"
     ]
    }
   ],
   "source": [
    "with open(\"../data/labeled_data.conll\", \"w\", encoding=\"utf-8\") as f:\n",
    "    for sentence in labeled_data:\n",
    "        for token, label in sentence:\n",
    "            f.write(f\"{token} {label}\\n\")\n",
    "        f.write(\"\\n\")\n",
    "print(\"✅ Saved labeled data.\")\n"
   ]
  },
  {
   "cell_type": "code",
   "execution_count": 3,
   "id": "e68fdfd7-3570-4fe5-a9cc-dea1464e7b4a",
   "metadata": {},
   "outputs": [
    {
     "name": "stdout",
     "output_type": "stream",
     "text": [
      "skechers B-Product\n",
      "archfit B-Product\n",
      "size O\n",
      "40 O\n",
      "41 O\n",
      "42 O\n",
      "43 O\n",
      "price B-PRICE\n",
      "3400 I-PRICE\n",
      "birr I-PRICE\n",
      "አድራሻ B-LOC\n",
      "- I-LOC\n",
      "ሜክሲኮ I-LOC\n",
      "ኮሜርስ I-LOC\n",
      "ጀርባ I-LOC\n",
      "መዚድ I-LOC\n",
      "ፕላዛ I-LOC\n",
      "የመጀመሪያ I-LOC\n",
      "ደረጃ I-LOC\n",
      "እንደወጡ I-LOC\n",
      "101 I-LOC\n",
      "የቢሮ I-LOC\n",
      "ቁጥር I-LOC\n",
      "ያገኙናል I-LOC\n",
      "or O\n",
      "call O\n",
      "0920238243 O\n",
      "ethiobrand O\n",
      "\n",
      "magic O\n",
      "silicone B-Product\n",
      "dish B-Product\n",
      "washing O\n",
      "gloves B-Product\n",
      "high O\n",
      "quality O\n",
      "ወፍራሙ O\n",
      "ዕቃ B-Product\n",
      "ለማጠብ O\n",
      "ቤት O\n",
      "ለማፅዳት O\n",
      "መኪና O\n",
      "ለማጠብ O\n",
      "ለተለያየ O\n",
      "አገልግሎት O\n",
      "የሚውል O\n",
      "ዋጋ፦ B-PRICE\n",
      "350ብር I-PRICE\n",
      "ውስን O\n",
      "ፍሬ O\n",
      "ነው O\n",
      "ያለው O\n",
      "አድራሻ B-LOC\n",
      "መገናኛ_መሰረት_ደፋር_ሞል_ሁለተኛ_ፎቅ I-LOC\n",
      "ቢሮ I-LOC\n",
      "ቁ I-LOC\n",
      "s05s06 I-LOC\n",
      "0902660722 O\n",
      "0928460606 O\n",
      "በtelegram O\n",
      "ለማዘዝ O\n",
      "ይጠቀሙ O\n",
      "ለተጨማሪ O\n",
      "ማብራሪያ O\n",
      "የቴሌግራም O\n",
      "ገፃችን O\n",
      "\n",
      "nike B-Product\n",
      "just O\n",
      "do O\n",
      "it O\n",
      "size O\n",
      "39 O\n",
      "40 O\n",
      "41 O\n",
      "42 O\n",
      "43 O\n",
      "price B-PRICE\n",
      "3400 I-PRICE\n",
      "birr I-PRICE\n",
      "አድራሻ B-LOC\n",
      "- I-LOC\n",
      "ሜክሲኮ I-LOC\n",
      "ኮሜርስ I-LOC\n",
      "ጀርባ I-LOC\n",
      "መዚድ I-LOC\n",
      "ፕላዛ I-LOC\n",
      "የመጀመሪያ I-LOC\n",
      "ደረጃ I-LOC\n",
      "እንደወጡ I-LOC\n",
      "101 I-LOC\n",
      "የቢሮ I-LOC\n",
      "ቁጥር I-LOC\n",
      "ያገኙናል I-LOC\n",
      "or O\n",
      "call O\n",
      "0920238243 O\n",
      "ethiobrand O\n",
      "\n",
      "air O\n",
      "jordan B-ProducT\n",
      "stay O\n",
      "loyal O\n",
      "size O\n",
      "40 O\n",
      "41 O\n",
      "42 O\n",
      "43 O\n",
      "44 O\n",
      "price B-PRICE\n",
      "3400 I-PRICE\n",
      "birr I-PRICE\n",
      "አድራሻ B-LOC\n",
      "- I-LOC\n",
      "ሜክሲኮ I-LOC\n",
      "ኮሜርስ I-LOC\n",
      "ጀርባ I-LOC\n",
      "መዚድ I-LOC\n",
      "ፕላዛ I-LOC\n",
      "የመጀመሪያ I-LOC\n",
      "ደረጃ I-LOC\n",
      "እንደወጡ I-LOC\n",
      "101 I-LOC\n",
      "የቢሮ I-LOC\n",
      "ቁጥር I-LOC\n",
      "ያገኙናል I-LOC\n",
      "or O\n",
      "call O\n",
      "0920238243 O\n",
      "ethiobrand O\n",
      "\n",
      "በረፍት O\n",
      "ቀንዎ O\n",
      "ሱቅ O\n",
      "ላይ O\n",
      "መስተናገድ O\n",
      "ለምትፈልጉ O\n",
      "ውድ O\n",
      "ደንበኞቻችን O\n",
      "ነገ O\n",
      "ከጠዋቱ O\n",
      "430 O\n",
      "_ O\n",
      "ቀኑ O\n",
      "1100 O\n",
      "ድረስ O\n",
      "ሱቃችን O\n",
      "ክፍት O\n",
      "ሁኖ O\n",
      "ይጠብቅዎታል O\n",
      "ሱቅ O\n",
      "መተው O\n",
      "መግዛት O\n",
      "ላልቻላችሁ O\n",
      "በሞተረኞች O\n",
      "ያሉበት O\n",
      "እናደርሳለን O\n",
      "ዘወትር O\n",
      "ሰኞ O\n",
      "_ቅዳሜ O\n",
      "ከጠዋቱ O\n",
      "230 O\n",
      "እስከ O\n",
      "ምሽቱ O\n",
      "200 O\n",
      "ድረስ O\n",
      "ክፍት O\n",
      "መሆኑን O\n",
      "እንገልፃለን O\n",
      "አድራሻ B-LOC\n",
      "መገናኛ_መሰረት_ደፋር_ሞል_ሁለተኛ_ፎቅ I-LOC\n",
      "ቢሮ I-LOC\n",
      "ቁ I-LOC\n",
      "s05s06 I-LOC\n",
      "0902660722 O\n",
      "0928460606 O\n",
      "በtelegram O\n",
      "ለማዘዝ O\n",
      "ይጠቀሙ O\n",
      "ለተጨማሪ O\n",
      "ማብራሪያ O\n",
      "የቴሌግራም O\n",
      "ገፃችን O\n",
      "\n",
      "piclse B-Product\n",
      "loafers I-Product\n",
      "leather I-Product\n",
      "size O\n",
      "39 O\n",
      "40 O\n",
      "41 O\n",
      "42 O\n",
      "43 O\n",
      "44 O\n",
      "price B-PRICE\n",
      "4200 I-PRICE\n",
      "birr I-PRICE\n",
      "አድራሻ B-LOC\n",
      "- I-LOC\n",
      "ሜክሲኮ I-LOC\n",
      "ኮሜርስ I-LOC\n",
      "ጀርባ I-LOC\n",
      "መዚድ I-LOC\n",
      "ፕላዛ I-LOC\n",
      "የመጀመሪያ I-LOC\n",
      "ደረጃ I-LOC\n",
      "እንደወጡ I-LOC\n",
      "101 I-LOC\n",
      "የቢሮ I-LOC\n",
      "ቁጥር I-LOC\n",
      "ያገኙናል I-LOC\n",
      "or O\n",
      "call O\n",
      "0920238243 O\n",
      "ethiobrand O\n",
      "\n",
      "5 O\n",
      "- O\n",
      "in O\n",
      "- O\n",
      "1 O\n",
      "trouser B-Product\n",
      "hanger I-Product\n",
      "የሱሪ B-Product,\n",
      "ማስቀመጫ I-Product,\n",
      "ዋጋ፦ B-PRICE\n",
      "650 I-PRICE\n",
      "ብር I-PRICE\n",
      "ውስን O\n",
      "ፍሬ O\n",
      "ነው O\n",
      "ያለን O\n",
      "አድራሻ B-LOC\n",
      "መገናኛ_መሰረት_ደፋር_ሞል_ሁለተኛ_ፎቅ I-LOC\n",
      "ቢሮ I-LOC\n",
      "ቁ I-LOC\n",
      "s05s06 I-LOC\n",
      "0902660722 O\n",
      "0928460606 O\n",
      "በtelegram O\n",
      "ለማዘዝ O\n",
      "ይጠቀሙ O\n",
      "ለተጨማሪ O\n",
      "ማብራሪያ O\n",
      "የቴሌግራም O\n",
      "ገፃችን O\n",
      "\n",
      "ቴሌግራም O\n",
      "t O\n",
      "memodernshoppingcenter O\n",
      "በአዲስ O\n",
      "ነገረ O\n",
      "ሁሌም O\n",
      "ቀዳሚዏች O\n",
      "ነን O\n",
      "bamboo O\n",
      "serving B-Product\n",
      "tray I-Product\n",
      "100 O\n",
      "ኳሊቲ O\n",
      "ባለ3 O\n",
      "የእንጨት B-Product\n",
      "ሰርቢስ I-Product\n",
      "3የተለያዩ O\n",
      "መጠን O\n",
      "ያላቸው፣በክብና O\n",
      "በ4 O\n",
      "መአዘን O\n",
      "ቅርፅ O\n",
      "የቀረበ O\n",
      "ከንፁህ O\n",
      "ማቴሪያል O\n",
      "የተሰራ O\n",
      "ለቤትዎ O\n",
      "ተጨማሪ O\n",
      "ድምቀት O\n",
      "በ O\n",
      "3500 O\n",
      "የቲክ O\n",
      "ቶክ O\n",
      "ፔጃችንን O\n",
      "ለማግኘት O\n",
      "ሊንኩን O\n",
      "ይጫኑ O\n",
      "0924743736 O\n",
      "0974978584 O\n",
      "በስራችን O\n",
      "ላይ O\n",
      "ቅሬታ O\n",
      "ካለዎት O\n",
      "ብቻ O\n",
      "በዚህ O\n",
      "ስልክ O\n",
      "ደዉለዉ O\n",
      "ያሳዉቁን። O\n",
      "0961373839 O\n",
      "የመረጡትን O\n",
      "እቃ O\n",
      "ለማዘዝ O\n",
      "ከታች O\n",
      "ባለዉ O\n",
      "የቴሌግራም O\n",
      "አድራሻ OO\n",
      "ይላኩልን O\n",
      "t O\n",
      "memodernshopping1 O\n",
      "t O\n",
      "memodernshopping2 O\n",
      "አዲስ B-LOC\n",
      "አበባ I-LOC\n",
      "ዉስጥ O\n",
      "ከ150ብር B-PRICE\n",
      "እስከ O\n",
      "200ብር B-PRICE\n",
      "ብቻ O\n",
      "በማስከፈል O\n",
      "ያሉበት O\n",
      "ድረስ O\n",
      "በፈጣን O\n",
      "ሞተረኞቻችን O\n",
      "እንልክልዏታለን። O\n",
      "ለክፍለ B-LOC\n",
      "ሀገር I-LOC\n",
      "ደንበኞቻችን O\n",
      "በመነሐሪያ B-LOC\n",
      "በኩል O\n",
      "አድርገን O\n",
      "በሹፌር O\n",
      "እንልካለን። O\n",
      "አድራሻ B-LOC\n",
      "ቁጥር I-LOC\n",
      "1 I-LOC\n",
      "ጉርድሾላ I-LOC\n",
      "ከሴንቸሪ I-LOC\n",
      "ሞል I-LOC\n",
      "ትንሽ I-LOC\n",
      "ዝቅ I-LOC\n",
      "እንዳሉ I-LOC\n",
      "ሆሊ I-LOC\n",
      "ሲቲ I-LOC\n",
      "ሴንተር I-LOC\n",
      "ሞል I-LOC\n",
      "ላይ I-LOC\n",
      "እንደገቡ I-LOC\n",
      "ፊትለፊት I-LOC\n",
      "ከሊፍቱ I-LOC\n",
      "በግራ I-LOC\n",
      "በኩል I-LOC\n",
      "ሚዛን I-LOC\n",
      "ላይ I-LOC\n",
      "m06 I-LOC\n",
      "ቁጥር I-LOC\n",
      "2 I-LOC\n",
      "ጀሞ I-LOC\n",
      "መስታወት I-LOC\n",
      "ፋብሪካ I-LOC\n",
      "ጭስ I-LOC\n",
      "መዉጫዉ I-LOC\n",
      "ፊት I-LOC\n",
      "ለፊት I-LOC\n",
      "ራሐ I-LOC\n",
      "ሞል I-LOC\n",
      "ግራዉንድ I-LOC\n",
      "ፍሎር I-LOC\n",
      "ከደረጃዉ I-LOC\n",
      "ጎን I-LOC\n",
      "rm I-LOC\n",
      "g I-LOC\n",
      "- I-LOC\n",
      "06 I-LOC\n",
      "ትልቁ I-LOC\n",
      "ሚና I-LOC\n",
      "ፈርኒቸር I-LOC\n",
      "ያለበት I-LOC\n",
      "ህንፃ I-LOC\n",
      "በሞደርን O\n",
      "እቃወዏች O\n",
      "ሂወትዎን O\n",
      "ሞደርናይዝ O\n",
      "ያድርጉ O\n",
      "\n",
      "\n"
     ]
    }
   ],
   "source": [
    "# Read and print the content of labeled_data.conll\n",
    "with open(\"../data/labeled_data.conll\", \"r\", encoding=\"utf-8\") as file:\n",
    "    content = file.read()\n",
    "    print(content)\n"
   ]
  },
  {
   "cell_type": "code",
   "execution_count": null,
   "id": "fd0435b5-a6a1-499f-848b-fd46d505a41a",
   "metadata": {},
   "outputs": [],
   "source": []
  },
  {
   "cell_type": "code",
   "execution_count": null,
   "id": "3086fde9-48b1-4e3f-9771-873b87b38654",
   "metadata": {},
   "outputs": [],
   "source": []
  },
  {
   "cell_type": "code",
   "execution_count": null,
   "id": "2217c50f-2066-4a90-b74d-9d3c84194362",
   "metadata": {},
   "outputs": [],
   "source": []
  },
  {
   "cell_type": "code",
   "execution_count": null,
   "id": "50c3ebc0-e2a0-4443-8f85-8c5212a7ac5b",
   "metadata": {},
   "outputs": [],
   "source": []
  },
  {
   "cell_type": "code",
   "execution_count": null,
   "id": "ff75c858-be73-45b5-b59e-91b56e61c7bc",
   "metadata": {},
   "outputs": [],
   "source": []
  },
  {
   "cell_type": "code",
   "execution_count": null,
   "id": "6cfdd5d2-19c4-4e1d-a87e-6ce05e70438a",
   "metadata": {},
   "outputs": [],
   "source": []
  },
  {
   "cell_type": "code",
   "execution_count": null,
   "id": "3ee3a834-461a-43b1-abda-9eca648b234a",
   "metadata": {},
   "outputs": [],
   "source": []
  },
  {
   "cell_type": "code",
   "execution_count": null,
   "id": "1c164854-69ff-42d2-9bf9-f7d8fca4db77",
   "metadata": {},
   "outputs": [],
   "source": []
  },
  {
   "cell_type": "code",
   "execution_count": null,
   "id": "de281fd9-8ee0-476c-9a10-cb31b4e00208",
   "metadata": {},
   "outputs": [],
   "source": []
  }
 ],
 "metadata": {
  "kernelspec": {
   "display_name": "Python 3 (ipykernel)",
   "language": "python",
   "name": "python3"
  },
  "language_info": {
   "codemirror_mode": {
    "name": "ipython",
    "version": 3
   },
   "file_extension": ".py",
   "mimetype": "text/x-python",
   "name": "python",
   "nbconvert_exporter": "python",
   "pygments_lexer": "ipython3",
   "version": "3.12.3"
  }
 },
 "nbformat": 4,
 "nbformat_minor": 5
}
