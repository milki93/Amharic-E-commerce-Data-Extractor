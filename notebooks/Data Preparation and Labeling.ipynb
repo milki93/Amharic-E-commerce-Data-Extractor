{
 "cells": [
  {
   "cell_type": "markdown",
   "id": "b4a59518-4f98-4bd5-91f0-265e3771fd54",
   "metadata": {},
   "source": [
    "### Loaded raw Telegram data (CSV) from e-commerce channels"
   ]
  },
  {
   "cell_type": "code",
   "execution_count": 1,
   "id": "94dc0114-a809-4378-8cec-d8ad6728ba8d",
   "metadata": {},
   "outputs": [],
   "source": [
    "import pandas as pd\n",
    "import re\n",
    "\n",
    "csv_file_path = '../data/telegram_data.csv'\n",
    "df = pd.read_csv(csv_file_path)\n",
    "df['text'] = df['text'].fillna('')\n",
    "df = df[df['text'].str.strip().astype(bool)]\n",
    "df_backup = df.copy()"
   ]
  },
  {
   "cell_type": "markdown",
   "id": "cfd23a63-47af-4fe6-9d3d-861173377fad",
   "metadata": {},
   "source": [
    "### Cleaned & normalized Amharic text"
   ]
  },
  {
   "cell_type": "code",
   "execution_count": 2,
   "id": "ad37ca75-9411-469b-8b7d-4761bbfbfb79",
   "metadata": {},
   "outputs": [],
   "source": [
    "# Data Cleaning \n",
    "\n",
    "def clean_text(text):\n",
    "    \"\"\"\n",
    "    Performs basic text cleaning:\n",
    "    - Converts text to string (handles non-string types)\n",
    "    - Removes URLs, emojis \n",
    "    - Removes special characters and numbers (keeping only letters and basic punctuation)\n",
    "    - Removes extra whitespace\n",
    "    \"\"\"\n",
    "    if not isinstance(text, str):\n",
    "        return \"\"\n",
    "    text = re.sub(r'http\\S+|www\\S+|https\\S+', '', text, flags=re.MULTILINE)\n",
    "    text = re.sub(r'[\\U0001F600-\\U0001F64F\\U0001F300-\\U0001F5FF\\U0001F680-\\U0001F6FF\\U0001F1E0-\\U0001F1FF]+', '', text)\n",
    "    text = re.sub(r'@[A-Za-z0-9_]+|#[A-Za-z0-9_]+', '', text)\n",
    "    text = re.sub(r'[^\\u1200-\\u137F\\s\\w.,!?-]+', '', text) \n",
    "    text = re.sub(r'\\s+', ' ', text).strip()\n",
    "    return text\n",
    "\n",
    "df['cleaned_text'] = df['text'].apply(clean_text)"
   ]
  },
  {
   "cell_type": "code",
   "execution_count": 3,
   "id": "a2ba7ede-6e42-4c50-bb53-6aef92d08004",
   "metadata": {},
   "outputs": [],
   "source": [
    "# Normalize\n",
    "def normalize_text(text):\n",
    "    if not isinstance(text, str):\n",
    "        return \"\"\n",
    "    text = text.strip().casefold()\n",
    "    text = text.replace('\\u1369', '').replace('\\u136A', '').replace('\\u136B', '').replace('\\u136C', '')\n",
    "    text = text.replace('\\u136D', '').replace('\\u136E', '').replace('\\u136F', '').replace('\\u1370', '')\n",
    "    text = text.replace('\\u1371', '').replace('\\u1372', '').replace('\\u1373', '').replace('\\u1374', '')\n",
    "    text = text.replace('\\u1375', '').replace('\\u1376', '').replace('\\u1377', '').replace('\\u1378', '')\n",
    "    text = re.sub(r'\\s+', ' ', text).strip()\n",
    "    return text\n",
    "df['normalized_text'] = df['cleaned_text'].apply(normalize_text)"
   ]
  },
  {
   "cell_type": "markdown",
   "id": "289cfeac-0ef8-417a-abcb-17af0112b885",
   "metadata": {},
   "source": [
    "### Tokenized text using regex"
   ]
  },
  {
   "cell_type": "code",
   "execution_count": 4,
   "id": "9e477905-2880-450f-be7d-f3253ac62637",
   "metadata": {},
   "outputs": [],
   "source": [
    "# Tokenization\n",
    "def tokenize(text):\n",
    "    if not isinstance(text, str):\n",
    "        return []\n",
    "    tokens = re.findall(r'[\\u1200-\\u137F\\w]+|[.,!?-]', text)\n",
    "    return [token for token in tokens if token]\n",
    "\n",
    "df['tokens'] = df['normalized_text'].apply(tokenize)"
   ]
  },
  {
   "cell_type": "markdown",
   "id": "ddc40470-ab11-475b-9d87-dc803828f08b",
   "metadata": {},
   "source": [
    "### Sampled 50 messages"
   ]
  },
  {
   "cell_type": "code",
   "execution_count": 5,
   "id": "fd3c9474-f3a1-4526-897d-55d2c2f3a333",
   "metadata": {},
   "outputs": [],
   "source": [
    "sample_df = df[['tokens']].dropna().sample(50, random_state=42).reset_index(drop=True)\n",
    "\n",
    "# Remove dot and punctuation tokens\n",
    "sample_df['tokens'] = sample_df['tokens'].apply(lambda toks: [t for t in toks if t not in ['.', '..', '...', ',', '!', '?']])"
   ]
  },
  {
   "cell_type": "code",
   "execution_count": 66,
   "id": "d8da5391-ff6b-4a19-83ae-e2610ba4c81f",
   "metadata": {},
   "outputs": [
    {
     "name": "stdout",
     "output_type": "stream",
     "text": [
      "Loaded 50 labeled samples from file.\n"
     ]
    }
   ],
   "source": [
    "labeled_data = []\n",
    "try:\n",
    "    with open(\"../data/labeled_data.conll\", \"r\", encoding=\"utf-8\") as f:\n",
    "        sentence = []\n",
    "        for line in f:\n",
    "            line = line.strip()\n",
    "            if line == \"\":\n",
    "                if sentence:\n",
    "                    labeled_data.append(sentence)\n",
    "                    sentence = []\n",
    "            else:\n",
    "                parts = line.rsplit(\" \", 1)\n",
    "                if len(parts) == 2:\n",
    "                    sentence.append((parts[0], parts[1]))\n",
    "    print(f\"Loaded {len(labeled_data)} labeled samples from file.\")\n",
    "except FileNotFoundError:\n",
    "    print(\"No saved labels found. Starting from scratch.\")\n",
    "    labeled_data = []"
   ]
  },
  {
   "cell_type": "code",
   "execution_count": 67,
   "id": "4c9b5fee-4e5f-4119-a933-b17a6a642ee6",
   "metadata": {},
   "outputs": [],
   "source": [
    "def label_sentence(index):\n",
    "    tokens = sample_df.loc[index, 'tokens']\n",
    "    labeled_sentence = []\n",
    "\n",
    "    print(f\"\\nSample {index + 1}/{len(sample_df)}:\")\n",
    "\n",
    "    for i, token in enumerate(tokens):\n",
    "        print(f\"{i}: {token}\", end=\" -> \")\n",
    "        label = input(\"Label (O, B-Product, I-PRICE, etc.): \").strip()\n",
    "\n",
    "        if \" \" in label:\n",
    "            print(\" Labels should not contain spaces. Try again.\")\n",
    "            label = input(\"Label (no space!): \").strip()\n",
    "\n",
    "        if label == \"\":\n",
    "            label = \"O\"\n",
    "\n",
    "        labeled_sentence.append((token, label))\n",
    "\n",
    "    labeled_data.append(labeled_sentence)\n",
    "    print(f\" Labeled {len(tokens)} tokens in Sample {index + 1}\")"
   ]
  },
  {
   "cell_type": "code",
   "execution_count": 63,
   "id": "0fe1f250-dde5-45d9-ae85-5eb705ae1888",
   "metadata": {},
   "outputs": [
    {
     "name": "stdout",
     "output_type": "stream",
     "text": [
      "\n",
      "Sample 50/50:\n",
      "0: ቴሌግራም -> "
     ]
    },
    {
     "name": "stdin",
     "output_type": "stream",
     "text": [
      "Label (O, B-Product, I-PRICE, etc.):  O\n"
     ]
    },
    {
     "name": "stdout",
     "output_type": "stream",
     "text": [
      "1: t -> "
     ]
    },
    {
     "name": "stdin",
     "output_type": "stream",
     "text": [
      "Label (O, B-Product, I-PRICE, etc.):  O\n"
     ]
    },
    {
     "name": "stdout",
     "output_type": "stream",
     "text": [
      "2: memodernshoppingcenter -> "
     ]
    },
    {
     "name": "stdin",
     "output_type": "stream",
     "text": [
      "Label (O, B-Product, I-PRICE, etc.):  B-LOC\n"
     ]
    },
    {
     "name": "stdout",
     "output_type": "stream",
     "text": [
      "3: በአዲስ -> "
     ]
    },
    {
     "name": "stdin",
     "output_type": "stream",
     "text": [
      "Label (O, B-Product, I-PRICE, etc.):  O\n"
     ]
    },
    {
     "name": "stdout",
     "output_type": "stream",
     "text": [
      "4: ነገረ -> "
     ]
    },
    {
     "name": "stdin",
     "output_type": "stream",
     "text": [
      "Label (O, B-Product, I-PRICE, etc.):  O\n"
     ]
    },
    {
     "name": "stdout",
     "output_type": "stream",
     "text": [
      "5: ሁሌም -> "
     ]
    },
    {
     "name": "stdin",
     "output_type": "stream",
     "text": [
      "Label (O, B-Product, I-PRICE, etc.):  O\n"
     ]
    },
    {
     "name": "stdout",
     "output_type": "stream",
     "text": [
      "6: ቀዳሚዏች -> "
     ]
    },
    {
     "name": "stdin",
     "output_type": "stream",
     "text": [
      "Label (O, B-Product, I-PRICE, etc.):  O\n"
     ]
    },
    {
     "name": "stdout",
     "output_type": "stream",
     "text": [
      "7: ነን -> "
     ]
    },
    {
     "name": "stdin",
     "output_type": "stream",
     "text": [
      "Label (O, B-Product, I-PRICE, etc.):  O\n"
     ]
    },
    {
     "name": "stdout",
     "output_type": "stream",
     "text": [
      "8: የጫማ -> "
     ]
    },
    {
     "name": "stdin",
     "output_type": "stream",
     "text": [
      "Label (O, B-Product, I-PRICE, etc.):  B-Product\n"
     ]
    },
    {
     "name": "stdout",
     "output_type": "stream",
     "text": [
      "9: ማስቀመጫ -> "
     ]
    },
    {
     "name": "stdin",
     "output_type": "stream",
     "text": [
      "Label (O, B-Product, I-PRICE, etc.):  I-Product\n"
     ]
    },
    {
     "name": "stdout",
     "output_type": "stream",
     "text": [
      "10: ፍሬሞቹ -> "
     ]
    },
    {
     "name": "stdin",
     "output_type": "stream",
     "text": [
      "Label (O, B-Product, I-PRICE, etc.):  I-Product\n"
     ]
    },
    {
     "name": "stdout",
     "output_type": "stream",
     "text": [
      "11: የብረት -> "
     ]
    },
    {
     "name": "stdin",
     "output_type": "stream",
     "text": [
      "Label (O, B-Product, I-PRICE, etc.):  O\n"
     ]
    },
    {
     "name": "stdout",
     "output_type": "stream",
     "text": [
      "12: ቱቦዎች -> "
     ]
    },
    {
     "name": "stdin",
     "output_type": "stream",
     "text": [
      "Label (O, B-Product, I-PRICE, etc.):  O\n"
     ]
    },
    {
     "name": "stdout",
     "output_type": "stream",
     "text": [
      "13: የሆኑ -> "
     ]
    },
    {
     "name": "stdin",
     "output_type": "stream",
     "text": [
      "Label (O, B-Product, I-PRICE, etc.):  O\n"
     ]
    },
    {
     "name": "stdout",
     "output_type": "stream",
     "text": [
      "14: መደርደሪያው -> "
     ]
    },
    {
     "name": "stdin",
     "output_type": "stream",
     "text": [
      "Label (O, B-Product, I-PRICE, etc.):  B-Product\n"
     ]
    },
    {
     "name": "stdout",
     "output_type": "stream",
     "text": [
      "15: ብረት -> "
     ]
    },
    {
     "name": "stdin",
     "output_type": "stream",
     "text": [
      "Label (O, B-Product, I-PRICE, etc.):  O\n"
     ]
    },
    {
     "name": "stdout",
     "output_type": "stream",
     "text": [
      "16: የሆነ -> "
     ]
    },
    {
     "name": "stdin",
     "output_type": "stream",
     "text": [
      "Label (O, B-Product, I-PRICE, etc.):  O\n"
     ]
    },
    {
     "name": "stdout",
     "output_type": "stream",
     "text": [
      "17: መገጣጠሚያው -> "
     ]
    },
    {
     "name": "stdin",
     "output_type": "stream",
     "text": [
      "Label (O, B-Product, I-PRICE, etc.):  O\n"
     ]
    },
    {
     "name": "stdout",
     "output_type": "stream",
     "text": [
      "18: ካርቦኔትድ -> "
     ]
    },
    {
     "name": "stdin",
     "output_type": "stream",
     "text": [
      "Label (O, B-Product, I-PRICE, etc.):  O\n"
     ]
    },
    {
     "name": "stdout",
     "output_type": "stream",
     "text": [
      "19: የሆነ -> "
     ]
    },
    {
     "name": "stdin",
     "output_type": "stream",
     "text": [
      "Label (O, B-Product, I-PRICE, etc.):  O\n"
     ]
    },
    {
     "name": "stdout",
     "output_type": "stream",
     "text": [
      "20: ጠንካራ -> "
     ]
    },
    {
     "name": "stdin",
     "output_type": "stream",
     "text": [
      "Label (O, B-Product, I-PRICE, etc.):  O\n"
     ]
    },
    {
     "name": "stdout",
     "output_type": "stream",
     "text": [
      "21: ፕላሰሰቲክ -> "
     ]
    },
    {
     "name": "stdin",
     "output_type": "stream",
     "text": [
      "Label (O, B-Product, I-PRICE, etc.):  O\n"
     ]
    },
    {
     "name": "stdout",
     "output_type": "stream",
     "text": [
      "22: ባለ -> "
     ]
    },
    {
     "name": "stdin",
     "output_type": "stream",
     "text": [
      "Label (O, B-Product, I-PRICE, etc.):  O\n"
     ]
    },
    {
     "name": "stdout",
     "output_type": "stream",
     "text": [
      "23: 9 -> "
     ]
    },
    {
     "name": "stdin",
     "output_type": "stream",
     "text": [
      "Label (O, B-Product, I-PRICE, etc.):  O\n"
     ]
    },
    {
     "name": "stdout",
     "output_type": "stream",
     "text": [
      "24: ደረጃ -> "
     ]
    },
    {
     "name": "stdin",
     "output_type": "stream",
     "text": [
      "Label (O, B-Product, I-PRICE, etc.):  O\n"
     ]
    },
    {
     "name": "stdout",
     "output_type": "stream",
     "text": [
      "25: በሩ -> "
     ]
    },
    {
     "name": "stdin",
     "output_type": "stream",
     "text": [
      "Label (O, B-Product, I-PRICE, etc.):  O\n"
     ]
    },
    {
     "name": "stdout",
     "output_type": "stream",
     "text": [
      "26: በዚፕ -> "
     ]
    },
    {
     "name": "stdin",
     "output_type": "stream",
     "text": [
      "Label (O, B-Product, I-PRICE, etc.):  O\n"
     ]
    },
    {
     "name": "stdout",
     "output_type": "stream",
     "text": [
      "27: የሚዘጋ -> "
     ]
    },
    {
     "name": "stdin",
     "output_type": "stream",
     "text": [
      "Label (O, B-Product, I-PRICE, etc.):  O\n"
     ]
    },
    {
     "name": "stdout",
     "output_type": "stream",
     "text": [
      "28: የካልስ -> "
     ]
    },
    {
     "name": "stdin",
     "output_type": "stream",
     "text": [
      "Label (O, B-Product, I-PRICE, etc.):  O\n"
     ]
    },
    {
     "name": "stdout",
     "output_type": "stream",
     "text": [
      "29: ማስቀመጫ -> "
     ]
    },
    {
     "name": "stdin",
     "output_type": "stream",
     "text": [
      "Label (O, B-Product, I-PRICE, etc.):  O\n"
     ]
    },
    {
     "name": "stdout",
     "output_type": "stream",
     "text": [
      "30: ኪስ -> "
     ]
    },
    {
     "name": "stdin",
     "output_type": "stream",
     "text": [
      "Label (O, B-Product, I-PRICE, etc.):  O\n"
     ]
    },
    {
     "name": "stdout",
     "output_type": "stream",
     "text": [
      "31: ያለው -> "
     ]
    },
    {
     "name": "stdin",
     "output_type": "stream",
     "text": [
      "Label (O, B-Product, I-PRICE, etc.):  O\n"
     ]
    },
    {
     "name": "stdout",
     "output_type": "stream",
     "text": [
      "32: 60cm30cm160m -> "
     ]
    },
    {
     "name": "stdin",
     "output_type": "stream",
     "text": [
      "Label (O, B-Product, I-PRICE, etc.):  O\n"
     ]
    },
    {
     "name": "stdout",
     "output_type": "stream",
     "text": [
      "33: ልብሱ -> "
     ]
    },
    {
     "name": "stdin",
     "output_type": "stream",
     "text": [
      "Label (O, B-Product, I-PRICE, etc.):  O\n"
     ]
    },
    {
     "name": "stdout",
     "output_type": "stream",
     "text": [
      "34: ሸራ -> "
     ]
    },
    {
     "name": "stdin",
     "output_type": "stream",
     "text": [
      "Label (O, B-Product, I-PRICE, etc.):  O\n"
     ]
    },
    {
     "name": "stdout",
     "output_type": "stream",
     "text": [
      "35: የሆነ -> "
     ]
    },
    {
     "name": "stdin",
     "output_type": "stream",
     "text": [
      "Label (O, B-Product, I-PRICE, etc.):  O\n"
     ]
    },
    {
     "name": "stdout",
     "output_type": "stream",
     "text": [
      "36: በተለያየ -> "
     ]
    },
    {
     "name": "stdin",
     "output_type": "stream",
     "text": [
      "Label (O, B-Product, I-PRICE, etc.):  O\n"
     ]
    },
    {
     "name": "stdout",
     "output_type": "stream",
     "text": [
      "37: የከለር -> "
     ]
    },
    {
     "name": "stdin",
     "output_type": "stream",
     "text": [
      "Label (O, B-Product, I-PRICE, etc.):  O\n"
     ]
    },
    {
     "name": "stdout",
     "output_type": "stream",
     "text": [
      "38: አማራጭ -> "
     ]
    },
    {
     "name": "stdin",
     "output_type": "stream",
     "text": [
      "Label (O, B-Product, I-PRICE, etc.):  O\n"
     ]
    },
    {
     "name": "stdout",
     "output_type": "stream",
     "text": [
      "39: የቀረበ -> "
     ]
    },
    {
     "name": "stdin",
     "output_type": "stream",
     "text": [
      "Label (O, B-Product, I-PRICE, etc.):  O\n"
     ]
    },
    {
     "name": "stdout",
     "output_type": "stream",
     "text": [
      "40: ለአጠቃቀም -> "
     ]
    },
    {
     "name": "stdin",
     "output_type": "stream",
     "text": [
      "Label (O, B-Product, I-PRICE, etc.):  O\n"
     ]
    },
    {
     "name": "stdout",
     "output_type": "stream",
     "text": [
      "41: ቀላል -> "
     ]
    },
    {
     "name": "stdin",
     "output_type": "stream",
     "text": [
      "Label (O, B-Product, I-PRICE, etc.):  O\n"
     ]
    },
    {
     "name": "stdout",
     "output_type": "stream",
     "text": [
      "42: በ -> "
     ]
    },
    {
     "name": "stdin",
     "output_type": "stream",
     "text": [
      "Label (O, B-Product, I-PRICE, etc.):  O\n"
     ]
    },
    {
     "name": "stdout",
     "output_type": "stream",
     "text": [
      "43: 4200 -> "
     ]
    },
    {
     "name": "stdin",
     "output_type": "stream",
     "text": [
      "Label (O, B-Product, I-PRICE, etc.):  O\n"
     ]
    },
    {
     "name": "stdout",
     "output_type": "stream",
     "text": [
      "44: 0924743736 -> "
     ]
    },
    {
     "name": "stdin",
     "output_type": "stream",
     "text": [
      "Label (O, B-Product, I-PRICE, etc.):  O\n"
     ]
    },
    {
     "name": "stdout",
     "output_type": "stream",
     "text": [
      "45: 0974978584 -> "
     ]
    },
    {
     "name": "stdin",
     "output_type": "stream",
     "text": [
      "Label (O, B-Product, I-PRICE, etc.):  O\n"
     ]
    },
    {
     "name": "stdout",
     "output_type": "stream",
     "text": [
      "46: በስራችን -> "
     ]
    },
    {
     "name": "stdin",
     "output_type": "stream",
     "text": [
      "Label (O, B-Product, I-PRICE, etc.):  O\n"
     ]
    },
    {
     "name": "stdout",
     "output_type": "stream",
     "text": [
      "47: ላይ -> "
     ]
    },
    {
     "name": "stdin",
     "output_type": "stream",
     "text": [
      "Label (O, B-Product, I-PRICE, etc.):  O\n"
     ]
    },
    {
     "name": "stdout",
     "output_type": "stream",
     "text": [
      "48: ቅሬታ -> "
     ]
    },
    {
     "name": "stdin",
     "output_type": "stream",
     "text": [
      "Label (O, B-Product, I-PRICE, etc.):  O\n"
     ]
    },
    {
     "name": "stdout",
     "output_type": "stream",
     "text": [
      "49: ካለዎት -> "
     ]
    },
    {
     "name": "stdin",
     "output_type": "stream",
     "text": [
      "Label (O, B-Product, I-PRICE, etc.):  O\n"
     ]
    },
    {
     "name": "stdout",
     "output_type": "stream",
     "text": [
      "50: ብቻ -> "
     ]
    },
    {
     "name": "stdin",
     "output_type": "stream",
     "text": [
      "Label (O, B-Product, I-PRICE, etc.):  O\n"
     ]
    },
    {
     "name": "stdout",
     "output_type": "stream",
     "text": [
      "51: በዚህ -> "
     ]
    },
    {
     "name": "stdin",
     "output_type": "stream",
     "text": [
      "Label (O, B-Product, I-PRICE, etc.):  O\n"
     ]
    },
    {
     "name": "stdout",
     "output_type": "stream",
     "text": [
      "52: ስልክ -> "
     ]
    },
    {
     "name": "stdin",
     "output_type": "stream",
     "text": [
      "Label (O, B-Product, I-PRICE, etc.):  O\n"
     ]
    },
    {
     "name": "stdout",
     "output_type": "stream",
     "text": [
      "53: ደዉለዉ -> "
     ]
    },
    {
     "name": "stdin",
     "output_type": "stream",
     "text": [
      "Label (O, B-Product, I-PRICE, etc.):  O\n"
     ]
    },
    {
     "name": "stdout",
     "output_type": "stream",
     "text": [
      "54: ያሳዉቁን። -> "
     ]
    },
    {
     "name": "stdin",
     "output_type": "stream",
     "text": [
      "Label (O, B-Product, I-PRICE, etc.):  O\n"
     ]
    },
    {
     "name": "stdout",
     "output_type": "stream",
     "text": [
      "55: 0961373839 -> "
     ]
    },
    {
     "name": "stdin",
     "output_type": "stream",
     "text": [
      "Label (O, B-Product, I-PRICE, etc.):  O\n"
     ]
    },
    {
     "name": "stdout",
     "output_type": "stream",
     "text": [
      "56: የመረጡትን -> "
     ]
    },
    {
     "name": "stdin",
     "output_type": "stream",
     "text": [
      "Label (O, B-Product, I-PRICE, etc.):  O\n"
     ]
    },
    {
     "name": "stdout",
     "output_type": "stream",
     "text": [
      "57: እቃ -> "
     ]
    },
    {
     "name": "stdin",
     "output_type": "stream",
     "text": [
      "Label (O, B-Product, I-PRICE, etc.):  O\n"
     ]
    },
    {
     "name": "stdout",
     "output_type": "stream",
     "text": [
      "58: ለማዘዝ -> "
     ]
    },
    {
     "name": "stdin",
     "output_type": "stream",
     "text": [
      "Label (O, B-Product, I-PRICE, etc.):  O\n"
     ]
    },
    {
     "name": "stdout",
     "output_type": "stream",
     "text": [
      "59: ከታች -> "
     ]
    },
    {
     "name": "stdin",
     "output_type": "stream",
     "text": [
      "Label (O, B-Product, I-PRICE, etc.):  O\n"
     ]
    },
    {
     "name": "stdout",
     "output_type": "stream",
     "text": [
      "60: ባለዉ -> "
     ]
    },
    {
     "name": "stdin",
     "output_type": "stream",
     "text": [
      "Label (O, B-Product, I-PRICE, etc.):  O\n"
     ]
    },
    {
     "name": "stdout",
     "output_type": "stream",
     "text": [
      "61: የቴሌግራም -> "
     ]
    },
    {
     "name": "stdin",
     "output_type": "stream",
     "text": [
      "Label (O, B-Product, I-PRICE, etc.):  O\n"
     ]
    },
    {
     "name": "stdout",
     "output_type": "stream",
     "text": [
      "62: አድራሻ -> "
     ]
    },
    {
     "name": "stdin",
     "output_type": "stream",
     "text": [
      "Label (O, B-Product, I-PRICE, etc.):  O\n"
     ]
    },
    {
     "name": "stdout",
     "output_type": "stream",
     "text": [
      "63: ይላኩልን -> "
     ]
    },
    {
     "name": "stdin",
     "output_type": "stream",
     "text": [
      "Label (O, B-Product, I-PRICE, etc.):  O\n"
     ]
    },
    {
     "name": "stdout",
     "output_type": "stream",
     "text": [
      "64: t -> "
     ]
    },
    {
     "name": "stdin",
     "output_type": "stream",
     "text": [
      "Label (O, B-Product, I-PRICE, etc.):  O\n"
     ]
    },
    {
     "name": "stdout",
     "output_type": "stream",
     "text": [
      "65: memodernshopping1 -> "
     ]
    },
    {
     "name": "stdin",
     "output_type": "stream",
     "text": [
      "Label (O, B-Product, I-PRICE, etc.):  O\n"
     ]
    },
    {
     "name": "stdout",
     "output_type": "stream",
     "text": [
      "66: t -> "
     ]
    },
    {
     "name": "stdin",
     "output_type": "stream",
     "text": [
      "Label (O, B-Product, I-PRICE, etc.):  O\n"
     ]
    },
    {
     "name": "stdout",
     "output_type": "stream",
     "text": [
      "67: memodernshopping2 -> "
     ]
    },
    {
     "name": "stdin",
     "output_type": "stream",
     "text": [
      "Label (O, B-Product, I-PRICE, etc.):  O\n"
     ]
    },
    {
     "name": "stdout",
     "output_type": "stream",
     "text": [
      "68: አዲስ -> "
     ]
    },
    {
     "name": "stdin",
     "output_type": "stream",
     "text": [
      "Label (O, B-Product, I-PRICE, etc.):  B-LOC\n"
     ]
    },
    {
     "name": "stdout",
     "output_type": "stream",
     "text": [
      "69: አበባ -> "
     ]
    },
    {
     "name": "stdin",
     "output_type": "stream",
     "text": [
      "Label (O, B-Product, I-PRICE, etc.):  I-LOC\n"
     ]
    },
    {
     "name": "stdout",
     "output_type": "stream",
     "text": [
      "70: ዉስጥ -> "
     ]
    },
    {
     "name": "stdin",
     "output_type": "stream",
     "text": [
      "Label (O, B-Product, I-PRICE, etc.):  O\n"
     ]
    },
    {
     "name": "stdout",
     "output_type": "stream",
     "text": [
      "71: ከ150ብር -> "
     ]
    },
    {
     "name": "stdin",
     "output_type": "stream",
     "text": [
      "Label (O, B-Product, I-PRICE, etc.):  B-PRICE\n"
     ]
    },
    {
     "name": "stdout",
     "output_type": "stream",
     "text": [
      "72: እስከ -> "
     ]
    },
    {
     "name": "stdin",
     "output_type": "stream",
     "text": [
      "Label (O, B-Product, I-PRICE, etc.):  I-PRICE\n"
     ]
    },
    {
     "name": "stdout",
     "output_type": "stream",
     "text": [
      "73: 200ብር -> "
     ]
    },
    {
     "name": "stdin",
     "output_type": "stream",
     "text": [
      "Label (O, B-Product, I-PRICE, etc.):  I-PRICE\n"
     ]
    },
    {
     "name": "stdout",
     "output_type": "stream",
     "text": [
      "74: ብቻ -> "
     ]
    },
    {
     "name": "stdin",
     "output_type": "stream",
     "text": [
      "Label (O, B-Product, I-PRICE, etc.):  I-PRICE\n"
     ]
    },
    {
     "name": "stdout",
     "output_type": "stream",
     "text": [
      "75: በማስከፈል -> "
     ]
    },
    {
     "name": "stdin",
     "output_type": "stream",
     "text": [
      "Label (O, B-Product, I-PRICE, etc.):  O\n"
     ]
    },
    {
     "name": "stdout",
     "output_type": "stream",
     "text": [
      "76: ያሉበት -> "
     ]
    },
    {
     "name": "stdin",
     "output_type": "stream",
     "text": [
      "Label (O, B-Product, I-PRICE, etc.):  O\n"
     ]
    },
    {
     "name": "stdout",
     "output_type": "stream",
     "text": [
      "77: ድረስ -> "
     ]
    },
    {
     "name": "stdin",
     "output_type": "stream",
     "text": [
      "Label (O, B-Product, I-PRICE, etc.):  O\n"
     ]
    },
    {
     "name": "stdout",
     "output_type": "stream",
     "text": [
      "78: በፈጣን -> "
     ]
    },
    {
     "name": "stdin",
     "output_type": "stream",
     "text": [
      "Label (O, B-Product, I-PRICE, etc.):  O\n"
     ]
    },
    {
     "name": "stdout",
     "output_type": "stream",
     "text": [
      "79: ሞተረኞቻችን -> "
     ]
    },
    {
     "name": "stdin",
     "output_type": "stream",
     "text": [
      "Label (O, B-Product, I-PRICE, etc.):  O\n"
     ]
    },
    {
     "name": "stdout",
     "output_type": "stream",
     "text": [
      "80: እንልክልዏታለን። -> "
     ]
    },
    {
     "name": "stdin",
     "output_type": "stream",
     "text": [
      "Label (O, B-Product, I-PRICE, etc.):  O\n"
     ]
    },
    {
     "name": "stdout",
     "output_type": "stream",
     "text": [
      "81: ለክፍለ -> "
     ]
    },
    {
     "name": "stdin",
     "output_type": "stream",
     "text": [
      "Label (O, B-Product, I-PRICE, etc.):  O\n"
     ]
    },
    {
     "name": "stdout",
     "output_type": "stream",
     "text": [
      "82: ሀገር -> "
     ]
    },
    {
     "name": "stdin",
     "output_type": "stream",
     "text": [
      "Label (O, B-Product, I-PRICE, etc.):  O\n"
     ]
    },
    {
     "name": "stdout",
     "output_type": "stream",
     "text": [
      "83: ደንበኞቻችን -> "
     ]
    },
    {
     "name": "stdin",
     "output_type": "stream",
     "text": [
      "Label (O, B-Product, I-PRICE, etc.):  O\n"
     ]
    },
    {
     "name": "stdout",
     "output_type": "stream",
     "text": [
      "84: በመነሐሪያ -> "
     ]
    },
    {
     "name": "stdin",
     "output_type": "stream",
     "text": [
      "Label (O, B-Product, I-PRICE, etc.):  O\n"
     ]
    },
    {
     "name": "stdout",
     "output_type": "stream",
     "text": [
      "85: በኩል -> "
     ]
    },
    {
     "name": "stdin",
     "output_type": "stream",
     "text": [
      "Label (O, B-Product, I-PRICE, etc.):  O\n"
     ]
    },
    {
     "name": "stdout",
     "output_type": "stream",
     "text": [
      "86: አድርገን -> "
     ]
    },
    {
     "name": "stdin",
     "output_type": "stream",
     "text": [
      "Label (O, B-Product, I-PRICE, etc.):  O\n"
     ]
    },
    {
     "name": "stdout",
     "output_type": "stream",
     "text": [
      "87: በሹፌር -> "
     ]
    },
    {
     "name": "stdin",
     "output_type": "stream",
     "text": [
      "Label (O, B-Product, I-PRICE, etc.):  O\n"
     ]
    },
    {
     "name": "stdout",
     "output_type": "stream",
     "text": [
      "88: እንልካለን። -> "
     ]
    },
    {
     "name": "stdin",
     "output_type": "stream",
     "text": [
      "Label (O, B-Product, I-PRICE, etc.):  O\n"
     ]
    },
    {
     "name": "stdout",
     "output_type": "stream",
     "text": [
      "89: አድራሻ -> "
     ]
    },
    {
     "name": "stdin",
     "output_type": "stream",
     "text": [
      "Label (O, B-Product, I-PRICE, etc.):  B-LOC\n"
     ]
    },
    {
     "name": "stdout",
     "output_type": "stream",
     "text": [
      "90: ቁጥር -> "
     ]
    },
    {
     "name": "stdin",
     "output_type": "stream",
     "text": [
      "Label (O, B-Product, I-PRICE, etc.):  I-LOC\n"
     ]
    },
    {
     "name": "stdout",
     "output_type": "stream",
     "text": [
      "91: 1 -> "
     ]
    },
    {
     "name": "stdin",
     "output_type": "stream",
     "text": [
      "Label (O, B-Product, I-PRICE, etc.):  I-LOC\n"
     ]
    },
    {
     "name": "stdout",
     "output_type": "stream",
     "text": [
      "92: ጉርድሾላ -> "
     ]
    },
    {
     "name": "stdin",
     "output_type": "stream",
     "text": [
      "Label (O, B-Product, I-PRICE, etc.):  I-LOC\n"
     ]
    },
    {
     "name": "stdout",
     "output_type": "stream",
     "text": [
      "93: ከሴንቸሪ -> "
     ]
    },
    {
     "name": "stdin",
     "output_type": "stream",
     "text": [
      "Label (O, B-Product, I-PRICE, etc.):  I-LOC\n"
     ]
    },
    {
     "name": "stdout",
     "output_type": "stream",
     "text": [
      "94: ሞል -> "
     ]
    },
    {
     "name": "stdin",
     "output_type": "stream",
     "text": [
      "Label (O, B-Product, I-PRICE, etc.):  I-LOC\n"
     ]
    },
    {
     "name": "stdout",
     "output_type": "stream",
     "text": [
      "95: ትንሽ -> "
     ]
    },
    {
     "name": "stdin",
     "output_type": "stream",
     "text": [
      "Label (O, B-Product, I-PRICE, etc.):  I-LOC\n"
     ]
    },
    {
     "name": "stdout",
     "output_type": "stream",
     "text": [
      "96: ዝቅ -> "
     ]
    },
    {
     "name": "stdin",
     "output_type": "stream",
     "text": [
      "Label (O, B-Product, I-PRICE, etc.):  I-LOC\n"
     ]
    },
    {
     "name": "stdout",
     "output_type": "stream",
     "text": [
      "97: እንዳሉ -> "
     ]
    },
    {
     "name": "stdin",
     "output_type": "stream",
     "text": [
      "Label (O, B-Product, I-PRICE, etc.):  I-LOC\n"
     ]
    },
    {
     "name": "stdout",
     "output_type": "stream",
     "text": [
      "98: ሆሊሲቲ -> "
     ]
    },
    {
     "name": "stdin",
     "output_type": "stream",
     "text": [
      "Label (O, B-Product, I-PRICE, etc.):  I-LOC\n"
     ]
    },
    {
     "name": "stdout",
     "output_type": "stream",
     "text": [
      "99: ሴንተር -> "
     ]
    },
    {
     "name": "stdin",
     "output_type": "stream",
     "text": [
      "Label (O, B-Product, I-PRICE, etc.):  I-LOC\n"
     ]
    },
    {
     "name": "stdout",
     "output_type": "stream",
     "text": [
      "100: ላይ -> "
     ]
    },
    {
     "name": "stdin",
     "output_type": "stream",
     "text": [
      "Label (O, B-Product, I-PRICE, etc.):  I-LOC\n"
     ]
    },
    {
     "name": "stdout",
     "output_type": "stream",
     "text": [
      "101: እንደገቡ -> "
     ]
    },
    {
     "name": "stdin",
     "output_type": "stream",
     "text": [
      "Label (O, B-Product, I-PRICE, etc.):  I-LOC\n"
     ]
    },
    {
     "name": "stdout",
     "output_type": "stream",
     "text": [
      "102: ፊትለፊት -> "
     ]
    },
    {
     "name": "stdin",
     "output_type": "stream",
     "text": [
      "Label (O, B-Product, I-PRICE, etc.):  I-LOC\n"
     ]
    },
    {
     "name": "stdout",
     "output_type": "stream",
     "text": [
      "103: ከሊፍቱ -> "
     ]
    },
    {
     "name": "stdin",
     "output_type": "stream",
     "text": [
      "Label (O, B-Product, I-PRICE, etc.):  I-LOC\n"
     ]
    },
    {
     "name": "stdout",
     "output_type": "stream",
     "text": [
      "104: በግራ -> "
     ]
    },
    {
     "name": "stdin",
     "output_type": "stream",
     "text": [
      "Label (O, B-Product, I-PRICE, etc.):  I-LOC\n"
     ]
    },
    {
     "name": "stdout",
     "output_type": "stream",
     "text": [
      "105: በኩል -> "
     ]
    },
    {
     "name": "stdin",
     "output_type": "stream",
     "text": [
      "Label (O, B-Product, I-PRICE, etc.):  I-LOC\n"
     ]
    },
    {
     "name": "stdout",
     "output_type": "stream",
     "text": [
      "106: ሚዛን -> "
     ]
    },
    {
     "name": "stdin",
     "output_type": "stream",
     "text": [
      "Label (O, B-Product, I-PRICE, etc.):  I-LOC\n"
     ]
    },
    {
     "name": "stdout",
     "output_type": "stream",
     "text": [
      "107: ላይ -> "
     ]
    },
    {
     "name": "stdin",
     "output_type": "stream",
     "text": [
      "Label (O, B-Product, I-PRICE, etc.):  I-LOC\n"
     ]
    },
    {
     "name": "stdout",
     "output_type": "stream",
     "text": [
      "108: m06 -> "
     ]
    },
    {
     "name": "stdin",
     "output_type": "stream",
     "text": [
      "Label (O, B-Product, I-PRICE, etc.):  I-LOC\n"
     ]
    },
    {
     "name": "stdout",
     "output_type": "stream",
     "text": [
      "109: ቁጥር -> "
     ]
    },
    {
     "name": "stdin",
     "output_type": "stream",
     "text": [
      "Label (O, B-Product, I-PRICE, etc.):  I-LOC\n"
     ]
    },
    {
     "name": "stdout",
     "output_type": "stream",
     "text": [
      "110: 2 -> "
     ]
    },
    {
     "name": "stdin",
     "output_type": "stream",
     "text": [
      "Label (O, B-Product, I-PRICE, etc.):  I-LOC\n"
     ]
    },
    {
     "name": "stdout",
     "output_type": "stream",
     "text": [
      "111: ጀሞ -> "
     ]
    },
    {
     "name": "stdin",
     "output_type": "stream",
     "text": [
      "Label (O, B-Product, I-PRICE, etc.):  I-LOC\n"
     ]
    },
    {
     "name": "stdout",
     "output_type": "stream",
     "text": [
      "112: መስታወት -> "
     ]
    },
    {
     "name": "stdin",
     "output_type": "stream",
     "text": [
      "Label (O, B-Product, I-PRICE, etc.):  I-LOC\n"
     ]
    },
    {
     "name": "stdout",
     "output_type": "stream",
     "text": [
      "113: ፋብሪካ -> "
     ]
    },
    {
     "name": "stdin",
     "output_type": "stream",
     "text": [
      "Label (O, B-Product, I-PRICE, etc.):  I-LOC\n"
     ]
    },
    {
     "name": "stdout",
     "output_type": "stream",
     "text": [
      "114: ጭስ -> "
     ]
    },
    {
     "name": "stdin",
     "output_type": "stream",
     "text": [
      "Label (O, B-Product, I-PRICE, etc.):  I-LOC\n"
     ]
    },
    {
     "name": "stdout",
     "output_type": "stream",
     "text": [
      "115: መዉጫዉ -> "
     ]
    },
    {
     "name": "stdin",
     "output_type": "stream",
     "text": [
      "Label (O, B-Product, I-PRICE, etc.):  I-LOC\n"
     ]
    },
    {
     "name": "stdout",
     "output_type": "stream",
     "text": [
      "116: ፊትለፊት -> "
     ]
    },
    {
     "name": "stdin",
     "output_type": "stream",
     "text": [
      "Label (O, B-Product, I-PRICE, etc.):  I-LOC\n"
     ]
    },
    {
     "name": "stdout",
     "output_type": "stream",
     "text": [
      "117: ራሐ -> "
     ]
    },
    {
     "name": "stdin",
     "output_type": "stream",
     "text": [
      "Label (O, B-Product, I-PRICE, etc.):  I-LOC\n"
     ]
    },
    {
     "name": "stdout",
     "output_type": "stream",
     "text": [
      "118: ሞል -> "
     ]
    },
    {
     "name": "stdin",
     "output_type": "stream",
     "text": [
      "Label (O, B-Product, I-PRICE, etc.):  I-LOC\n"
     ]
    },
    {
     "name": "stdout",
     "output_type": "stream",
     "text": [
      "119: ግራዉንድ -> "
     ]
    },
    {
     "name": "stdin",
     "output_type": "stream",
     "text": [
      "Label (O, B-Product, I-PRICE, etc.):  I-LOC\n"
     ]
    },
    {
     "name": "stdout",
     "output_type": "stream",
     "text": [
      "120: ፍሎር -> "
     ]
    },
    {
     "name": "stdin",
     "output_type": "stream",
     "text": [
      "Label (O, B-Product, I-PRICE, etc.):  I-LOC\n"
     ]
    },
    {
     "name": "stdout",
     "output_type": "stream",
     "text": [
      "121: ከደረጃዉ -> "
     ]
    },
    {
     "name": "stdin",
     "output_type": "stream",
     "text": [
      "Label (O, B-Product, I-PRICE, etc.):  I-LOC\n"
     ]
    },
    {
     "name": "stdout",
     "output_type": "stream",
     "text": [
      "122: ጎንትልቁ -> "
     ]
    },
    {
     "name": "stdin",
     "output_type": "stream",
     "text": [
      "Label (O, B-Product, I-PRICE, etc.):  I-LOC\n"
     ]
    },
    {
     "name": "stdout",
     "output_type": "stream",
     "text": [
      "123: ሚና -> "
     ]
    },
    {
     "name": "stdin",
     "output_type": "stream",
     "text": [
      "Label (O, B-Product, I-PRICE, etc.):  I-LOC\n"
     ]
    },
    {
     "name": "stdout",
     "output_type": "stream",
     "text": [
      "124: ፈርኒቸር -> "
     ]
    },
    {
     "name": "stdin",
     "output_type": "stream",
     "text": [
      "Label (O, B-Product, I-PRICE, etc.):  I-LOC\n"
     ]
    },
    {
     "name": "stdout",
     "output_type": "stream",
     "text": [
      "125: ያለበት -> "
     ]
    },
    {
     "name": "stdin",
     "output_type": "stream",
     "text": [
      "Label (O, B-Product, I-PRICE, etc.):  I-LOC\n"
     ]
    },
    {
     "name": "stdout",
     "output_type": "stream",
     "text": [
      "126: ህንፃ -> "
     ]
    },
    {
     "name": "stdin",
     "output_type": "stream",
     "text": [
      "Label (O, B-Product, I-PRICE, etc.):  I-LOC\n"
     ]
    },
    {
     "name": "stdout",
     "output_type": "stream",
     "text": [
      "127: በሞደርን -> "
     ]
    },
    {
     "name": "stdin",
     "output_type": "stream",
     "text": [
      "Label (O, B-Product, I-PRICE, etc.):  O\n"
     ]
    },
    {
     "name": "stdout",
     "output_type": "stream",
     "text": [
      "128: እቃወዏች -> "
     ]
    },
    {
     "name": "stdin",
     "output_type": "stream",
     "text": [
      "Label (O, B-Product, I-PRICE, etc.):  O\n"
     ]
    },
    {
     "name": "stdout",
     "output_type": "stream",
     "text": [
      "129: ሂወትዎን -> "
     ]
    },
    {
     "name": "stdin",
     "output_type": "stream",
     "text": [
      "Label (O, B-Product, I-PRICE, etc.):  O\n"
     ]
    },
    {
     "name": "stdout",
     "output_type": "stream",
     "text": [
      "130: ሞደርናይዝ -> "
     ]
    },
    {
     "name": "stdin",
     "output_type": "stream",
     "text": [
      "Label (O, B-Product, I-PRICE, etc.):  O\n"
     ]
    },
    {
     "name": "stdout",
     "output_type": "stream",
     "text": [
      "131: ያድርጉ -> "
     ]
    },
    {
     "name": "stdin",
     "output_type": "stream",
     "text": [
      "Label (O, B-Product, I-PRICE, etc.):  O\n"
     ]
    },
    {
     "name": "stdout",
     "output_type": "stream",
     "text": [
      "✅ Labeled 132 tokens in Sample 50\n"
     ]
    }
   ],
   "source": [
    "# sample_index = len(labeled_data)\n",
    "label_sentence(49)"
   ]
  },
  {
   "cell_type": "markdown",
   "id": "514d93e6-1553-45aa-9c28-89257ab01388",
   "metadata": {},
   "source": [
    "### Save the labled data"
   ]
  },
  {
   "cell_type": "code",
   "execution_count": 68,
   "id": "07a58690-83af-4ab3-9e06-b0d84dcd6ea7",
   "metadata": {},
   "outputs": [
    {
     "name": "stdout",
     "output_type": "stream",
     "text": [
      " Saved\n"
     ]
    }
   ],
   "source": [
    "with open(\"../data/labeled_data.conll\", \"w\", encoding=\"utf-8\") as f:\n",
    "    for sentence in labeled_data:\n",
    "        for token, label in sentence:\n",
    "            f.write(f\"{token} {label}\\n\")\n",
    "        f.write(\"\\n\")\n",
    "print(\" Saved\")\n"
   ]
  },
  {
   "cell_type": "code",
   "execution_count": 69,
   "id": "e68fdfd7-3570-4fe5-a9cc-dea1464e7b4a",
   "metadata": {},
   "outputs": [
    {
     "name": "stdout",
     "output_type": "stream",
     "text": [
      "skechers B-Product\n",
      "archfit B-Product\n",
      "size O\n",
      "40 O\n",
      "41 O\n",
      "42 O\n",
      "43 O\n",
      "price B-PRICE\n",
      "3400 I-PRICE\n",
      "birr I-PRICE\n",
      "አድራሻ B-LOC\n",
      "- I-LOC\n",
      "ሜክሲኮ I-LOC\n",
      "ኮሜርስ I-LOC\n",
      "ጀርባ I-LOC\n",
      "መዚድ I-LOC\n",
      "ፕላዛ I-LOC\n",
      "የመጀመሪያ I-LOC\n",
      "ደረጃ I-LOC\n",
      "እንደወጡ I-LOC\n",
      "101 I-LOC\n",
      "የቢሮ I-LOC\n",
      "ቁጥር I-LOC\n",
      "ያገኙናል I-LOC\n",
      "or O\n",
      "call O\n",
      "0920238243 O\n",
      "ethiobrand O\n",
      "\n",
      "magic O\n",
      "silicone B-Product\n",
      "dish B-Product\n",
      "washing O\n",
      "gloves B-Product\n",
      "high O\n",
      "quality O\n",
      "ወፍራሙ O\n",
      "ዕቃ B-Product\n",
      "ለማጠብ O\n",
      "ቤት O\n",
      "ለማፅዳት O\n",
      "መኪና O\n",
      "ለማጠብ O\n",
      "ለተለያየ O\n",
      "አገልግሎት O\n",
      "የሚውል O\n",
      "ዋጋ፦ B-PRICE\n",
      "350ብር I-PRICE\n",
      "ውስን O\n",
      "ፍሬ O\n",
      "ነው O\n",
      "ያለው O\n",
      "አድራሻ B-LOC\n",
      "መገናኛ_መሰረት_ደፋር_ሞል_ሁለተኛ_ፎቅ I-LOC\n",
      "ቢሮ I-LOC\n",
      "ቁ I-LOC\n",
      "s05s06 I-LOC\n",
      "0902660722 O\n",
      "0928460606 O\n",
      "በtelegram O\n",
      "ለማዘዝ O\n",
      "ይጠቀሙ O\n",
      "ለተጨማሪ O\n",
      "ማብራሪያ O\n",
      "የቴሌግራም O\n",
      "ገፃችን O\n",
      "\n",
      "nike B-Product\n",
      "just O\n",
      "do O\n",
      "it O\n",
      "size O\n",
      "39 O\n",
      "40 O\n",
      "41 O\n",
      "42 O\n",
      "43 O\n",
      "price B-PRICE\n",
      "3400 I-PRICE\n",
      "birr I-PRICE\n",
      "አድራሻ B-LOC\n",
      "- I-LOC\n",
      "ሜክሲኮ I-LOC\n",
      "ኮሜርስ I-LOC\n",
      "ጀርባ I-LOC\n",
      "መዚድ I-LOC\n",
      "ፕላዛ I-LOC\n",
      "የመጀመሪያ I-LOC\n",
      "ደረጃ I-LOC\n",
      "እንደወጡ I-LOC\n",
      "101 I-LOC\n",
      "የቢሮ I-LOC\n",
      "ቁጥር I-LOC\n",
      "ያገኙናል I-LOC\n",
      "or O\n",
      "call O\n",
      "0920238243 O\n",
      "ethiobrand O\n",
      "\n",
      "air O\n",
      "jordan B-ProducT\n",
      "stay O\n",
      "loyal O\n",
      "size O\n",
      "40 O\n",
      "41 O\n",
      "42 O\n",
      "43 O\n",
      "44 O\n",
      "price B-PRICE\n",
      "3400 I-PRICE\n",
      "birr I-PRICE\n",
      "አድራሻ B-LOC\n",
      "- I-LOC\n",
      "ሜክሲኮ I-LOC\n",
      "ኮሜርስ I-LOC\n",
      "ጀርባ I-LOC\n",
      "መዚድ I-LOC\n",
      "ፕላዛ I-LOC\n",
      "የመጀመሪያ I-LOC\n",
      "ደረጃ I-LOC\n",
      "እንደወጡ I-LOC\n",
      "101 I-LOC\n",
      "የቢሮ I-LOC\n",
      "ቁጥር I-LOC\n",
      "ያገኙናል I-LOC\n",
      "or O\n",
      "call O\n",
      "0920238243 O\n",
      "ethiobrand O\n",
      "\n",
      "በረፍት O\n",
      "ቀንዎ O\n",
      "ሱቅ O\n",
      "ላይ O\n",
      "መስተናገድ O\n",
      "ለምትፈልጉ O\n",
      "ውድ O\n",
      "ደንበኞቻችን O\n",
      "ነገ O\n",
      "ከጠዋቱ O\n",
      "430 O\n",
      "_ O\n",
      "ቀኑ O\n",
      "1100 O\n",
      "ድረስ O\n",
      "ሱቃችን O\n",
      "ክፍት O\n",
      "ሁኖ O\n",
      "ይጠብቅዎታል O\n",
      "ሱቅ O\n",
      "መተው O\n",
      "መግዛት O\n",
      "ላልቻላችሁ O\n",
      "በሞተረኞች O\n",
      "ያሉበት O\n",
      "እናደርሳለን O\n",
      "ዘወትር O\n",
      "ሰኞ O\n",
      "_ቅዳሜ O\n",
      "ከጠዋቱ O\n",
      "230 O\n",
      "እስከ O\n",
      "ምሽቱ O\n",
      "200 O\n",
      "ድረስ O\n",
      "ክፍት O\n",
      "መሆኑን O\n",
      "እንገልፃለን O\n",
      "አድራሻ B-LOC\n",
      "መገናኛ_መሰረት_ደፋር_ሞል_ሁለተኛ_ፎቅ I-LOC\n",
      "ቢሮ I-LOC\n",
      "ቁ I-LOC\n",
      "s05s06 I-LOC\n",
      "0902660722 O\n",
      "0928460606 O\n",
      "በtelegram O\n",
      "ለማዘዝ O\n",
      "ይጠቀሙ O\n",
      "ለተጨማሪ O\n",
      "ማብራሪያ O\n",
      "የቴሌግራም O\n",
      "ገፃችን O\n",
      "\n",
      "piclse B-Product\n",
      "loafers I-Product\n",
      "leather I-Product\n",
      "size O\n",
      "39 O\n",
      "40 O\n",
      "41 O\n",
      "42 O\n",
      "43 O\n",
      "44 O\n",
      "price B-PRICE\n",
      "4200 I-PRICE\n",
      "birr I-PRICE\n",
      "አድራሻ B-LOC\n",
      "- I-LOC\n",
      "ሜክሲኮ I-LOC\n",
      "ኮሜርስ I-LOC\n",
      "ጀርባ I-LOC\n",
      "መዚድ I-LOC\n",
      "ፕላዛ I-LOC\n",
      "የመጀመሪያ I-LOC\n",
      "ደረጃ I-LOC\n",
      "እንደወጡ I-LOC\n",
      "101 I-LOC\n",
      "የቢሮ I-LOC\n",
      "ቁጥር I-LOC\n",
      "ያገኙናል I-LOC\n",
      "or O\n",
      "call O\n",
      "0920238243 O\n",
      "ethiobrand O\n",
      "\n",
      "5 O\n",
      "- O\n",
      "in O\n",
      "- O\n",
      "1 O\n",
      "trouser B-Product\n",
      "hanger I-Product\n",
      "የሱሪ B-Product,\n",
      "ማስቀመጫ I-Product,\n",
      "ዋጋ፦ B-PRICE\n",
      "650 I-PRICE\n",
      "ብር I-PRICE\n",
      "ውስን O\n",
      "ፍሬ O\n",
      "ነው O\n",
      "ያለን O\n",
      "አድራሻ B-LOC\n",
      "መገናኛ_መሰረት_ደፋር_ሞል_ሁለተኛ_ፎቅ I-LOC\n",
      "ቢሮ I-LOC\n",
      "ቁ I-LOC\n",
      "s05s06 I-LOC\n",
      "0902660722 O\n",
      "0928460606 O\n",
      "በtelegram O\n",
      "ለማዘዝ O\n",
      "ይጠቀሙ O\n",
      "ለተጨማሪ O\n",
      "ማብራሪያ O\n",
      "የቴሌግራም O\n",
      "ገፃችን O\n",
      "\n",
      "ቴሌግራም O\n",
      "t O\n",
      "memodernshoppingcenter O\n",
      "በአዲስ O\n",
      "ነገረ O\n",
      "ሁሌም O\n",
      "ቀዳሚዏች O\n",
      "ነን O\n",
      "bamboo O\n",
      "serving B-Product\n",
      "tray I-Product\n",
      "100 O\n",
      "ኳሊቲ O\n",
      "ባለ3 O\n",
      "የእንጨት B-Product\n",
      "ሰርቢስ I-Product\n",
      "3የተለያዩ O\n",
      "መጠን O\n",
      "ያላቸው፣በክብና O\n",
      "በ4 O\n",
      "መአዘን O\n",
      "ቅርፅ O\n",
      "የቀረበ O\n",
      "ከንፁህ O\n",
      "ማቴሪያል O\n",
      "የተሰራ O\n",
      "ለቤትዎ O\n",
      "ተጨማሪ O\n",
      "ድምቀት O\n",
      "በ O\n",
      "3500 O\n",
      "የቲክ O\n",
      "ቶክ O\n",
      "ፔጃችንን O\n",
      "ለማግኘት O\n",
      "ሊንኩን O\n",
      "ይጫኑ O\n",
      "0924743736 O\n",
      "0974978584 O\n",
      "በስራችን O\n",
      "ላይ O\n",
      "ቅሬታ O\n",
      "ካለዎት O\n",
      "ብቻ O\n",
      "በዚህ O\n",
      "ስልክ O\n",
      "ደዉለዉ O\n",
      "ያሳዉቁን። O\n",
      "0961373839 O\n",
      "የመረጡትን O\n",
      "እቃ O\n",
      "ለማዘዝ O\n",
      "ከታች O\n",
      "ባለዉ O\n",
      "የቴሌግራም O\n",
      "አድራሻ OO\n",
      "ይላኩልን O\n",
      "t O\n",
      "memodernshopping1 O\n",
      "t O\n",
      "memodernshopping2 O\n",
      "አዲስ B-LOC\n",
      "አበባ I-LOC\n",
      "ዉስጥ O\n",
      "ከ150ብር B-PRICE\n",
      "እስከ O\n",
      "200ብር B-PRICE\n",
      "ብቻ O\n",
      "በማስከፈል O\n",
      "ያሉበት O\n",
      "ድረስ O\n",
      "በፈጣን O\n",
      "ሞተረኞቻችን O\n",
      "እንልክልዏታለን። O\n",
      "ለክፍለ B-LOC\n",
      "ሀገር I-LOC\n",
      "ደንበኞቻችን O\n",
      "በመነሐሪያ B-LOC\n",
      "በኩል O\n",
      "አድርገን O\n",
      "በሹፌር O\n",
      "እንልካለን። O\n",
      "አድራሻ B-LOC\n",
      "ቁጥር I-LOC\n",
      "1 I-LOC\n",
      "ጉርድሾላ I-LOC\n",
      "ከሴንቸሪ I-LOC\n",
      "ሞል I-LOC\n",
      "ትንሽ I-LOC\n",
      "ዝቅ I-LOC\n",
      "እንዳሉ I-LOC\n",
      "ሆሊ I-LOC\n",
      "ሲቲ I-LOC\n",
      "ሴንተር I-LOC\n",
      "ሞል I-LOC\n",
      "ላይ I-LOC\n",
      "እንደገቡ I-LOC\n",
      "ፊትለፊት I-LOC\n",
      "ከሊፍቱ I-LOC\n",
      "በግራ I-LOC\n",
      "በኩል I-LOC\n",
      "ሚዛን I-LOC\n",
      "ላይ I-LOC\n",
      "m06 I-LOC\n",
      "ቁጥር I-LOC\n",
      "2 I-LOC\n",
      "ጀሞ I-LOC\n",
      "መስታወት I-LOC\n",
      "ፋብሪካ I-LOC\n",
      "ጭስ I-LOC\n",
      "መዉጫዉ I-LOC\n",
      "ፊት I-LOC\n",
      "ለፊት I-LOC\n",
      "ራሐ I-LOC\n",
      "ሞል I-LOC\n",
      "ግራዉንድ I-LOC\n",
      "ፍሎር I-LOC\n",
      "ከደረጃዉ I-LOC\n",
      "ጎን I-LOC\n",
      "rm I-LOC\n",
      "g I-LOC\n",
      "- I-LOC\n",
      "06 I-LOC\n",
      "ትልቁ I-LOC\n",
      "ሚና I-LOC\n",
      "ፈርኒቸር I-LOC\n",
      "ያለበት I-LOC\n",
      "ህንፃ I-LOC\n",
      "በሞደርን O\n",
      "እቃወዏች O\n",
      "ሂወትዎን O\n",
      "ሞደርናይዝ O\n",
      "ያድርጉ O\n",
      "\n",
      "leather B-Product\n",
      "comfort O\n",
      "made O\n",
      "in O\n",
      "vietnam B-LOC\n",
      "master O\n",
      "quality O\n",
      "only O\n",
      "in O\n",
      "our O\n",
      "shop O\n",
      "price B-PRICE\n",
      "3 i-PRICE\n",
      "800birr i-PRICE\n",
      "size O\n",
      "41 O\n",
      "42 O\n",
      "43 O\n",
      "free O\n",
      "deliveryያሉበት O\n",
      "ቦታ O\n",
      "ያለተጨማሪ O\n",
      "ክፍያ O\n",
      "እናደርሳለን O\n",
      "ለሱቅና O\n",
      "ብዛት O\n",
      "ተረካቢዎች O\n",
      "ባስተያየት O\n",
      "0977808897 O\n",
      "አድራሻችን B-LOC\n",
      "- I-LOC\n",
      "ቄራ I-LOC\n",
      "ሶፊያ I-LOC\n",
      "ሞል I-LOC\n",
      "ሁለተኛ I-LOC\n",
      "ፎቅ I-LOC\n",
      "ሱ I-LOC\n",
      "ቁ I-LOC\n",
      "216 I-LOC\n",
      "\n",
      "ቴሌግራም O\n",
      "t O\n",
      "memodernshoppingcenter B-LOC\n",
      "በአዲስ O\n",
      "ነገረ O\n",
      "ሁሌም O\n",
      "ቀዳሚዏች O\n",
      "ነን O\n",
      "የታጠቡ O\n",
      "ሳሀኖች O\n",
      "መደርደሪያ B-Product\n",
      "ከሲንክ O\n",
      "በላይ O\n",
      "የሚቀመጥ O\n",
      "ከማይዝግ O\n",
      "ብረት O\n",
      "የተሰራ O\n",
      "የራሱ O\n",
      "ክዳን O\n",
      "ያለዉ O\n",
      "76ስፋት፣80ቁመት፣30 O\n",
      "ጥልቀት O\n",
      "በቀላሉ O\n",
      "የሚገጣጠም O\n",
      "በ O\n",
      "7200 O\n",
      "የቲክ O\n",
      "ቶክ O\n",
      "ፔጃችንን O\n",
      "ለማግኘት O\n",
      "ሊንኩን O\n",
      "ይጫኑ O\n",
      "0924743736 O\n",
      "0974978584 O\n",
      "በስራችን O\n",
      "ላይ O\n",
      "ቅሬታ O\n",
      "ካለዎት O\n",
      "ብቻ O\n",
      "በዚህ O\n",
      "ስልክ O\n",
      "ደዉለዉ O\n",
      "ያሳዉቁን። O\n",
      "0961373839 O\n",
      "የመረጡትን O\n",
      "እቃ O\n",
      "ለማዘዝ O\n",
      "ከታች O\n",
      "ባለዉ O\n",
      "የቴሌግራም O\n",
      "አድራሻ O\n",
      "ይላኩልን O\n",
      "t O\n",
      "memodernshopping1 O\n",
      "t O\n",
      "memodernshopping2 O\n",
      "አዲስ B-LOC\n",
      "አበባ I-LOC\n",
      "ዉስጥ O\n",
      "ከ150ብር B-PRICE\n",
      "እስከ O\n",
      "200ብር B-PRICE\n",
      "ብቻ O\n",
      "በማስከፈል O\n",
      "ያሉበት O\n",
      "ድረስ O\n",
      "በፈጣን O\n",
      "ሞተረኞቻችን O\n",
      "እንልክልዏታለን። O\n",
      "ለክፍለ O\n",
      "ሀገር O\n",
      "ደንበኞቻችን O\n",
      "በመነሐሪያ O\n",
      "በኩል O\n",
      "አድርገን O\n",
      "በሹፌር O\n",
      "እንልካለን። O\n",
      "አድራሻ B-LOC\n",
      "ቁጥር I-LOC\n",
      "1 I-LOC\n",
      "ጉርድሾላ I-LOC\n",
      "ከሴንቸሪ I-LOC\n",
      "ሞል I-LOC\n",
      "ትንሽ I-LOC\n",
      "ዝቅ I-LOC\n",
      "እንዳሉ I-LOC\n",
      "ሆሊ I-LOC\n",
      "ሲቲ I-LOC\n",
      "ሴንተር I-LOC\n",
      "ሞል I-LOC\n",
      "ላይ I-LOC\n",
      "እንደገቡ I-LOC\n",
      "ፊትለፊት I-LOC\n",
      "ከሊፍቱ I-LOC\n",
      "በግራ I-LOC\n",
      "በኩል I-LOC\n",
      "ሚዛን I-LOC\n",
      "ላይ I-LOC\n",
      "m06 I-LOC\n",
      "ቁጥር I-LOC\n",
      "2 I-LOC\n",
      "ጀሞ I-LOC\n",
      "መስታወት I-LOC\n",
      "ፋብሪካ I-LOC\n",
      "ጭስ I-LOC\n",
      "መዉጫዉ I-LOC\n",
      "ፊት I-LOC\n",
      "ለፊት I-LOC\n",
      "ራሐ I-LOC\n",
      "ሞል I-LOC\n",
      "ግራዉንድ I-LOC\n",
      "ፍሎር I-LOC\n",
      "ከደረጃዉ I-LOC\n",
      "ጎን I-LOC\n",
      "rm I-LOC\n",
      "g I-LOC\n",
      "- I-LOC\n",
      "06 I-LOC\n",
      "ትልቁ I-LOC\n",
      "ሚና I-LOC\n",
      "ፈርኒቸር I-LOC\n",
      "ያለበት I-LOC\n",
      "ህንፃ I-LOC\n",
      "በሞደርን o\n",
      "እቃወዏች O\n",
      "ሂወትዎን O\n",
      "ሞደርናይዝ O\n",
      "ያድርጉ O\n",
      "\n",
      "manladuo B-Product\n",
      "suede I-Product\n",
      "chelsea I-Product\n",
      "boots I-Product\n",
      "size O\n",
      "39 O\n",
      "40 O\n",
      "41 O\n",
      "42 O\n",
      "43 O\n",
      "44 O\n",
      "price B-PRICE\n",
      "5400 I-PRICE\n",
      "birr I-PRICE\n",
      "አድራሻ B-LOC\n",
      "- I-LOC\n",
      "ሜክሲኮ I-LOC\n",
      "ኮሜርስ I-LOC\n",
      "ጀርባ I-LOC\n",
      "መዚድ I-LOC\n",
      "ፕላዛ I-LOC\n",
      "የመጀመሪያ I-LOC\n",
      "ደረጃ I-LOC\n",
      "እንደወጡ I-LOC\n",
      "101 I-LOC\n",
      "የቢሮ I-LOC\n",
      "ቁጥር I-LOC\n",
      "ያገኙናል I-LOC\n",
      "or O\n",
      "call O\n",
      "0920238243 O\n",
      "ethiobrand O\n",
      "\n",
      "nike B-Product\n",
      "lebron I-Product\n",
      "witness I-Product\n",
      "size O\n",
      "40 O\n",
      "41 O\n",
      "42 O\n",
      "43 O\n",
      "price B-PRICE\n",
      "3500 I-PRICE\n",
      "birr I-PRICE\n",
      "አድራሻ B-LOC\n",
      "- I-LOC\n",
      "ሜክሲኮ I-LOC\n",
      "ኮሜርስ I-LOC\n",
      "ጀርባ I-LOC\n",
      "መዚድ I-LOC\n",
      "ፕላዛ I-LOC\n",
      "የመጀመሪያ I-LOC\n",
      "ደረጃ I-LOC\n",
      "እንደወጡ I-LOC\n",
      "101 I-LOC\n",
      "የቢሮ I-LOC\n",
      "ቁጥር I-LOC\n",
      "ያገኙናል I-LOC\n",
      "or O\n",
      "call O\n",
      "0920238243 O\n",
      "ethiobrand O\n",
      "\n",
      "vaccuum B-Product\n",
      "flask I-Product\n",
      "set I-Product\n",
      "የፔርሙዝ I-Product\n",
      "ማግ I-Product\n",
      "3 O\n",
      "መጠጫ O\n",
      "ኩባያዎች I-Product\n",
      "ያሉት O\n",
      "ለ O\n",
      "12 O\n",
      "ሰአታት O\n",
      "የሞቀዉን O\n",
      "አሙቆ O\n",
      "የቀዘቀዘዉን O\n",
      "አቀዝቅዞ O\n",
      "ሚያስቀምጥ O\n",
      "ድንገት O\n",
      "ቢወድቅ O\n",
      "እንኳን O\n",
      "ከማይሰበር O\n",
      "ማቴሪያል O\n",
      "የተሰራ O\n",
      "500ሚሊ O\n",
      "ሊትር O\n",
      "የመያዝ O\n",
      "አቅም O\n",
      "ያለዉ O\n",
      "በተለያየ O\n",
      "የከለር O\n",
      "አማራጭ O\n",
      "የቀረበ O\n",
      "ለስጦታ O\n",
      "የሚሆን O\n",
      "የራሱ O\n",
      "ማሸጊያና O\n",
      "መያዣ O\n",
      "ያለዉ O\n",
      "ዋጋ፦ B-PRICE\n",
      "1200 I-PRICE\n",
      "ብር I-PRICE\n",
      "ውስን O\n",
      "ፍሬ O\n",
      "ነው O\n",
      "ያለው O\n",
      "አድራሻ B-LOC\n",
      "መገናኛ_መሰረት_ደፋር_ሞል_ሁለተኛ_ፎቅ I-LOC\n",
      "ቢሮ I-LOC\n",
      "ቁ I-LOC\n",
      "s05s06 I-LOC\n",
      "0902660722 O\n",
      "0928460606 O\n",
      "በtelegram O\n",
      "ለማዘዝ O\n",
      "ይጠቀሙ O\n",
      "ለተጨማሪ O\n",
      "ማብራሪያ O\n",
      "የቴሌግራም O\n",
      "ገፃችን O\n",
      "\n",
      "pristine B-Product\n",
      "2 I-Product\n",
      "loafer I-Product\n",
      "leather I-Product\n",
      "size O\n",
      "40 O\n",
      "41 O\n",
      "42 O\n",
      "43 O\n",
      "44 O\n",
      "price B-PRICE\n",
      "4800 I-PRICE\n",
      "birr I-PRICE\n",
      "አድራሻ B-LOC\n",
      "- I-LOC\n",
      "ሜክሲኮ I-LOC\n",
      "ኮሜርስ I-LOC\n",
      "ጀርባ I-LOC\n",
      "መዚድ I-LOC\n",
      "ፕላዛ I-LOC\n",
      "የመጀመሪያ I-LOC\n",
      "ደረጃ I-LOC\n",
      "እንደወጡ I-LOC\n",
      "101 I-LOC\n",
      "የቢሮ I-LOC\n",
      "ቁጥር I-LOC\n",
      "ያገኙናል I-LOC\n",
      "or O\n",
      "call O\n",
      "0920238243 O\n",
      "ethiobrand O\n",
      "\n",
      "star B-Product\n",
      "wp I-Product\n",
      "low I-Product\n",
      "made O\n",
      "in O\n",
      "vietnam B-LOC\n",
      "master O\n",
      "quality O\n",
      "only O\n",
      "in O\n",
      "our O\n",
      "shop O\n",
      "price B-PRICE\n",
      "3 I-PRICE\n",
      "500birr I-PRICE\n",
      "size O\n",
      "41 O\n",
      "42 O\n",
      "43 O\n",
      "free O\n",
      "deliveryያሉበት O\n",
      "ቦታ o\n",
      "ያለተጨማሪ o\n",
      "ክፍያ o\n",
      "እናደርሳለን o\n",
      "ለሱቅና o\n",
      "ብዛት o\n",
      "ተረካቢዎች O\n",
      "ባስተያየት O\n",
      "0977808897 O\n",
      "አድራሻችን B-LOC\n",
      "- I-LOC\n",
      "ቄራ I-LOC\n",
      "ሶፊያ I-LOC\n",
      "ሞል I-LOC\n",
      "ሁለተኛ I-LOC\n",
      "ፎቅ I-LOC\n",
      "ሱ I-LOC\n",
      "ቁ I-LOC\n",
      "216 I-LOC\n",
      "\n",
      "hp B-Product\n",
      "notebook I-Product\n",
      "15 O\n",
      "6 O\n",
      "core O\n",
      "i7 O\n",
      "10th O\n",
      "generation O\n",
      "16 O\n",
      "gb O\n",
      "𝗗𝗗𝗥4 O\n",
      "512 O\n",
      "gb O\n",
      "ssd O\n",
      "raphics O\n",
      "intel O\n",
      "uhd O\n",
      "graphics O\n",
      "window O\n",
      "11 O\n",
      "pro O\n",
      "4hr O\n",
      "open O\n",
      "box O\n",
      "price B-PRICE\n",
      "46000 I-PRICE\n",
      "birr I-PRICE\n",
      "ለአጭር O\n",
      "መልእክት O\n",
      "ይደዉሉ O\n",
      "አድራሻ B-LOC\n",
      "- I-LOC\n",
      "መገናኛ I-LOC\n",
      "ማራቶን I-LOC\n",
      "የ I-LOC\n",
      "ገበያ I-LOC\n",
      "ማእከል I-LOC\n",
      "በ I-LOC\n",
      "ዋናው I-LOC\n",
      "መግቢያ I-LOC\n",
      "መሬት I-LOC\n",
      "ላይ I-LOC\n",
      "ወይንም I-LOC\n",
      "ግራውንድ I-LOC\n",
      "ፍሎር I-LOC\n",
      "ብቅ I-LOC\n",
      "ይበሉ I-LOC\n",
      "ነቫ I-LOC\n",
      "ኮምፒውተር I-LOC\n",
      "መሆኑን I-LOC\n",
      "ያረጋግጡ I-LOC\n",
      "ድህረ O\n",
      "ገጻችንን O\n",
      "ይጎብኙ O\n",
      "ቴሌግራም O\n",
      "ቻናላችንን O\n",
      "ይቀላቀሉ O\n",
      "\n",
      "space B-Product\n",
      "triangles I-Product\n",
      "for O\n",
      "hangers I-Product\n",
      "12pcs O\n",
      "ዋጋ፦ B-PRICE\n",
      "400ብር I-PRICE\n",
      "ውስን O\n",
      "ፍሬ O\n",
      "ነው O\n",
      "ያለው O\n",
      "አድራሻ B-LOC\n",
      "መገናኛ_መሰረት_ደፋር_ሞል_ሁለተኛ_ፎቅ I-LOC\n",
      "ቢሮ I-LOC\n",
      "ቁ I-LOC\n",
      "s05s06 I-LOC\n",
      "0902660722 O\n",
      "0928460606 O\n",
      "በtelegram O\n",
      "ለማዘዝ O\n",
      "ይጠቀሙ O\n",
      "ለተጨማሪ O\n",
      "ማብራሪያ O\n",
      "የቴሌግራም O\n",
      "ገፃችን O\n",
      "\n",
      "adidas B-Product\n",
      "samba I-Product\n",
      "og I-Product\n",
      "size O\n",
      "40 O\n",
      "41 O\n",
      "42 O\n",
      "43 O\n",
      "price B-PRICE\n",
      "3600 I-PRICE\n",
      "birr I-PRICE\n",
      "አድራሻ B-LOC\n",
      "- I-LOC\n",
      "ሜክሲኮ I-LOC\n",
      "ኮሜርስ I-LOC\n",
      "ጀርባ I-LOC\n",
      "መዚድ I-LOC\n",
      "ፕላዛ I-LOC\n",
      "የመጀመሪያ I-LOC\n",
      "ደረጃ I-LOC\n",
      "እንደወጡ I-LOC\n",
      "101 I-LOC\n",
      "የቢሮ I-LOC\n",
      "ቁጥር I-LOC\n",
      "ያገኙናል I-LOC\n",
      "or O\n",
      "call O\n",
      "0920238243 O\n",
      "ethiobrand O\n",
      "\n",
      "star B-Product\n",
      "wp I-Product\n",
      "low I-Product\n",
      "made O\n",
      "in O\n",
      "vietnam B-LOC\n",
      "master O\n",
      "quality O\n",
      "only O\n",
      "in O\n",
      "our P\n",
      "shop O\n",
      "price B-PRICE\n",
      "3 I-PRICE\n",
      "500birr I-PRICE\n",
      "size O\n",
      "41 O\n",
      "42 O\n",
      "43 O\n",
      "free O\n",
      "deliveryያሉበት O\n",
      "ቦታ O\n",
      "ያለተጨማሪ O\n",
      "ክፍያ O\n",
      "እናደርሳለን O\n",
      "ለሱቅና O\n",
      "ብዛት O\n",
      "ተረካቢዎች O\n",
      "ባስተያየት O\n",
      "0977808897 O\n",
      "አድራሻችን B-LOC\n",
      "- I-LOC\n",
      "ቄራ I-LOC\n",
      "ሶፊያ I-LOC\n",
      "ሞል I-LOC\n",
      "ሁለተኛ I-LOC\n",
      "ፎቅ I-LOC\n",
      "ሱ I-LOC\n",
      "ቁ I-LOC\n",
      "216 I-LOC\n",
      "\n",
      "አልቋል O\n",
      "ለተባላችሁ O\n",
      "በድጋሜ O\n",
      "ገብቷል O\n",
      "only O\n",
      "baby B-Product\n",
      "3in1 I-Product\n",
      "double I-Product\n",
      "bottle I-Product\n",
      "milk O\n",
      "warmer O\n",
      "sterilizer O\n",
      "food O\n",
      "steamer O\n",
      "ለሕፃን O\n",
      "ወተት O\n",
      "ማሞቂያ O\n",
      "በተጨማሪ O\n",
      "ምግብ O\n",
      "ለመቀቀል O\n",
      "የሚሆን O\n",
      "ዋጋ፦ B-PRICE\n",
      "3000 I-PRICE\n",
      "ብር I-PRICE\n",
      "ውስን O\n",
      "ፍሬ O\n",
      "ነው O\n",
      "ያለው O\n",
      "አድራሻ B-LOC\n",
      "መገናኛ_መሰረት_ደፋር_ሞል_ሁለተኛ_ፎቅ I-LOC\n",
      "ቢሮ I-LOC\n",
      "ቁ I-LOC\n",
      "s05s06 I-LOC\n",
      "0902660722 O\n",
      "0928460606 O\n",
      "በtelegram O\n",
      "ለማዘዝ O\n",
      "ይጠቀሙ O\n",
      "ለተጨማሪ O\n",
      "ማብራሪያ O\n",
      "የቴሌግራም O\n",
      "ገፃችን O\n",
      "\n",
      "adidas B-Product\n",
      "duramo I-Product\n",
      "speed I-Product\n",
      "size O\n",
      "40 O\n",
      "41 O\n",
      "42 O\n",
      "43 OO\n",
      "price B-PRICE\n",
      "3600 I-PRICE\n",
      "birr I-PRICE\n",
      "አድራሻ B-LOC\n",
      "- I-LOC\n",
      "ሜክሲኮ I-LOC\n",
      "ኮሜርስ I-LOC\n",
      "ጀርባ I-LOC\n",
      "መዚድ I-LOC\n",
      "ፕላዛ I-LOC\n",
      "የመጀመሪያ I-LOC\n",
      "ደረጃ I-LOC\n",
      "እንደወጡ I-LOC\n",
      "101 I-LOC\n",
      "የቢሮ I-LOC\n",
      "ቁጥር I-LOC\n",
      "ያገኙናል I-LOC\n",
      "or O\n",
      "call O\n",
      "0920238243 O\n",
      "ethiobrand O\n",
      "\n",
      "colombia B-LOC\n",
      "vibram B-Product\n",
      "size O\n",
      "40 O\n",
      "41 O\n",
      "42 O\n",
      "43 O\n",
      "price B-PRICE\n",
      "3700 I-PRICE\n",
      "birr I-PRICE\n",
      "አድራሻ B-LOC\n",
      "- I-LOC\n",
      "ሜክሲኮ I-LOC\n",
      "ኮሜርስ I-LOC\n",
      "ጀርባ I-LOC\n",
      "መዚድ I-LOC\n",
      "ፕላዛ I-LOC\n",
      "የመጀመሪያ I-LOC\n",
      "ደረጃ I-LOC\n",
      "እንደወጡ I-LOC\n",
      "101 I-LOC\n",
      "የቢሮ I-LOC\n",
      "ቁጥር I-LOC\n",
      "ያገኙናል I-LOC\n",
      "or O\n",
      "call O\n",
      "0920238243 O\n",
      "ethiobrand O\n",
      "\n",
      "እሁድ O\n",
      "ሁሌም O\n",
      "ክፍት O\n",
      "ነን O\n",
      "nike O\n",
      "infinity I-Product\n",
      "flow I-Product\n",
      "size O\n",
      "40 O\n",
      "41 O\n",
      "42 O\n",
      "43 O\n",
      "44 O\n",
      "price B-PRICE\n",
      "3500 I-PRICE\n",
      "birr I-PRICE\n",
      "አድራሻ B-LOC\n",
      "- I-LOC\n",
      "ሜክሲኮ I-LOC\n",
      "ኮሜርስ I-LOC\n",
      "ጀርባ I-LOC\n",
      "መዚድ I-LOC\n",
      "ፕላዛ I-LOC\n",
      "የመጀመሪያ I-LOC\n",
      "ደረጃ I-LOC\n",
      "እንደወጡ I-LOC\n",
      "101 I-LOC\n",
      "የቢሮ I-LOC\n",
      "ቁጥር I-LOC\n",
      "ያገኙናል I-LOC\n",
      "or O\n",
      "call O\n",
      "0920238243 O\n",
      "ethiobrand O\n",
      "\n",
      "ቴሌግራም O\n",
      "t O\n",
      "memodernshoppingcenter B-LOC\n",
      "በአዲስ O\n",
      "ነገረ O\n",
      "ሁሌም O\n",
      "ቀዳሚዏች O\n",
      "ነን O\n",
      "honey B-Product\n",
      "comb I-Product\n",
      "fabric I-Product\n",
      "forefoot I-Product\n",
      "pads I-Product\n",
      "ለስላሳ I-Product\n",
      "እና I-Product\n",
      "ምቾት O\n",
      "ያለው O\n",
      "በማንኛውም O\n",
      "ጊዜ O\n",
      "የሚለበስ O\n",
      "በተለይ O\n",
      "ረጅም O\n",
      "ሂል O\n",
      "ላላቸዉ O\n",
      "ጫማዎች O\n",
      "ተመራጭ O\n",
      "ለአጠቃቀም O\n",
      "ቀላል O\n",
      "በ O\n",
      "250 O\n",
      "የቲክ O\n",
      "ቶክ O\n",
      "ፔጃችንን O\n",
      "ለማግኘት O\n",
      "ሊንኩን O\n",
      "ይጫኑ O\n",
      "0924743736 O\n",
      "0974978584 O\n",
      "በስራችን O\n",
      "ላይ O\n",
      "ቅሬታ O\n",
      "ካለዎት O\n",
      "ብቻ O\n",
      "በዚህ O\n",
      "ስልክ O\n",
      "ደዉለዉ O\n",
      "ያሳዉቁን። O\n",
      "0961373839 O\n",
      "የመረጡትን O\n",
      "እቃ O\n",
      "ለማዘዝ O\n",
      "ከታች O\n",
      "ባለዉ O\n",
      "የቴሌግራም O\n",
      "አድራሻ O\n",
      "link O\n",
      "ይላኩልን O\n",
      "t O\n",
      "memodernshopping1 O\n",
      "t O\n",
      "memodernshopping2 O\n",
      "አዲስ B-LOC\n",
      "አበባ I-LOC\n",
      "ዉስጥ O\n",
      "ከ150ብር B-PRICE\n",
      "እስከ O\n",
      "200ብር I-PRICE\n",
      "ብቻ O\n",
      "በማስከፈል O\n",
      "ያሉበት O\n",
      "ድረስ O\n",
      "በፈጣን O\n",
      "ሞተረኞቻችን O\n",
      "እንልክልዏታለን። O\n",
      "ለክፍለ O\n",
      "ሀገር O\n",
      "ደንበኞቻችን O\n",
      "በመነሐሪያ O\n",
      "በኩል O\n",
      "አድርገን O\n",
      "በሹፌር O\n",
      "እንልካለን። O\n",
      "አድራሻ B-LOC\n",
      "ቁጥር I-LOC\n",
      "1 I-LOC\n",
      "ጉርድሾላ I-LOC\n",
      "ከሴንቸሪ I-LOC\n",
      "ሞል I-LOC\n",
      "ትንሽ I-LOC\n",
      "ዝቅ I-LOC\n",
      "እንዳሉ I-LOC\n",
      "ሆሊሲቲ I-LOC\n",
      "ሴንተር I-LOC\n",
      "ላይ I-LOC\n",
      "እንደገቡ I-LOC\n",
      "ፊትለፊት I-LOC\n",
      "ከሊፍቱ I-LOC\n",
      "በግራ I-LOC\n",
      "በኩል I-LOC\n",
      "ሚዛን I-LOC\n",
      "ላይ I-LOC\n",
      "m06 I-LOC\n",
      "ቁጥር I-LOC\n",
      "2 I-LOC\n",
      "ጀሞ I-LOC\n",
      "መስታወት I-LOC\n",
      "ፋብሪካ I-LOC\n",
      "ጭስ I-LOC\n",
      "መዉጫዉ I-LOC\n",
      "ፊትለፊት I-LOC\n",
      "ራሐ I-LOC\n",
      "ሞል I-LOC\n",
      "ግራዉንድ I-LOC\n",
      "ፍሎር I-LOC\n",
      "ከደረጃዉ I-LOC\n",
      "ጎንትልቁ I-LOC\n",
      "ሚና I-LOC\n",
      "ፈርኒቸር I-LOC\n",
      "ያለበት I-LOC\n",
      "ህንፃ I-LOC\n",
      "በሞደርን O\n",
      "እቃወዏች O\n",
      "ሂወትዎን O\n",
      "ሞደርናይዝ O\n",
      "ያድርጉ O\n",
      "\n",
      "waterproof B-Product\n",
      "shower I-Product\n",
      "cap I-Product\n",
      "reusable O\n",
      "ዋጋ፦ B-PRICE\n",
      "200 I-PRICE\n",
      "ብር I-PRICE\n",
      "ውስን O\n",
      "ፍሬ O\n",
      "ነው O\n",
      "ያለው O\n",
      "አድራሻ B-LOC\n",
      "መገናኛ_መሰረት_ደፋር_ሞል_ሁለተኛ_ፎቅ I-LOC\n",
      "ቢሮ I-LOC\n",
      "ቁ I-LOC\n",
      "s05s06 I-LOC\n",
      "0902660722 O\n",
      "0928460606 O\n",
      "በtelegram O\n",
      "ለማዘዝ O\n",
      "ይጠቀሙ O\n",
      "ለተጨማሪ O\n",
      "ማብራሪያ O\n",
      "የቴሌግራም O\n",
      "ገፃችን O\n",
      "\n",
      "ቴሌግራም O\n",
      "t O\n",
      "memodernshoppingcenter B-LOC\n",
      "በአዲስ O\n",
      "ነገረ O\n",
      "ሁሌም O\n",
      "ቀዳሚዏች O\n",
      "ነን O\n",
      "የዉሀ B-Product\n",
      "ማቅረቢያ I-Product\n",
      "ሴት I-Product\n",
      "6 O\n",
      "ዉብ O\n",
      "ብርጭቆዎች B-Product\n",
      "ያሉት O\n",
      "ከንፁህ O\n",
      "ብርጭቆ O\n",
      "የተሰራ O\n",
      "በማራኪ O\n",
      "ዲዛይን O\n",
      "የቀረበ፣1 O\n",
      "75 O\n",
      "ሊትር O\n",
      "የሚይዝ O\n",
      "ክዳኑ O\n",
      "ጎሚኒ O\n",
      "ስላለዉ O\n",
      "ግጥም O\n",
      "ብሎ O\n",
      "የሚዘጋ O\n",
      "ለስጦታ O\n",
      "ቢሉ O\n",
      "ለራስዎ O\n",
      "ተመራጭ O\n",
      "በ O\n",
      "2800 O\n",
      "የቲክ O\n",
      "ቶክ O\n",
      "ፔጃችንን O\n",
      "ለማግኘት O\n",
      "ሊንኩን O\n",
      "ይጫኑ O\n",
      "0924743736 O\n",
      "0974978584 O\n",
      "በስራችን O\n",
      "ላይ O\n",
      "ቅሬታ O\n",
      "ካለዎት O\n",
      "ብቻ O\n",
      "በዚህ O\n",
      "ስልክ O\n",
      "ደዉለዉ O\n",
      "ያሳዉቁን። O\n",
      "0961373839 O\n",
      "የመረጡትን O\n",
      "እቃ O\n",
      "ለማዘዝ O\n",
      "ከታች O\n",
      "ባለዉ O\n",
      "የቴሌግራም O\n",
      "አድራሻ O\n",
      "ይላኩልን O\n",
      "t O\n",
      "memodernshopping1 O\n",
      "t O\n",
      "memodernshopping2 O\n",
      "አዲስ O\n",
      "አበባ I-lOC\n",
      "ዉስጥ O\n",
      "ከ150ብር B-PRICE\n",
      "እስከ I-PRICE\n",
      "200ብር I-PRICE\n",
      "ብቻ I-PRICE\n",
      "በማስከፈል O\n",
      "ያሉበት O\n",
      "ድረስ O\n",
      "በፈጣን O\n",
      "ሞተረኞቻችን O\n",
      "እንልክልዏታለን። O\n",
      "ለክፍለ O\n",
      "ሀገር O\n",
      "ደንበኞቻችን O\n",
      "በመነሐሪያ O\n",
      "በኩል O\n",
      "አድርገን O\n",
      "በሹፌር O\n",
      "እንልካለን። O\n",
      "አድራሻ O\n",
      "ቁጥር I-LOC\n",
      "1 I-LOC\n",
      "ጉርድሾላ I-LOC\n",
      "ከሴንቸሪ I-LOC\n",
      "ሞል I-LOC\n",
      "ትንሽ I-LOC\n",
      "ዝቅ I-LOC\n",
      "እንዳሉ I-LOC\n",
      "ሆሊ I-LOC\n",
      "ሲቲ I-LOC\n",
      "ሴንተር I-LOC\n",
      "ሞል I-LOC\n",
      "ላይ I-LOC\n",
      "እንደገቡ I-LOC\n",
      "ፊትለፊት I-LOC\n",
      "ከሊፍቱ I-LOC\n",
      "በግራ I-LOC\n",
      "በኩል I-LOC\n",
      "ሚዛን I-LOC\n",
      "ላይ I-LOC\n",
      "m06 I-LOC\n",
      "ቁጥር I-LOC\n",
      "2 I-LOC\n",
      "ጀሞ I-LOC\n",
      "መስታወት I-LOC\n",
      "ፋብሪካ I-LOC\n",
      "ጭስ I-LOC\n",
      "መዉጫዉ I-LOC\n",
      "ፊት I-LOC\n",
      "ለፊት I-LOC\n",
      "ራሐ I-LOC\n",
      "ሞል I-LOC\n",
      "ግራዉንድ I-LOC\n",
      "ፍሎር I-LOC\n",
      "ከደረጃዉ I-LOC\n",
      "ጎን I-LOC\n",
      "rm I-LOC\n",
      "g I-LOC\n",
      "- I-LOC\n",
      "06 I-LOC\n",
      "ትልቁ I-LOC\n",
      "ሚና I-LOC\n",
      "ፈርኒቸር I-LOC\n",
      "ያለበት I-LOC\n",
      "ህንፃ I-LOC\n",
      "በሞደርን O\n",
      "እቃወዏች O\n",
      "ሂወትዎን O\n",
      "ሞደርናይዝ O\n",
      "ያድርጉ O\n",
      "\n",
      "colombia B-LOC\n",
      "montrial I-LOC\n",
      "size O\n",
      "40 O\n",
      "41 O\n",
      "42 O\n",
      "43 O\n",
      "price B-PRICE\n",
      "3700 I-PRICE\n",
      "birr I-PRICE\n",
      "አድራሻ B-LOC\n",
      "- I-LOC\n",
      "ሜክሲኮ I-LOC\n",
      "ኮሜርስ I-LOC\n",
      "ጀርባ I-LOC\n",
      "መዚድ I-LOC\n",
      "ፕላዛ I-LOC\n",
      "የመጀመሪያ I-LOC\n",
      "ደረጃ I-LOC\n",
      "እንደወጡ I-LOC\n",
      "101 I-LOC\n",
      "የቢሮ I-LOC\n",
      "ቁጥር I-LOC\n",
      "ያገኙናል I-LOC\n",
      "or O\n",
      "call O\n",
      "0920238243 O\n",
      "ethiobrand O\n",
      "\n",
      "polo B-Product\n",
      "made O\n",
      "in O\n",
      "vietnam B-LOC\n",
      "master O\n",
      "quality O\n",
      "only O\n",
      "in O\n",
      "our O\n",
      "shop O\n",
      "price B-PRICE\n",
      "4 I-PRICE\n",
      "200birr I-PRICE\n",
      "size O\n",
      "41 O\n",
      "42 O\n",
      "43 O\n",
      "free O\n",
      "deliveryያሉበት O\n",
      "ቦታ O\n",
      "ያለተጨማሪ O\n",
      "ክፍያ O\n",
      "እናደርሳለን O\n",
      "ለሱቅና O\n",
      "ብዛት O\n",
      "ተረካቢዎች O\n",
      "ባስተያየት O\n",
      "0977808897 O\n",
      "አድራሻችን O\n",
      "- I-LOC\n",
      "ቄራ I-LOC\n",
      "ሶፊያ I-LOC\n",
      "ሞል I-LOC\n",
      "ሁለተኛ I-LOC\n",
      "ፎቅ I-LOC\n",
      "ሱ I-LOC\n",
      "ቁ I-LOC\n",
      "216 I-LOC\n",
      "\n",
      "high O\n",
      "standard O\n",
      "clothing B-Product\n",
      "made O\n",
      "in O\n",
      "turkey B-LOC\n",
      "master O\n",
      "quality O\n",
      "only O\n",
      "in O\n",
      "our O\n",
      "shop O\n",
      "price B-PRICE\n",
      "2 I-PRICE\n",
      "500birr I-PRICE\n",
      "size O\n",
      "31 O\n",
      "32 O\n",
      "32 O\n",
      "34 O\n",
      "35 O\n",
      "36 O\n",
      "free O\n",
      "deliveryያሉበት O\n",
      "ቦታ O\n",
      "ያለተጨማሪ O\n",
      "ክፍያ O\n",
      "እናደርሳለን O\n",
      "ለሱቅና O\n",
      "ብዛት O\n",
      "ተረካቢዎች O\n",
      "ባስተያየት O\n",
      "0977808897 O\n",
      "አድራሻችን O\n",
      "- I-LOC\n",
      "ቄራ I-LOC\n",
      "ሶፊያ I-LOC\n",
      "ሞል I-LOC\n",
      "ሁለተኛ I-LOC\n",
      "ፎቅ I-LOC\n",
      "ሱ I-LOC\n",
      "ቁ I-LOC\n",
      "216 I-LOC\n",
      "\n",
      "space B-Product\n",
      "triangles I-Product\n",
      "for O\n",
      "hangers I-Product\n",
      "12pcs O\n",
      "ዋጋ፦ B-PRICE\n",
      "400ብር I-PRICE\n",
      "ውስን O\n",
      "ፍሬ O\n",
      "ነው O\n",
      "ያለው O\n",
      "አድራሻ B-LOC\n",
      "መገናኛ_መሰረት_ደፋር_ሞል_ሁለተኛ_ፎቅ I-LOC\n",
      "ቢሮ I-LOC\n",
      "ቁ I-LOC\n",
      "s05s06 I-LOC\n",
      "0902660722 O\n",
      "0928460606 O\n",
      "በtelegram O\n",
      "ለማዘዝ O\n",
      "ይጠቀሙ O\n",
      "ለተጨማሪ O\n",
      "ማብራሪያ O\n",
      "የቴሌግራም O\n",
      "ገፃችን O\n",
      "\n",
      "adidas B-Product\n",
      "bad I-Product\n",
      "bunny I-Product\n",
      "campus I-Product\n",
      "size O\n",
      "40 O\n",
      "41 O\n",
      "42 O\n",
      "43 O\n",
      "44 O\n",
      "price B-PRICE\n",
      "3800 I-PRICE\n",
      "birr I-PRICE\n",
      "አድራሻ B-LOC\n",
      "- I-LOC\n",
      "ሜክሲኮ I-LOC\n",
      "ኮሜርስ I-LOC\n",
      "ጀርባ I-LOC\n",
      "መዚድ I-LOC\n",
      "ፕላዛ I-LOC\n",
      "የመጀመሪያ I-LOC\n",
      "ደረጃ I-LOC\n",
      "እንደወጡ I-LOC\n",
      "101 I-LOC\n",
      "የቢሮ I-LOC\n",
      "ቁጥር I-LOC\n",
      "ያገኙናል I-LOC\n",
      "or O\n",
      "call O\n",
      "0920238243 O\n",
      "ethiobrand O\n",
      "\n",
      "morazora B-Product\n",
      "casual I-Product\n",
      "leather I-Product\n",
      "size O\n",
      "39 O\n",
      "40 O\n",
      "41 O\n",
      "42 O\n",
      "43 O\n",
      "44 O\n",
      "price B-PRICE\n",
      "4200 I-PRICE\n",
      "birr I-PRICE\n",
      "አድራሻ B-LOC\n",
      "- I-LOC\n",
      "ሜክሲኮ I-LOC\n",
      "ኮሜርስ I-LOC\n",
      "ጀርባ I-LOC\n",
      "መዚድ I-LOC\n",
      "ፕላዛ I-LOC\n",
      "የመጀመሪያ I-LOC\n",
      "ደረጃ I-LOC\n",
      "እንደወጡ I-LOC\n",
      "101 I-LOC\n",
      "የቢሮ I-LOC\n",
      "ቁጥር I-LOC\n",
      "ያገኙናል I-LOC\n",
      "or O\n",
      "call O\n",
      "0920238243 O\n",
      "ethiobrand O\n",
      "\n",
      "columbia B-LOC\n",
      "trailstorm B-Product\n",
      "size O\n",
      "40 O\n",
      "41 O\n",
      "42 O\n",
      "43 O\n",
      "44 O\n",
      "price B-PRICE\n",
      "3800 I-PRICE\n",
      "birr I-PRICE\n",
      "አድራሻ B-LOC\n",
      "- I-LOC\n",
      "ሜክሲኮ I-LOC\n",
      "ኮሜርስ I-LOC\n",
      "ጀርባ I-LOC\n",
      "መዚድ I-LOC\n",
      "ፕላዛ I-LOC\n",
      "የመጀመሪያ I-LOC\n",
      "ደረጃ I-LOC\n",
      "እንደወጡ I-LOC\n",
      "101 I-LOC\n",
      "የቢሮ I-LOC\n",
      "ቁጥር I-LOC\n",
      "ያገኙናል I-LOC\n",
      "or O\n",
      "call O\n",
      "0920238243 O\n",
      "ethiobrand O\n",
      "\n",
      "three B-Product\n",
      "- I-Product\n",
      "layer I-Product\n",
      "baby I-Product\n",
      "milk I-Product\n",
      "powder I-Product\n",
      "container I-Product\n",
      "__ O\n",
      "high O\n",
      "quality O\n",
      "__ O\n",
      "__ O\n",
      "three O\n",
      "layer O\n",
      "no O\n",
      "- O\n",
      "spill O\n",
      "baby O\n",
      "feeding O\n",
      "milk O\n",
      "powder O\n",
      "food I-Product\n",
      "dispenser I-Product\n",
      "a I-Product\n",
      "perfect O\n",
      "storage O\n",
      "for O\n",
      "travel O\n",
      "or O\n",
      "home O\n",
      "use O\n",
      "__ O\n",
      "__እናት O\n",
      "ልጇን O\n",
      "ይዛ O\n",
      "የተለያየ O\n",
      "ቦታ O\n",
      "ስትንቀሳቀስ O\n",
      "የዱቄት O\n",
      "ወተት I-Product\n",
      "የመሳሰሉትን O\n",
      "አስፈላጊ O\n",
      "የልጆች O\n",
      "ምግብ O\n",
      "ይዞ O\n",
      "ለመንቀሳቀስ O\n",
      "የሚረዳ O\n",
      "3 O\n",
      "ፓርቲሽን I-Product\n",
      "ያለው I-Product\n",
      "አሪፍ I-Product\n",
      "ኮንቴነር__ I-Product\n",
      "ዋጋ፦ B-PRICE\n",
      "500ብር I-PRICE\n",
      "ውስን O\n",
      "ፍሬ O\n",
      "ነው O\n",
      "ያለው O\n",
      "አድራሻ B-LOC\n",
      "መገናኛ_መሰረት_ደፋር_ሞል_ሁለተኛ_ፎቅ I-LOC\n",
      "ቢሮ I-LOC\n",
      "ቁ I-LOC\n",
      "s05s06 I-LOC\n",
      "0902660722 O\n",
      "0928460606 O\n",
      "በtelegram O\n",
      "ለማዘዝ O\n",
      "ይጠቀሙ O\n",
      "ለተጨማሪ O\n",
      "ማብራሪያ O\n",
      "የቴሌግራም O\n",
      "ገፃችን O\n",
      "\n",
      "from O\n",
      "neva B-Product\n",
      "computer I-Product\n",
      "high O\n",
      "performance O\n",
      "gaming O\n",
      "laptop O\n",
      "features O\n",
      "processor O\n",
      "13th O\n",
      "gen O\n",
      "intel O\n",
      "core O\n",
      "i5 O\n",
      "- O\n",
      "13450hx O\n",
      "processor O\n",
      "2 O\n",
      "4 O\n",
      "ghz O\n",
      "20m O\n",
      "cache O\n",
      "up O\n",
      "to O\n",
      "4 O\n",
      "6 O\n",
      "ghz O\n",
      "10 O\n",
      "cores O\n",
      "6 O\n",
      "p O\n",
      "- O\n",
      "cores O\n",
      "and O\n",
      "4 O\n",
      "e O\n",
      "- O\n",
      "coresmemory O\n",
      "16gb O\n",
      "8gb O\n",
      "so O\n",
      "- O\n",
      "dimm O\n",
      "2 O\n",
      "ddr5 O\n",
      "4800 O\n",
      "mhz O\n",
      "support O\n",
      "up O\n",
      "to O\n",
      "32gb O\n",
      "2x O\n",
      "so O\n",
      "- O\n",
      "dimm O\n",
      "slots O\n",
      "storage O\n",
      "1tb O\n",
      "pcie O\n",
      "4 O\n",
      "0 O\n",
      "nvme O\n",
      "m O\n",
      "2 O\n",
      "ssd O\n",
      "play O\n",
      "over O\n",
      "100 O\n",
      "high O\n",
      "- O\n",
      "quality O\n",
      "pc O\n",
      "games O\n",
      "plus O\n",
      "new O\n",
      "and O\n",
      "upcoming O\n",
      "blockbusters O\n",
      "on O\n",
      "day O\n",
      "one O\n",
      "like O\n",
      "halo O\n",
      "infinite O\n",
      "forza O\n",
      "horizon O\n",
      "5 O\n",
      "and O\n",
      "age O\n",
      "of O\n",
      "empires O\n",
      "and O\n",
      "one O\n",
      "month O\n",
      "of O\n",
      "game O\n",
      "pass O\n",
      "- O\n",
      "including O\n",
      "ea O\n",
      "play O\n",
      "with O\n",
      "new O\n",
      "games O\n",
      "added O\n",
      "all O\n",
      "the O\n",
      "time O\n",
      "there O\n",
      "s O\n",
      "always O\n",
      "something O\n",
      "new O\n",
      "to O\n",
      "play O\n",
      "age O\n",
      "of O\n",
      "empires O\n",
      "iv O\n",
      "back O\n",
      "4 O\n",
      "blood O\n",
      "battlefield O\n",
      "v O\n",
      "forza O\n",
      "horizon O\n",
      "5 O\n",
      "halo O\n",
      "infinite O\n",
      "knockout O\n",
      "city O\n",
      "microsoft O\n",
      "flight O\n",
      "simulator O\n",
      "minecraft OO\n",
      "pc O\n",
      "bundle O\n",
      "need O\n",
      "for O\n",
      "speed O\n",
      "heat O\n",
      "psychonauts2 O\n",
      "the O\n",
      "sims O\n",
      "4 O\n",
      "titanfall O\n",
      "2 O\n",
      "12 O\n",
      "minutes O\n",
      "graphics O\n",
      "nvidia O\n",
      "geforce O\n",
      "rtx O\n",
      "4050 O\n",
      "laptop O\n",
      "gpu O\n",
      "with O\n",
      "mux O\n",
      "switch O\n",
      "nvidia O\n",
      "advanced O\n",
      "optimus O\n",
      "6gb O\n",
      "gddr6 O\n",
      "vram O\n",
      "rog O\n",
      "boost O\n",
      "2420mhz O\n",
      "at O\n",
      "140w O\n",
      "2370mhz O\n",
      "boost O\n",
      "clock50mhz O\n",
      "oc O\n",
      "115w25w O\n",
      "dynamic O\n",
      "boostdisplay O\n",
      "16 O\n",
      "- O\n",
      "inch O\n",
      "fhd O\n",
      "1610 O\n",
      "1920 O\n",
      "x O\n",
      "1200 O\n",
      "wuxga O\n",
      "165hz O\n",
      "ips O\n",
      "- O\n",
      "level O\n",
      "anti O\n",
      "- O\n",
      "glare O\n",
      "display O\n",
      "7ms O\n",
      "250nits O\n",
      "10001 O\n",
      "keyboard O\n",
      "backlit O\n",
      "chiclet O\n",
      "keyboard O\n",
      "4 O\n",
      "- O\n",
      "zone O\n",
      "rgbdesign O\n",
      "2 O\n",
      "26 O\n",
      "3 O\n",
      "04 O\n",
      "cm O\n",
      "2 O\n",
      "50 O\n",
      "kg O\n",
      "weight O\n",
      "90whrs O\n",
      "4s1p O\n",
      "4 O\n",
      "- O\n",
      "cell O\n",
      "li O\n",
      "- O\n",
      "ion O\n",
      "ለአጭር O\n",
      "መልእክት O\n",
      "ይደዉሉ O\n",
      "251912759900 O\n",
      "251920153333 O\n",
      "አድራሻ B-LOC\n",
      "- I-LOC\n",
      "መገናኛ I-LOC\n",
      "ማራቶን I-LOC\n",
      "የ I-LOC\n",
      "ገበያ I-LOC\n",
      "ማእከል I-LOC\n",
      "በ I-LOC\n",
      "ዋናው I-LOC\n",
      "መግቢያ I-LOC\n",
      "መሬት I-LOC\n",
      "ላይ I-LOC\n",
      "ወይንም I-LOC\n",
      "ግራውንድ I-LOC\n",
      "ፍሎር I-LOC\n",
      "ብቅ I-LOC\n",
      "ይበሉ I-LOC\n",
      "ነቫ I-LOC\n",
      "ኮምፒውተር I-LOC\n",
      "መሆኑን I-LOC\n",
      "ያረጋግጡ I-LOC\n",
      "ድህረ O\n",
      "ገጻችንን O\n",
      "ይጎብኙ O\n",
      "ቴሌግራም O\n",
      "ቻናላችንን O\n",
      "ይቀላቀሉ O\n",
      "\n",
      "elitebook B-Product\n",
      "standard I-Product\n",
      "hp I-Product\n",
      "elitebook I-Product\n",
      "touch I-Product\n",
      "screen I-Product\n",
      "14 o\n",
      "ultra o\n",
      "slim o\n",
      "touch o\n",
      "screen o\n",
      "core o\n",
      "i7 o\n",
      "10th o\n",
      "generation o\n",
      "16gb o\n",
      "𝗗𝗗𝗥4 o\n",
      "512gb o\n",
      "ssd o\n",
      "intel o\n",
      "iris o\n",
      "graphics o\n",
      "card o\n",
      "window o\n",
      "10 o\n",
      "pro o\n",
      "7hr o\n",
      "brand o\n",
      "new o\n",
      "price B-PRICE\n",
      "ለአጭር I-PRICE\n",
      "መልእክት B-PRICE\n",
      "አድራሻ B-LOC\n",
      "- I-LOC\n",
      "መገናኛ I-LOC\n",
      "ማራቶን I-LOC\n",
      "የ I-LOC\n",
      "ገበያ I-LOC\n",
      "ማእከል I-LOC\n",
      "በ I-LOC\n",
      "ዋናው I-LOC\n",
      "መግቢያ I-LOC\n",
      "መሬት I-LOC\n",
      "ላይ I-LOC\n",
      "ወይንም I-LOC\n",
      "ግራውንድ I-LOC\n",
      "ፍሎር I-LOC\n",
      "ብቅ I-LOC\n",
      "ይበሉ I-LOC\n",
      "ነቫ I-LOC\n",
      "ኮምፒውተር I-LOC\n",
      "መሆኑን I-LOC\n",
      "ያረጋግጡ I-LOC\n",
      "\n",
      "nike B-Product\n",
      "infinity I-Product\n",
      "flow I-Product\n",
      "size O\n",
      "40 O\n",
      "41 O\n",
      "42 O\n",
      "43 O\n",
      "44 O\n",
      "price B-PRICE\n",
      "3500 I-PRICE\n",
      "birr I-PRICE\n",
      "አድራሻ B-LOC\n",
      "- I-LOC\n",
      "ሜክሲኮ I-LOC\n",
      "ኮሜርስ I-LOC\n",
      "ጀርባ I-LOC\n",
      "መዚድ I-LOC\n",
      "ፕላዛ I-LOC\n",
      "የመጀመሪያ I-LOC\n",
      "ደረጃ I-LOC\n",
      "እንደወጡ I-LOC\n",
      "101 I-LOC\n",
      "የቢሮ I-LOC\n",
      "ቁጥር I-LOC\n",
      "ያገኙናል I-LOC\n",
      "or O\n",
      "call O\n",
      "0920238243 O\n",
      "ethiobrand O\n",
      "\n",
      "nike B-Product\n",
      "infinity I-Product\n",
      "flow I-Product\n",
      "size O\n",
      "40 O\n",
      "41 O\n",
      "42 O\n",
      "43 O\n",
      "44 O\n",
      "price B-PRICE\n",
      "3500 I-PRICE\n",
      "birr I-PRICE\n",
      "አድራሻ B-LOC\n",
      "- I-LOC\n",
      "ሜክሲኮ I-LOC\n",
      "ኮሜርስ I-LOC\n",
      "ጀርባ I-LOC\n",
      "መዚድ I-LOC\n",
      "ፕላዛ I-LOC\n",
      "የመጀመሪያ I-LOC\n",
      "ደረጃ I-LOC\n",
      "እንደወጡ I-LOC\n",
      "101 I-LOC\n",
      "የቢሮ I-LOC\n",
      "ቁጥር I-LOC\n",
      "ያገኙናል I-LOC\n",
      "or O\n",
      "call O\n",
      "0920238243 O\n",
      "ethiobrand O\n",
      "\n",
      "star B-Product\n",
      "wp B-Product\n",
      "made O\n",
      "in 0\n",
      "vietnam B-LOC\n",
      "master O\n",
      "quality O\n",
      "only O\n",
      "in O\n",
      "our O\n",
      "shop O\n",
      "price B-PRICE\n",
      "3 -PRICE\n",
      "500birr I--PRICE\n",
      "size O\n",
      "41 O\n",
      "42 O\n",
      "43 O\n",
      "free O\n",
      "deliveryያሉበት O\n",
      "ቦታ O\n",
      "ያለተጨማሪ O\n",
      "ክፍያ O\n",
      "እናደርሳለን O\n",
      "ለሱቅና O\n",
      "ብዛት O\n",
      "ተረካቢዎች O\n",
      "ባስተያየት O\n",
      "0977808897 O\n",
      "አድራሻችን O\n",
      "- O\n",
      "ቄራ I-LOC\n",
      "ሶፊያ I-LOC\n",
      "ሞል I-LOC\n",
      "ሁለተኛ I-LOC\n",
      "ፎቅ I-LOC\n",
      "ሱ I-LOC\n",
      "ቁ I-LOC\n",
      "216 I-LOC\n",
      "\n",
      "polo B-Product\n",
      "made O\n",
      "in O\n",
      "vietnam B-LOC\n",
      "master O\n",
      "quality O\n",
      "only O\n",
      "in O\n",
      "our O\n",
      "shop O\n",
      "price B-PRICE\n",
      "4 I-PRICE\n",
      "200birr I-PRICE\n",
      "size O\n",
      "41 O\n",
      "42 O\n",
      "43 O\n",
      "free O\n",
      "deliveryያሉበት O\n",
      "ቦታ O\n",
      "ያለተጨማሪ O\n",
      "ክፍያ O\n",
      "እናደርሳለን O\n",
      "ለሱቅና O\n",
      "ብዛት O\n",
      "ተረካቢዎች O\n",
      "ባስተያየት O\n",
      "0977808897 O\n",
      "አድራሻችን B-LOC\n",
      "- B-LOC\n",
      "ቄራ B-LOC\n",
      "ሶፊያ B-LOC\n",
      "ሞል B-LOC\n",
      "ሁለተኛ B-LOC\n",
      "ፎቅ B-LOC\n",
      "ሱ B-LOC\n",
      "ቁ B-LOC\n",
      "216 B-LOC\n",
      "\n",
      "pure B-Product\n",
      "leather I-Product\n",
      "made O\n",
      "in O\n",
      "vietnam B-LOC\n",
      "master O\n",
      "quality O\n",
      "only O\n",
      "in O\n",
      "our O\n",
      "shop O\n",
      "price B-PRICE\n",
      "4 I-PRICE\n",
      "200birr I-PRICE\n",
      "size O\n",
      "41 O\n",
      "42 O\n",
      "43 O\n",
      "free O\n",
      "deliveryያሉበት O\n",
      "ቦታ O\n",
      "ያለተጨማሪ O\n",
      "ክፍያ O\n",
      "እናደርሳለን O\n",
      "ለሱቅና O\n",
      "ብዛት O\n",
      "ተረካቢዎች O\n",
      "ባስተያየት O\n",
      "0977808897 O\n",
      "አድራሻችን B-LOC\n",
      "- I-LOC\n",
      "ቄራ I-LOC\n",
      "ሶፊያ I-LOC\n",
      "ሞል I-LOC\n",
      "ሁለተኛ I-LOC\n",
      "ፎቅ I-LOC\n",
      "ሱ I-LOC\n",
      "ቁ I-LOC\n",
      "216 I-LOC\n",
      "\n",
      "ለመላዉ O\n",
      "የክርስትና O\n",
      "እምነት O\n",
      "ተከታይ O\n",
      "በሙሉ O\n",
      "እንኳንለብርሃነ O\n",
      "ትንሳኤዉ O\n",
      "በሰላም O\n",
      "አደረሳችሁመጪዉ O\n",
      "ዘመን O\n",
      "የሰላም O\n",
      "የአንድነት O\n",
      "የመተሳሰብና O\n",
      "የበረከት O\n",
      "እንዲሆንልን O\n",
      "እንመኛለን O\n",
      "\n",
      "13pc B-Product\n",
      "portable I-Product\n",
      "health I-Product\n",
      "care I-Product\n",
      "kit I-Product\n",
      "designed O\n",
      "for O\n",
      "newborn O\n",
      "babies O\n",
      "13 O\n",
      "pieces O\n",
      "of O\n",
      "baby O\n",
      "care O\n",
      "set O\n",
      "stored O\n",
      "in O\n",
      "a O\n",
      "carton O\n",
      "for O\n",
      "easy O\n",
      "storage O\n",
      "organizing O\n",
      "simple O\n",
      "convenient O\n",
      "and O\n",
      "easy O\n",
      "to O\n",
      "use O\n",
      "made O\n",
      "of O\n",
      "green O\n",
      "materials O\n",
      "to O\n",
      "care O\n",
      "for O\n",
      "the O\n",
      "babys O\n",
      "growth O\n",
      "effectively O\n",
      "protect O\n",
      "babys O\n",
      "health O\n",
      "new O\n",
      "and O\n",
      "high O\n",
      "quality O\n",
      "ዋጋ፦ O\n",
      "1100 I-PRICE\n",
      "ብር I-PRICE\n",
      "ውስን O\n",
      "ፍሬ O\n",
      "ነው O\n",
      "ያለው O\n",
      "አድራሻ B-LOC\n",
      "መገናኛ_መሰረት_ደፋር_ሞል_ሁለተኛ_ፎቅ I-LOC\n",
      "ቢሮ I-LOC\n",
      "ቁ I-LOC\n",
      "s05s06 I-LOC\n",
      "0902660722 O\n",
      "0928460606 O\n",
      "በtelegram O\n",
      "ለማዘዝ O\n",
      "ይጠቀሙ O\n",
      "ለተጨማሪ O\n",
      "ማብራሪያ O\n",
      "የቴሌግራም O\n",
      "ገፃችን O\n",
      "\n",
      "chekich B-Product\n",
      "made O\n",
      "in O\n",
      "turkey B-LOC\n",
      "master O\n",
      "quality O\n",
      "only O\n",
      "in O\n",
      "our O\n",
      "shop O\n",
      "price B-PRICE\n",
      "5 I-PRICE\n",
      "500birr I-PRICE\n",
      "size O\n",
      "41 O\n",
      "42 O\n",
      "43 O\n",
      "free O\n",
      "deliveryያሉበት O\n",
      "ቦታ O\n",
      "ያለተጨማሪ O\n",
      "ክፍያ O\n",
      "እናደርሳለን O\n",
      "ለሱቅና O\n",
      "ብዛት O\n",
      "ተረካቢዎች O\n",
      "ባስተያየት O\n",
      "0977808897 O\n",
      "አድራሻችን O\n",
      "- I-LOC\n",
      "ቄራ I-LOC\n",
      "ሶፊያ I-LOC\n",
      "ሞል I-LOC\n",
      "ሁለተኛ I-LOC\n",
      "ፎቅ I-LOC\n",
      "ሱ I-LOC\n",
      "ቁ I-LOC\n",
      "216 I-LOC\n",
      "\n",
      "pristine B-Product\n",
      "2 I-Product\n",
      "loafer I-Product\n",
      "leather I-Product\n",
      "size O\n",
      "39 O\n",
      "40 O\n",
      "41 O\n",
      "42 O\n",
      "43 O\n",
      "44 O\n",
      "price B-PRICE\n",
      "4800 I-PRICE\n",
      "birr I-PRICE\n",
      "አድራሻ B-LOC\n",
      "- I-LOC\n",
      "ሜክሲኮ I-LOC\n",
      "ኮሜርስ I-LOC\n",
      "ጀርባ I-LOC\n",
      "መዚድ I-LOC\n",
      "ፕላዛ I-LOC\n",
      "የመጀመሪያ I-LOC\n",
      "ደረጃ I-LOC\n",
      "እንደወጡ I-LOC\n",
      "101 I-LOC\n",
      "የቢሮ I-LOC\n",
      "ቁጥር I-LOC\n",
      "ያገኙናል I-LOC\n",
      "or O\n",
      "call O\n",
      "0920238243 O\n",
      "ethiobrand O\n",
      "\n",
      "under -Product\n",
      "armour I-Product\n",
      "maven I-Product\n",
      "trek I-Product\n",
      "size O\n",
      "40 O\n",
      "41 O\n",
      "42 O\n",
      "43 O\n",
      "44 O\n",
      "price B-PRICE\n",
      "4000 I-PRICE\n",
      "birr I-PRICE\n",
      "አድራሻ B-LOC\n",
      "- I-LOC\n",
      "ሜክሲኮ I-LOC\n",
      "ኮሜርስ I-LOC\n",
      "ጀርባ I-LOC\n",
      "መዚድ I-LOC\n",
      "ፕላዛ I-LOC\n",
      "የመጀመሪያ I-LOC\n",
      "ደረጃ I-LOC\n",
      "እንደወጡ I-LOC\n",
      "101 I-LOC\n",
      "የቢሮ I-LOC\n",
      "ቁጥር I-LOC\n",
      "ያገኙናል I-LOC\n",
      "or I-LOC\n",
      "call O\n",
      "0920238243 O\n",
      "ethiobrand O\n",
      "\n",
      "over B-Product\n",
      "toilet I-Product\n",
      "storage I-Product\n",
      "rack I-Product\n",
      "የቦታ O\n",
      "ጥበት O\n",
      "ካለብዎ O\n",
      "ይሄ O\n",
      "ያስፈልግዎታል O\n",
      "toiletkitchen B-Product\n",
      "ላይ I-Product\n",
      "ሊጠቀሙበት I-Product\n",
      "ይችላሉ O\n",
      "የንፅህና O\n",
      "ዕቃዎችን፣ O\n",
      "ኮስሞቲክሶች O\n",
      "እና O\n",
      "አትክልትፍራፍሬዎችን B-Product\n",
      "ሊያስቀምጡበት O\n",
      "ይችላሉ O\n",
      "ግድግዳ O\n",
      "መብሳት O\n",
      "አያስፈልግዎትም O\n",
      "ከጠንካራ O\n",
      "ብረት O\n",
      "እና O\n",
      "ፕላስቲክ O\n",
      "የተሰራ O\n",
      "እርጥበትን O\n",
      "የሚቋቋም O\n",
      "የማይዝግ O\n",
      "ማያያዣ O\n",
      "ሁክ O\n",
      "ያለው O\n",
      "ዋጋ፦ B-PRICE\n",
      "1500 I-PRICE\n",
      "ብር I-PRICE\n",
      "ውስን O\n",
      "ፍሬ O\n",
      "ነው O\n",
      "ያለው O\n",
      "አድራሻ B-LOC\n",
      "መገናኛ_መሰረት_ደፋር_ሞል_ሁለተኛ_ፎቅ I-LOC\n",
      "ቢሮ I-LOC\n",
      "ቁ I-LOC\n",
      "s05s06 I-LOC\n",
      "0902660722 O\n",
      "0928460606 O\n",
      "በtelegram O\n",
      "ለማዘዝ O\n",
      "ይጠቀሙ O\n",
      "ለተጨማሪ O\n",
      "ማብራሪያ O\n",
      "የቴሌግራም O\n",
      "ገፃችን O\n",
      "\n",
      "እሁድ O\n",
      "ሁሌም O\n",
      "ክፍት O\n",
      "ነን O\n",
      "skechers B-Product\n",
      "flex I-Product\n",
      "groove I-Product\n",
      "size O\n",
      "40 O\n",
      "41 O\n",
      "42 O\n",
      "43 O\n",
      "price B-PRICE\n",
      "3800 I-PRICE\n",
      "birr I-PRICE\n",
      "አድራሻ B-LOC\n",
      "- I-LOC\n",
      "ሜክሲኮ I-LOC\n",
      "ኮሜርስ I-LOC\n",
      "ጀርባ I-LOC\n",
      "መዚድ I-LOC\n",
      "ፕላዛ I-LOC\n",
      "የመጀመሪያ I-LOC\n",
      "ደረጃ I-LOC\n",
      "እንደወጡ I-LOC\n",
      "101 I-LOC\n",
      "የቢሮ I-LOC\n",
      "ቁጥር I-LOC\n",
      "ያገኙናል I-LOC\n",
      "or O\n",
      "call O\n",
      "0920238243 O\n",
      "ethiobrand O\n",
      "\n",
      "adidas B-Product\n",
      "d I-Product\n",
      "- I-Product\n",
      "rose I-Product\n",
      "chi I-Product\n",
      "2 I-Product\n",
      "size O\n",
      "40 O\n",
      "41 O\n",
      "42 O\n",
      "43 O\n",
      "44 O\n",
      "price B-PRICE\n",
      "3900 I-PRICE\n",
      "birr I-PRICE\n",
      "አድራሻ B-LOC\n",
      "- I-LOC\n",
      "ሜክሲኮ I-LOC\n",
      "ኮሜርስ I-LOC\n",
      "ጀርባ I-LOC\n",
      "መዚድ I-LOC\n",
      "ፕላዛ I-LOC\n",
      "የመጀመሪያ I-LOC\n",
      "ደረጃ I-LOC\n",
      "እንደወጡ I-LOC\n",
      "101 I-LOC\n",
      "የቢሮ I-LOC\n",
      "ቁጥር I-LOC\n",
      "ያገኙናል I-LOC\n",
      "or O\n",
      "call O\n",
      "0920238243 O\n",
      "ethiobrand O\n",
      "\n",
      "ቴሌግራም O\n",
      "t O\n",
      "memodernshoppingcenter B-LOC\n",
      "በአዲስ O\n",
      "ነገረ O\n",
      "ሁሌም O\n",
      "ቀዳሚዏች O\n",
      "ነን O\n",
      "የጫማ B-Product\n",
      "ማስቀመጫ I-Product\n",
      "ፍሬሞቹ I-Product\n",
      "የብረት O\n",
      "ቱቦዎች O\n",
      "የሆኑ O\n",
      "መደርደሪያው B-Product\n",
      "ብረት O\n",
      "የሆነ O\n",
      "መገጣጠሚያው O\n",
      "ካርቦኔትድ O\n",
      "የሆነ O\n",
      "ጠንካራ O\n",
      "ፕላሰሰቲክ O\n",
      "ባለ O\n",
      "9 O\n",
      "ደረጃ O\n",
      "በሩ O\n",
      "በዚፕ O\n",
      "የሚዘጋ O\n",
      "የካልስ O\n",
      "ማስቀመጫ O\n",
      "ኪስ O\n",
      "ያለው O\n",
      "60cm30cm160m O\n",
      "ልብሱ O\n",
      "ሸራ O\n",
      "የሆነ O\n",
      "በተለያየ O\n",
      "የከለር O\n",
      "አማራጭ O\n",
      "የቀረበ O\n",
      "ለአጠቃቀም O\n",
      "ቀላል O\n",
      "በ O\n",
      "4200 O\n",
      "0924743736 O\n",
      "0974978584 O\n",
      "በስራችን O\n",
      "ላይ O\n",
      "ቅሬታ O\n",
      "ካለዎት O\n",
      "ብቻ O\n",
      "በዚህ O\n",
      "ስልክ O\n",
      "ደዉለዉ O\n",
      "ያሳዉቁን። O\n",
      "0961373839 O\n",
      "የመረጡትን O\n",
      "እቃ O\n",
      "ለማዘዝ O\n",
      "ከታች O\n",
      "ባለዉ O\n",
      "የቴሌግራም O\n",
      "አድራሻ O\n",
      "ይላኩልን O\n",
      "t O\n",
      "memodernshopping1 O\n",
      "t O\n",
      "memodernshopping2 O\n",
      "አዲስ B-LOC\n",
      "አበባ I-LOC\n",
      "ዉስጥ O\n",
      "ከ150ብር B-PRICE\n",
      "እስከ I-PRICE\n",
      "200ብር I-PRICE\n",
      "ብቻ I-PRICE\n",
      "በማስከፈል O\n",
      "ያሉበት O\n",
      "ድረስ O\n",
      "በፈጣን O\n",
      "ሞተረኞቻችን O\n",
      "እንልክልዏታለን። O\n",
      "ለክፍለ O\n",
      "ሀገር O\n",
      "ደንበኞቻችን O\n",
      "በመነሐሪያ O\n",
      "በኩል O\n",
      "አድርገን O\n",
      "በሹፌር O\n",
      "እንልካለን። O\n",
      "አድራሻ B-LOC\n",
      "ቁጥር I-LOC\n",
      "1 I-LOC\n",
      "ጉርድሾላ I-LOC\n",
      "ከሴንቸሪ I-LOC\n",
      "ሞል I-LOC\n",
      "ትንሽ I-LOC\n",
      "ዝቅ I-LOC\n",
      "እንዳሉ I-LOC\n",
      "ሆሊሲቲ I-LOC\n",
      "ሴንተር I-LOC\n",
      "ላይ I-LOC\n",
      "እንደገቡ I-LOC\n",
      "ፊትለፊት I-LOC\n",
      "ከሊፍቱ I-LOC\n",
      "በግራ I-LOC\n",
      "በኩል I-LOC\n",
      "ሚዛን I-LOC\n",
      "ላይ I-LOC\n",
      "m06 I-LOC\n",
      "ቁጥር I-LOC\n",
      "2 I-LOC\n",
      "ጀሞ I-LOC\n",
      "መስታወት I-LOC\n",
      "ፋብሪካ I-LOC\n",
      "ጭስ I-LOC\n",
      "መዉጫዉ I-LOC\n",
      "ፊትለፊት I-LOC\n",
      "ራሐ I-LOC\n",
      "ሞል I-LOC\n",
      "ግራዉንድ I-LOC\n",
      "ፍሎር I-LOC\n",
      "ከደረጃዉ I-LOC\n",
      "ጎንትልቁ I-LOC\n",
      "ሚና I-LOC\n",
      "ፈርኒቸር I-LOC\n",
      "ያለበት I-LOC\n",
      "ህንፃ I-LOC\n",
      "በሞደርን O\n",
      "እቃወዏች O\n",
      "ሂወትዎን O\n",
      "ሞደርናይዝ O\n",
      "ያድርጉ O\n",
      "\n",
      "\n"
     ]
    }
   ],
   "source": [
    "# Read and print the content of labeled_data.conll\n",
    "with open(\"../data/labeled_data.conll\", \"r\", encoding=\"utf-8\") as file:\n",
    "    content = file.read()\n",
    "    print(content)\n"
   ]
  },
  {
   "cell_type": "code",
   "execution_count": null,
   "id": "fd0435b5-a6a1-499f-848b-fd46d505a41a",
   "metadata": {},
   "outputs": [],
   "source": []
  },
  {
   "cell_type": "code",
   "execution_count": null,
   "id": "3086fde9-48b1-4e3f-9771-873b87b38654",
   "metadata": {},
   "outputs": [],
   "source": []
  },
  {
   "cell_type": "code",
   "execution_count": null,
   "id": "2217c50f-2066-4a90-b74d-9d3c84194362",
   "metadata": {},
   "outputs": [],
   "source": []
  },
  {
   "cell_type": "code",
   "execution_count": null,
   "id": "50c3ebc0-e2a0-4443-8f85-8c5212a7ac5b",
   "metadata": {},
   "outputs": [],
   "source": []
  },
  {
   "cell_type": "code",
   "execution_count": null,
   "id": "ff75c858-be73-45b5-b59e-91b56e61c7bc",
   "metadata": {},
   "outputs": [],
   "source": []
  },
  {
   "cell_type": "code",
   "execution_count": null,
   "id": "6cfdd5d2-19c4-4e1d-a87e-6ce05e70438a",
   "metadata": {},
   "outputs": [],
   "source": []
  },
  {
   "cell_type": "code",
   "execution_count": null,
   "id": "3ee3a834-461a-43b1-abda-9eca648b234a",
   "metadata": {},
   "outputs": [],
   "source": []
  },
  {
   "cell_type": "code",
   "execution_count": null,
   "id": "1c164854-69ff-42d2-9bf9-f7d8fca4db77",
   "metadata": {},
   "outputs": [],
   "source": []
  },
  {
   "cell_type": "code",
   "execution_count": null,
   "id": "de281fd9-8ee0-476c-9a10-cb31b4e00208",
   "metadata": {},
   "outputs": [],
   "source": []
  }
 ],
 "metadata": {
  "kernelspec": {
   "display_name": "Python 3 (ipykernel)",
   "language": "python",
   "name": "python3"
  },
  "language_info": {
   "codemirror_mode": {
    "name": "ipython",
    "version": 3
   },
   "file_extension": ".py",
   "mimetype": "text/x-python",
   "name": "python",
   "nbconvert_exporter": "python",
   "pygments_lexer": "ipython3",
   "version": "3.12.3"
  }
 },
 "nbformat": 4,
 "nbformat_minor": 5
}
