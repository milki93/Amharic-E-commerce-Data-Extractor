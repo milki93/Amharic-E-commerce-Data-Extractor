{
 "cells": [
  {
   "cell_type": "code",
   "execution_count": 2,
   "metadata": {
    "executionInfo": {
     "elapsed": 3,
     "status": "ok",
     "timestamp": 1751229303524,
     "user": {
      "displayName": "Milki Dida",
      "userId": "07464085856863573424"
     },
     "user_tz": -180
    },
    "id": "IB3iUPzqZgp6"
   },
   "outputs": [],
   "source": [
    "# !git clone https://github.com/milki93/Amharic-E-commerce-Data-Extractor.git"
   ]
  },
  {
   "cell_type": "code",
   "execution_count": 3,
   "metadata": {
    "colab": {
     "base_uri": "https://localhost:8080/"
    },
    "executionInfo": {
     "elapsed": 28991,
     "status": "ok",
     "timestamp": 1751229336296,
     "user": {
      "displayName": "Milki Dida",
      "userId": "07464085856863573424"
     },
     "user_tz": -180
    },
    "id": "qk4spN-LZhkr",
    "outputId": "bda24bb3-faa9-4b87-cc08-a07f50f91c73"
   },
   "outputs": [
    {
     "name": "stdout",
     "output_type": "stream",
     "text": [
      "Mounted at /content/drive\n"
     ]
    }
   ],
   "source": [
    "from google.colab import drive\n",
    "drive.mount('/content/drive')"
   ]
  },
  {
   "cell_type": "markdown",
   "metadata": {
    "id": "VG43AucmbxUF"
   },
   "source": [
    "### Library Imports"
   ]
  },
  {
   "cell_type": "code",
   "execution_count": 5,
   "metadata": {
    "executionInfo": {
     "elapsed": 14,
     "status": "ok",
     "timestamp": 1751229890449,
     "user": {
      "displayName": "Milki Dida",
      "userId": "07464085856863573424"
     },
     "user_tz": -180
    },
    "id": "-qC_7DhDaBJU"
   },
   "outputs": [],
   "source": [
    "import os\n",
    "import numpy as np\n",
    "import pandas as pd\n",
    "import torch\n",
    "from transformers import AutoTokenizer, AutoModelForTokenClassification, pipeline, AutoConfig\n",
    "import re\n",
    "import warnings\n",
    "from datetime import datetime\n",
    "\n",
    "warnings.filterwarnings(\"ignore\", category=FutureWarning)\n",
    "warnings.filterwarnings(\"ignore\", category=UserWarning, module='transformers')"
   ]
  },
  {
   "cell_type": "markdown",
   "metadata": {
    "id": "AJp_l1fOb7IU"
   },
   "source": [
    "### NER Model Loading and Configuration"
   ]
  },
  {
   "cell_type": "code",
   "execution_count": 6,
   "metadata": {
    "colab": {
     "base_uri": "https://localhost:8080/"
    },
    "executionInfo": {
     "elapsed": 617,
     "status": "ok",
     "timestamp": 1751229953921,
     "user": {
      "displayName": "Milki Dida",
      "userId": "07464085856863573424"
     },
     "user_tz": -180
    },
    "id": "n48zE-cpZpe-",
    "outputId": "2eb59d44-0ec9-4707-8a65-db6bb6866d5b"
   },
   "outputs": [
    {
     "name": "stdout",
     "output_type": "stream",
     "text": [
      "\n",
      "Loading best model from: /content/drive/MyDrive/my_ner_models/bert_base_multilingual_cased/checkpoint-30\n"
     ]
    },
    {
     "name": "stderr",
     "output_type": "stream",
     "text": [
      "Device set to use cpu\n"
     ]
    }
   ],
   "source": [
    "conll_file_path = \"/content/Amharic-E-commerce-Data-Extractor/data/labeled_data.conll\"\n",
    "\n",
    "def parse_conll_file_for_labels(file_path):\n",
    "    unique_tags = set()\n",
    "    with open(file_path, 'r', encoding='utf-8') as f:\n",
    "        for line in f:\n",
    "            line = line.strip()\n",
    "            if line and len(line.split()) == 2:\n",
    "                _, label = line.split()\n",
    "                unique_tags.add(label)\n",
    "    sorted_labels = sorted(list(unique_tags))\n",
    "    if 'O' in sorted_labels:\n",
    "        sorted_labels.remove('O')\n",
    "        sorted_labels.insert(0, 'O')\n",
    "    return sorted_labels\n",
    "\n",
    "label_list = parse_conll_file_for_labels(conll_file_path)\n",
    "id2label = {i: label for i, label in enumerate(label_list)}\n",
    "label2id = {label: i for i, label in enumerate(label_list)}\n",
    "\n",
    "best_model_path = \"/content/drive/MyDrive/my_ner_models/bert_base_multilingual_cased/checkpoint-30\"\n",
    "\n",
    "print(f\"\\nLoading best model from: {best_model_path}\")\n",
    "config_ner = AutoConfig.from_pretrained(best_model_path, num_labels=len(label_list), id2label=id2label, label2id=label2id)\n",
    "model_ner = AutoModelForTokenClassification.from_pretrained(best_model_path, config=config_ner)\n",
    "tokenizer_ner = AutoTokenizer.from_pretrained(best_model_path)\n",
    "model_ner.eval()\n",
    "device = torch.device('cuda' if torch.cuda.is_available() else 'cpu')\n",
    "model_ner.to(device)\n",
    "\n",
    "ner_pipeline = pipeline(\n",
    "    \"ner\",\n",
    "    model=model_ner,\n",
    "    tokenizer=tokenizer_ner,\n",
    "    aggregation_strategy=\"simple\",\n",
    "    device=device\n",
    ")"
   ]
  },
  {
   "cell_type": "markdown",
   "metadata": {
    "id": "c2j9nrGacOja"
   },
   "source": [
    "### Data loading and Preprocessing"
   ]
  },
  {
   "cell_type": "code",
   "execution_count": 8,
   "metadata": {
    "executionInfo": {
     "elapsed": 6,
     "status": "ok",
     "timestamp": 1751230286278,
     "user": {
      "displayName": "Milki Dida",
      "userId": "07464085856863573424"
     },
     "user_tz": -180
    },
    "id": "x_7kQzeLZ-vu"
   },
   "outputs": [],
   "source": [
    "csv_file_path = \"/content/Amharic-E-commerce-Data-Extractor/data/telegram_data.csv\"\n",
    "\n",
    "df_posts = pd.read_csv(csv_file_path)\n",
    "df_posts.rename(columns={'channel': 'vendor_id', 'message_id': 'post_id'}, inplace=True)\n",
    "df_posts['timestamp'] = pd.to_datetime(df_posts['timestamp'], errors='coerce')\n",
    "df_posts.dropna(subset=['timestamp'], inplace=True)\n",
    "df_posts['views'] = pd.to_numeric(df_posts['views'], errors='coerce').fillna(0).astype(int)\n",
    "df_posts['text'] = df_posts['text'].astype(str)\n"
   ]
  },
  {
   "cell_type": "markdown",
   "metadata": {
    "id": "wDOMOdk_ckKk"
   },
   "source": [
    "### Vendor Metric Calculation"
   ]
  },
  {
   "cell_type": "code",
   "execution_count": 9,
   "metadata": {
    "executionInfo": {
     "elapsed": 12,
     "status": "ok",
     "timestamp": 1751230290178,
     "user": {
      "displayName": "Milki Dida",
      "userId": "07464085856863573424"
     },
     "user_tz": -180
    },
    "id": "oRULQrW_cTSv"
   },
   "outputs": [],
   "source": [
    "def extract_entities_from_post(text, ner_pipeline):\n",
    "    entities = ner_pipeline(text)\n",
    "    extracted_products = []\n",
    "    extracted_prices = []\n",
    "    for ent in entities:\n",
    "        if 'Product' in ent['entity_group']:\n",
    "            extracted_products.append(ent['word'])\n",
    "        elif 'PRICE' in ent['entity_group']:\n",
    "            price_str = ent['word'].replace('ብር', '').replace('birr', '').replace('ETB', '').replace(' ', '').replace('፦', '').strip()\n",
    "            numeric_match = re.search(r'\\d[\\d,\\.]*', price_str)\n",
    "            if numeric_match:\n",
    "                try:\n",
    "                    extracted_prices.append(float(numeric_match.group(0).replace(',', '')))\n",
    "                except ValueError:\n",
    "                    continue\n",
    "    return extracted_products, extracted_prices\n",
    "\n",
    "def calculate_vendor_metrics(vendor_posts, ner_pipeline):\n",
    "    if vendor_posts.empty:\n",
    "        return {\n",
    "            'Posting Frequency (posts/week)': 0,\n",
    "            'Average Views per Post': 0,\n",
    "            'Top Performing Post Product': 'N/A',\n",
    "            'Top Performing Post Price': 'N/A',\n",
    "            'Average Price Point (ETB)': 0,\n",
    "            'Number of Posts': 0,\n",
    "            'Total Views': 0,\n",
    "            'Total Products Listed': 0,\n",
    "            'Total Prices Extracted': 0\n",
    "        }\n",
    "\n",
    "    if len(vendor_posts) > 1:\n",
    "        min_date = vendor_posts['timestamp'].min()\n",
    "        max_date = vendor_posts['timestamp'].max()\n",
    "        time_span_days = (max_date - min_date).days\n",
    "        posting_frequency_per_week = (len(vendor_posts) / time_span_days) * 7 if time_span_days > 0 else len(vendor_posts) * 7.0\n",
    "    else:\n",
    "        posting_frequency_per_week = 1.0\n",
    "\n",
    "    avg_views_per_post = vendor_posts['views'].mean()\n",
    "    top_post = vendor_posts.loc[vendor_posts['views'].idxmax()]\n",
    "\n",
    "    all_prices = []\n",
    "    all_products = []\n",
    "    top_post_product = 'N/A'\n",
    "    top_post_price = 'N/A'\n",
    "\n",
    "    for _, row in vendor_posts.iterrows():\n",
    "        products, prices = extract_entities_from_post(row['text'], ner_pipeline)\n",
    "        all_products.extend(products)\n",
    "        all_prices.extend(prices)\n",
    "        if row['post_id'] == top_post['post_id']:\n",
    "            top_post_products, top_post_prices = extract_entities_from_post(top_post['text'], ner_pipeline)\n",
    "            if top_post_products:\n",
    "                top_post_product = \", \".join(top_post_products)\n",
    "            if top_post_prices:\n",
    "                top_post_price = np.mean(top_post_prices)\n",
    "\n",
    "    avg_price_point = np.mean(all_prices) if all_prices else 0\n",
    "\n",
    "    return {\n",
    "        'Posting Frequency (posts/week)': posting_frequency_per_week,\n",
    "        'Average Views per Post': avg_views_per_post,\n",
    "        'Top Performing Post Product': top_post_product,\n",
    "        'Top Performing Post Price': top_post_price,\n",
    "        'Average Price Point (ETB)': avg_price_point,\n",
    "        'Number of Posts': len(vendor_posts),\n",
    "        'Total Views': vendor_posts['views'].sum(),\n",
    "        'Total Products Listed': len(all_products),\n",
    "        'Total Prices Extracted': len(all_prices)\n",
    "    }"
   ]
  },
  {
   "cell_type": "markdown",
   "metadata": {
    "id": "TF6kgWG_cv80"
   },
   "source": [
    "### Lending Score Calculation"
   ]
  },
  {
   "cell_type": "code",
   "execution_count": 10,
   "metadata": {
    "executionInfo": {
     "elapsed": 12,
     "status": "ok",
     "timestamp": 1751230291495,
     "user": {
      "displayName": "Milki Dida",
      "userId": "07464085856863573424"
     },
     "user_tz": -180
    },
    "id": "o8wC7fZvcva6"
   },
   "outputs": [],
   "source": [
    "def calculate_lending_score(metrics):\n",
    "    weight_views = 0.5\n",
    "    weight_frequency = 0.3\n",
    "    weight_price_point = 0.2\n",
    "    price_scaling_factor = 0.01\n",
    "\n",
    "    score = (metrics['Average Views per Post'] * weight_views) + \\\n",
    "            (metrics['Posting Frequency (posts/week)'] * weight_frequency) + \\\n",
    "            (metrics['Average Price Point (ETB)'] * weight_price_point * price_scaling_factor)\n",
    "    return score"
   ]
  },
  {
   "cell_type": "markdown",
   "metadata": {
    "id": "Z-Axv459dFjD"
   },
   "source": [
    "### Scorecard Generation"
   ]
  },
  {
   "cell_type": "code",
   "execution_count": 11,
   "metadata": {
    "colab": {
     "base_uri": "https://localhost:8080/"
    },
    "executionInfo": {
     "elapsed": 148793,
     "status": "ok",
     "timestamp": 1751230441402,
     "user": {
      "displayName": "Milki Dida",
      "userId": "07464085856863573424"
     },
     "user_tz": -180
    },
    "id": "LXCje0U0dAd6",
    "outputId": "f080356a-b59f-43b9-9f99-4e924fb4506d"
   },
   "outputs": [
    {
     "name": "stdout",
     "output_type": "stream",
     "text": [
      "\n",
      "Processing metrics for 5 unique vendors...\n",
      "\n",
      "--- FinTech Vendor Scorecard Summary ---\n",
      "| Vendor ID               |   Avg. Views/Post |   Posts/Week |   Avg. Price (ETB) | Top Post Product   | Top Post Price (ETB)   |   Total Posts |   Total Views |   Total Products Listed |   Total Prices Extracted |   Lending Score |\n",
      "|:------------------------|------------------:|-------------:|-------------------:|:-------------------|:-----------------------|--------------:|--------------:|------------------------:|-------------------------:|----------------:|\n",
      "| @ethio_brand_collection |          27131.8  |         8.64 |            1422.77 | infinity flow      | 3500.0                 |           100 |       2713179 |                     196 |                       65 |        13571.3  |\n",
      "| @modernshoppingcenter   |           8477.77 |        87.5  |               0    | N/A                | N/A                    |           100 |        847777 |                     151 |                        0 |         4265.14 |\n",
      "| @ZemenExpress           |           3832.46 |        50    |               0    | N/A                | N/A                    |           100 |        383246 |                     190 |                        0 |         1931.23 |\n",
      "| @nevacomputer           |           3820.6  |         2.55 |             233    | N/A                | N/A                    |           100 |        382060 |                     748 |                        2 |         1911.53 |\n",
      "| @aradabrand2            |           2642.74 |         2.16 |             441.18 | N/A                | N/A                    |           100 |        264274 |                     123 |                       34 |         1322.9  |\n"
     ]
    }
   ],
   "source": [
    "vendor_scorecard_data = []\n",
    "\n",
    "unique_vendors = df_posts['vendor_id'].unique()\n",
    "print(f\"\\nProcessing metrics for {len(unique_vendors)} unique vendors...\")\n",
    "\n",
    "for vendor_id in unique_vendors:\n",
    "    vendor_posts = df_posts[df_posts['vendor_id'] == vendor_id].copy()\n",
    "    metrics = calculate_vendor_metrics(vendor_posts, ner_pipeline)\n",
    "    lending_score = calculate_lending_score(metrics)\n",
    "\n",
    "    vendor_data = {\n",
    "        'Vendor ID': vendor_id,\n",
    "        'Avg. Views/Post': round(metrics['Average Views per Post'], 2),\n",
    "        'Posts/Week': round(metrics['Posting Frequency (posts/week)'], 2),\n",
    "        'Avg. Price (ETB)': round(metrics['Average Price Point (ETB)'], 2),\n",
    "        'Top Post Product': metrics['Top Performing Post Product'],\n",
    "        'Top Post Price (ETB)': metrics['Top Performing Post Price'] if metrics['Top Performing Post Price'] == 'N/A' else round(metrics['Top Performing Post Price'], 2),\n",
    "        'Total Posts': metrics['Number of Posts'],\n",
    "        'Total Views': metrics['Total Views'],\n",
    "        'Total Products Listed': metrics['Total Products Listed'],\n",
    "        'Total Prices Extracted': metrics['Total Prices Extracted'],\n",
    "        'Lending Score': round(lending_score, 2)\n",
    "    }\n",
    "    vendor_scorecard_data.append(vendor_data)\n",
    "\n",
    "vendor_scorecard_df = pd.DataFrame(vendor_scorecard_data)\n",
    "vendor_scorecard_df = vendor_scorecard_df.sort_values(by='Lending Score', ascending=False).reset_index(drop=True)\n",
    "\n",
    "print(\"\\n--- FinTech Vendor Scorecard Summary ---\")\n",
    "print(vendor_scorecard_df.to_markdown(index=False))\n"
   ]
  },
  {
   "cell_type": "code",
   "execution_count": 12,
   "metadata": {
    "executionInfo": {
     "elapsed": 6,
     "status": "ok",
     "timestamp": 1751230685601,
     "user": {
      "displayName": "Milki Dida",
      "userId": "07464085856863573424"
     },
     "user_tz": -180
    },
    "id": "jV7oDVo_dZ_I"
   },
   "outputs": [],
   "source": [
    "vendor_scorecard_df.to_csv(\"vendor_scorecard.csv\", index=False)"
   ]
  },
  {
   "cell_type": "code",
   "execution_count": 13,
   "metadata": {
    "colab": {
     "base_uri": "https://localhost:8080/"
    },
    "executionInfo": {
     "elapsed": 13,
     "status": "ok",
     "timestamp": 1751230826494,
     "user": {
      "displayName": "Milki Dida",
      "userId": "07464085856863573424"
     },
     "user_tz": -180
    },
    "id": "wRQZhv9Se58x",
    "outputId": "c7f9a597-300f-4886-be88-f7dc08d06f3b"
   },
   "outputs": [
    {
     "name": "stdout",
     "output_type": "stream",
     "text": [
      "cp: cannot stat '/content/drive/My Drive/Colab Notebooks/fintech_vendor_scorecard.ipynb': No such file or directory\n"
     ]
    }
   ],
   "source": [
    "!cp \"/content/drive/My Drive/Colab Notebooks/fintech_vendor_scorecard.ipynb\" /content/Amharic-E-commerce-Data-Extractor/notebooks"
   ]
  },
  {
   "cell_type": "code",
   "execution_count": null,
   "metadata": {
    "id": "i6iVbvA-fcVk"
   },
   "outputs": [],
   "source": []
  }
 ],
 "metadata": {
  "colab": {
   "authorship_tag": "ABX9TyOVPdE5yMfa0dXtz4TktTZ7",
   "provenance": []
  },
  "kernelspec": {
   "display_name": "Python 3",
   "name": "python3"
  },
  "language_info": {
   "name": "python"
  }
 },
 "nbformat": 4,
 "nbformat_minor": 0
}
