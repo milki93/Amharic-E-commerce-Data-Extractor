{
 "cells": [
  {
   "cell_type": "code",
   "execution_count": 1,
   "metadata": {
    "colab": {
     "base_uri": "https://localhost:8080/"
    },
    "executionInfo": {
     "elapsed": 17598,
     "status": "ok",
     "timestamp": 1751222201024,
     "user": {
      "displayName": "Milki Dida",
      "userId": "07464085856863573424"
     },
     "user_tz": -180
    },
    "id": "4BYKdlXIeXrF",
    "outputId": "6b30e7bd-82b7-4787-f31e-19c5db4f4d00"
   },
   "outputs": [
    {
     "name": "stdout",
     "output_type": "stream",
     "text": [
      "Cloning into 'Amharic-E-commerce-Data-Extractor'...\n",
      "remote: Enumerating objects: 18862, done.\u001b[K\n",
      "remote: Counting objects: 100% (67/67), done.\u001b[K\n",
      "remote: Compressing objects: 100% (51/51), done.\u001b[K\n",
      "remote: Total 18862 (delta 33), reused 40 (delta 15), pack-reused 18795 (from 1)\u001b[K\n",
      "Receiving objects: 100% (18862/18862), 106.71 MiB | 10.69 MiB/s, done.\n",
      "Resolving deltas: 100% (2019/2019), done.\n",
      "Updating files: 100% (18558/18558), done.\n"
     ]
    }
   ],
   "source": [
    "# !git clone https://github.com/milki93/Amharic-E-commerce-Data-Extractor.git"
   ]
  },
  {
   "cell_type": "code",
   "execution_count": 2,
   "metadata": {
    "colab": {
     "base_uri": "https://localhost:8080/"
    },
    "executionInfo": {
     "elapsed": 27,
     "status": "ok",
     "timestamp": 1751222307143,
     "user": {
      "displayName": "Milki Dida",
      "userId": "07464085856863573424"
     },
     "user_tz": -180
    },
    "id": "wAuH2xbcebfN",
    "outputId": "cf3f696c-886e-407f-c8b1-5565274f6681"
   },
   "outputs": [
    {
     "name": "stdout",
     "output_type": "stream",
     "text": [
      "/content/Amharic-E-commerce-Data-Extractor/notebooks\n"
     ]
    }
   ],
   "source": [
    "%cd /content/Amharic-E-commerce-Data-Extractor/notebooks"
   ]
  },
  {
   "cell_type": "code",
   "execution_count": 5,
   "metadata": {
    "executionInfo": {
     "elapsed": 110,
     "status": "ok",
     "timestamp": 1751222580720,
     "user": {
      "displayName": "Milki Dida",
      "userId": "07464085856863573424"
     },
     "user_tz": -180
    },
    "id": "2MIpzPvyd_B8"
   },
   "outputs": [],
   "source": [
    "# !pip install torch transformers shap lime datasets"
   ]
  },
  {
   "cell_type": "code",
   "execution_count": 7,
   "metadata": {
    "colab": {
     "base_uri": "https://localhost:8080/"
    },
    "executionInfo": {
     "elapsed": 10431,
     "status": "ok",
     "timestamp": 1751223061337,
     "user": {
      "displayName": "Milki Dida",
      "userId": "07464085856863573424"
     },
     "user_tz": -180
    },
    "id": "oiP5PgDUveHh",
    "outputId": "1b6885e6-0d19-4666-f18c-72e43d043c67"
   },
   "outputs": [
    {
     "name": "stdout",
     "output_type": "stream",
     "text": [
      "Mounted at /content/drive\n"
     ]
    }
   ],
   "source": [
    "from google.colab import drive\n",
    "drive.mount('/content/drive')"
   ]
  },
  {
   "cell_type": "code",
   "execution_count": null,
   "metadata": {
    "id": "FHTTqyAL0t35"
   },
   "outputs": [],
   "source": [
    "# !pip install torch"
   ]
  },
  {
   "cell_type": "markdown",
   "metadata": {
    "id": "OhzE5EGwMQbc"
   },
   "source": [
    "### Load the conll file and the best model"
   ]
  },
  {
   "cell_type": "code",
   "execution_count": 8,
   "metadata": {
    "colab": {
     "base_uri": "https://localhost:8080/",
     "height": 457,
     "referenced_widgets": [
      "514272758f3e43309d778c05cb2c43c6",
      "e47a28e177754fee9b09040ece14a080",
      "5aa92a187ba74d8a8456e0a8f3997609",
      "481a148e9e7c453bb4e7754075ae895c",
      "06ac6ae9d71340329ce31e7da5f5079e",
      "ac5824a9f0b846fdb7c6fd49ef65de64",
      "0fa87fa8d6114511b43c5299bc5a7931",
      "4c8561278b844998b510a5ab564bb897",
      "8f65fbba04374895987be3f09fb50ffb",
      "75c3fa7e2ed2488db79fab88d227e30b",
      "d2173435f6784b42908d1d40583a91db",
      "a7859503fe884951b6a7fe9123304774",
      "571ac16c474044e38292386121ffb619",
      "7a883dcb785349239832d47eb5c3ebc8",
      "3a5b46f3a5814e72a95f0fa3f9659e39",
      "9a3cd66bb77e4210bb7701fdd6c8c889",
      "ca507386ec2d46efa5d0367d19bf5bd5",
      "555063f02272408d948b83264fe3830e",
      "912c3a38a4ff488e900399e1aa633ff0",
      "29fbe77250304e048d8caeb8e3527d9b",
      "d3d2fee1e386417ba8abf35595b98bbc",
      "b7ab89713bfd414bb4a5eaf0ab09f9e4",
      "45a8e723a6fd49d99d58c471dc5c92ca",
      "0be99c8abac7449f90b7575e6e9232ef",
      "31faf829335e46aab8161b94308575ca",
      "841b19f5fd9d4a399040b7d6ade43b12",
      "8b21559117464dd6a2516b4969b9a411",
      "777fa70de09b4b8c82d4d5e33b6b7021",
      "fba88a8f29eb4c329b3ebba4675222a0",
      "31f591c211df429e9662d683accaf201",
      "1632c9ff662b41b8a88e03266af2afed",
      "6749c616069544b8a53aa6e6009a4975",
      "36834437f6e2430e85e2e349dddf94d1",
      "7f617cb205cf4f4b92dbff47a823ad49",
      "6afce50fd4924b9891f0bbf5200f1a24",
      "2fc221971bba47a4829efe58c8ab5577",
      "885f3a2fffd244d5863fec281b3a33c0",
      "08c142f3db704c5cb8f1984124f6467c",
      "bdecacf7559b45deac2650afcc37eca0",
      "ab60292498254a90839495a55ac5f359",
      "2d151b59abd1450cbccaa3bd5ac295ac",
      "dea6697e01754d27bdfce7479feb55de",
      "c670e19216ad4d1e8d1303512f7d7def",
      "f956231de42b4c6fa5793b3cff85eb9e"
     ]
    },
    "executionInfo": {
     "elapsed": 46717,
     "status": "ok",
     "timestamp": 1751223114586,
     "user": {
      "displayName": "Milki Dida",
      "userId": "07464085856863573424"
     },
     "user_tz": -180
    },
    "id": "EgCBfGxilNtM",
    "outputId": "0e830a5c-0d11-4189-b59b-6506e912758b"
   },
   "outputs": [
    {
     "name": "stdout",
     "output_type": "stream",
     "text": [
      "Successfully loaded 50 sentences from /content/Amharic-E-commerce-Data-Extractor/data/labeled_data.conll\n",
      "First 2 loaded sentences:\n",
      "Sentence 1: skechers archfit size 40 41 42 43 price 3400 birr አድራሻ - ሜክሲኮ ኮሜርስ ጀርባ መዚድ ፕላዛ የመጀመሪያ ደረጃ እንደወጡ 101 የቢሮ ቁጥር ያገኙናል or call 0920238243 ethiobrand\n",
      "Labels   1: ['B-Product', 'B-Product', 'O', 'O', 'O', 'O', 'O', 'B-PRICE', 'I-PRICE', 'I-PRICE', 'B-LOC', 'I-LOC', 'I-LOC', 'I-LOC', 'I-LOC', 'I-LOC', 'I-LOC', 'I-LOC', 'I-LOC', 'I-LOC', 'I-LOC', 'I-LOC', 'I-LOC', 'I-LOC', 'O', 'O', 'O', 'O']\n",
      "Sentence 2: magic silicone dish washing gloves high quality ወፍራሙ ዕቃ ለማጠብ ቤት ለማፅዳት መኪና ለማጠብ ለተለያየ አገልግሎት የሚውል ዋጋ፦ 350ብር ውስን ፍሬ ነው ያለው አድራሻ መገናኛ_መሰረት_ደፋር_ሞል_ሁለተኛ_ፎቅ ቢሮ ቁ s05s06 0902660722 0928460606 በtelegram ለማዘዝ ይጠቀሙ ለተጨማሪ ማብራሪያ የቴሌግራም ገፃችን\n",
      "Labels   2: ['O', 'B-Product', 'I-Product', 'I-Product', 'B-Product', 'O', 'O', 'B-Product', 'I-Product', 'O', 'O', 'O', 'O', 'O', 'O', 'O', 'O', 'B-PRICE', 'I-PRICE', 'O', 'O', 'O', 'O', 'B-LOC', 'I-LOC', 'I-LOC', 'I-LOC', 'I-LOC', 'O', 'O', 'O', 'O', 'O', 'O', 'O', 'O', 'O']\n"
     ]
    },
    {
     "name": "stderr",
     "output_type": "stream",
     "text": [
      "/usr/local/lib/python3.11/dist-packages/huggingface_hub/utils/_auth.py:94: UserWarning: \n",
      "The secret `HF_TOKEN` does not exist in your Colab secrets.\n",
      "To authenticate with the Hugging Face Hub, create a token in your settings tab (https://huggingface.co/settings/tokens), set it as secret in your Google Colab and restart your session.\n",
      "You will be able to reuse this secret in all of your notebooks.\n",
      "Please note that authentication is recommended but still optional to access public models or datasets.\n",
      "  warnings.warn(\n"
     ]
    },
    {
     "data": {
      "application/vnd.jupyter.widget-view+json": {
       "model_id": "514272758f3e43309d778c05cb2c43c6",
       "version_major": 2,
       "version_minor": 0
      },
      "text/plain": [
       "tokenizer_config.json:   0%|          | 0.00/49.0 [00:00<?, ?B/s]"
      ]
     },
     "metadata": {},
     "output_type": "display_data"
    },
    {
     "data": {
      "application/vnd.jupyter.widget-view+json": {
       "model_id": "a7859503fe884951b6a7fe9123304774",
       "version_major": 2,
       "version_minor": 0
      },
      "text/plain": [
       "config.json:   0%|          | 0.00/625 [00:00<?, ?B/s]"
      ]
     },
     "metadata": {},
     "output_type": "display_data"
    },
    {
     "data": {
      "application/vnd.jupyter.widget-view+json": {
       "model_id": "45a8e723a6fd49d99d58c471dc5c92ca",
       "version_major": 2,
       "version_minor": 0
      },
      "text/plain": [
       "vocab.txt:   0%|          | 0.00/996k [00:00<?, ?B/s]"
      ]
     },
     "metadata": {},
     "output_type": "display_data"
    },
    {
     "data": {
      "application/vnd.jupyter.widget-view+json": {
       "model_id": "7f617cb205cf4f4b92dbff47a823ad49",
       "version_major": 2,
       "version_minor": 0
      },
      "text/plain": [
       "tokenizer.json:   0%|          | 0.00/1.96M [00:00<?, ?B/s]"
      ]
     },
     "metadata": {},
     "output_type": "display_data"
    },
    {
     "name": "stderr",
     "output_type": "stream",
     "text": [
      "Device set to use cpu\n"
     ]
    },
    {
     "name": "stdout",
     "output_type": "stream",
     "text": [
      "\n",
      "Model and Tokenizer loaded.\n",
      "Detected Labels: ['O', 'B-LOC', 'B-PRICE', 'B-Product', 'I-LOC', 'I-PRICE', 'I-Product']\n"
     ]
    }
   ],
   "source": [
    "import os\n",
    "import torch\n",
    "from transformers import AutoModelForTokenClassification, AutoTokenizer, pipeline\n",
    "import numpy as np\n",
    "\n",
    "conll_file_path = \"/content/Amharic-E-commerce-Data-Extractor/data/labeled_data.conll\"\n",
    "best_model_path = \"/content/drive/MyDrive/my_ner_models/bert_base_multilingual_cased/checkpoint-30\"\n",
    "\n",
    "def load_conll_data(file_path):\n",
    "    sentences = []\n",
    "    current_words = []\n",
    "    current_labels = []\n",
    "\n",
    "    with open(file_path, 'r', encoding='utf-8') as f:\n",
    "        for line in f:\n",
    "            line = line.strip()\n",
    "            if line:\n",
    "                parts = line.split()\n",
    "                if len(parts) == 2:\n",
    "                    word, label = parts\n",
    "                    current_words.append(word)\n",
    "                    current_labels.append(label)\n",
    "                else:\n",
    "                    print(f\"Skipping malformed line in CoNLL: '{line}'\")\n",
    "            else:\n",
    "                if current_words:\n",
    "                    sentences.append({\"words\": current_words, \"labels\": current_labels})\n",
    "                current_words = []\n",
    "                current_labels = []\n",
    "\n",
    "    if current_words:\n",
    "        sentences.append({\"words\": current_words, \"labels\": current_labels})\n",
    "    return sentences\n",
    "\n",
    "try:\n",
    "    labeled_data = load_conll_data(conll_file_path)\n",
    "    print(f\"Successfully loaded {len(labeled_data)} sentences from {conll_file_path}\")\n",
    "    if labeled_data:\n",
    "        print(\"First 2 loaded sentences:\")\n",
    "        for i, sentence in enumerate(labeled_data[:2]):\n",
    "            print(f\"Sentence {i+1}: {' '.join(sentence['words'])}\")\n",
    "            print(f\"Labels   {i+1}: {sentence['labels']}\")\n",
    "except FileNotFoundError:\n",
    "    print(f\"Error: CoNLL file not found at {conll_file_path}. Please ensure the path is correct and the file exists.\")\n",
    "    labeled_data = []\n",
    "\n",
    "tokenizer = AutoTokenizer.from_pretrained(\"bert-base-multilingual-cased\")\n",
    "model = AutoModelForTokenClassification.from_pretrained(best_model_path)\n",
    "model.eval()\n",
    "\n",
    "device = torch.device(\"cuda\" if torch.cuda.is_available() else \"cpu\")\n",
    "model.to(device)\n",
    "\n",
    "id2label = model.config.id2label\n",
    "label2id = model.config.label2id\n",
    "labels = [id2label[i] for i in sorted(id2label.keys())]\n",
    "\n",
    "ner_pipeline = pipeline(\"ner\", model=model, tokenizer=tokenizer, device=0 if torch.cuda.is_available() else -1, aggregation_strategy=\"simple\")\n",
    "\n",
    "print(\"\\nModel and Tokenizer loaded.\")\n",
    "print(\"Detected Labels:\", labels)\n",
    "lime_class_names = labels"
   ]
  },
  {
   "cell_type": "code",
   "execution_count": 15,
   "metadata": {
    "colab": {
     "base_uri": "https://localhost:8080/"
    },
    "executionInfo": {
     "elapsed": 2148,
     "status": "ok",
     "timestamp": 1751225498774,
     "user": {
      "displayName": "Milki Dida",
      "userId": "07464085856863573424"
     },
     "user_tz": -180
    },
    "id": "EZmO1UoXlNq4",
    "outputId": "1014429c-457c-42a5-c749-a77741a51ddb"
   },
   "outputs": [
    {
     "name": "stdout",
     "output_type": "stream",
     "text": [
      "\n",
      "NER Pipeline Output for Example Texts:\n",
      "Text 1: skechers archfit size 40 41 42 43 price 3400 birr አድራሻ - ሜክሲኮ ኮሜርስ ጀርባ መዚድ ፕላዛ የመጀመሪያ ደረጃ እንደወጡ 101 የቢሮ ቁጥር ያገኙናል or call 0920238243 ethiobrand\n",
      "  - Entity: skechers archfit | Type: Product | Score: 0.40\n",
      "  - Entity: 340 | Type: PRICE | Score: 0.38\n",
      "  - Entity: birr | Type: PRICE | Score: 0.42\n",
      "  - Entity: አድራሻ - ሜክሲኮ ኮሜርስ ጀርባ መዚድ ፕላዛ የመጀመሪያ ደረጃ እንደወጡ 101 የቢሮ ቁጥር ያገኙናል | Type: LOC | Score: 0.92\n",
      "..............................\n",
      "Text 2: magic silicone dish washing gloves high quality ወፍራሙ ዕቃ ለማጠብ ቤት ለማፅዳት መኪና ለማጠብ ለተለያየ አገልግሎት የሚውል ዋጋ፦ 350ብር ውስን ፍሬ ነው ያለው አድራሻ መገናኛ_መሰረት_ደፋር_ሞል_ሁለተኛ_ፎቅ ቢሮ ቁ s05s06 0902660722 0928460606 በtelegram ለማዘዝ ይጠቀሙ ለተጨማሪ ማብራሪያ የቴሌግራም ገፃችን\n",
      "  - Entity: magic silicone dish washing gloves high quality | Type: Product | Score: 0.65\n",
      "  - Entity: ያለው አድራሻ መገናኛ _ መሰረት _ ደፋር _ ሞል _ ሁለተኛ _ ፎቅ ቢሮ ቁ s05 | Type: LOC | Score: 0.56\n",
      "  - Entity: ##0 | Type: LOC | Score: 0.36\n",
      "..............................\n",
      "Text 3: nike just do it size 39 40 41 42 43 price 3400 birr አድራሻ - ሜክሲኮ ኮሜርስ ጀርባ መዚድ ፕላዛ የመጀመሪያ ደረጃ እንደወጡ 101 የቢሮ ቁጥር ያገኙናል or call 0920238243 ethiobrand\n",
      "  - Entity: just do | Type: Product | Score: 0.44\n",
      "  - Entity: 340 | Type: PRICE | Score: 0.38\n",
      "  - Entity: birr | Type: PRICE | Score: 0.43\n",
      "  - Entity: አድራሻ - ሜክሲኮ ኮሜርስ ጀርባ መዚድ ፕላዛ የመጀመሪያ ደረጃ እንደወጡ 101 የቢሮ ቁጥር ያገኙናል | Type: LOC | Score: 0.93\n",
      "..............................\n",
      "Text 4: air jordan stay loyal size 40 41 42 43 44 price 3400 birr አድራሻ - ሜክሲኮ ኮሜርስ ጀርባ መዚድ ፕላዛ የመጀመሪያ ደረጃ እንደወጡ 101 የቢሮ ቁጥር ያገኙናል or call 0920238243 ethiobrand\n",
      "  - Entity: air jordan stay loyal | Type: Product | Score: 0.43\n",
      "  - Entity: 340 | Type: PRICE | Score: 0.37\n",
      "  - Entity: birr | Type: PRICE | Score: 0.41\n",
      "  - Entity: አድራሻ - ሜክሲኮ ኮሜርስ ጀርባ መዚድ ፕላዛ የመጀመሪያ ደረጃ እንደወጡ 101 የቢሮ ቁጥር ያገኙናል | Type: LOC | Score: 0.93\n",
      "..............................\n",
      "Text 5: በረፍት ቀንዎ ሱቅ ላይ መስተናገድ ለምትፈልጉ ውድ ደንበኞቻችን ነገ ከጠዋቱ 430 _ ቀኑ 1100 ድረስ ሱቃችን ክፍት ሁኖ ይጠብቅዎታል ሱቅ መተው መግዛት ላልቻላችሁ በሞተረኞች ያሉበት እናደርሳለን ዘወትር ሰኞ _ቅዳሜ ከጠዋቱ 230 እስከ ምሽቱ 200 ድረስ ክፍት መሆኑን እንገልፃለን አድራሻ መገናኛ_መሰረት_ደፋር_ሞል_ሁለተኛ_ፎቅ ቢሮ ቁ s05s06 0902660722 0928460606 በtelegram ለማዘዝ ይጠቀሙ ለተጨማሪ ማብራሪያ የቴሌግራም ገፃችን\n",
      "  - No entities found.\n",
      "..............................\n"
     ]
    }
   ],
   "source": [
    "texts_for_interpretation = []\n",
    "for entry in labeled_data:\n",
    "    texts_for_interpretation.append(\" \".join(entry[\"words\"]))\n",
    "\n",
    "if len(texts_for_interpretation) > 0:\n",
    "    num_examples_to_interpret = min(5, len(texts_for_interpretation))\n",
    "    selected_texts = texts_for_interpretation[:num_examples_to_interpret]\n",
    "    selected_ground_truth_labels = [labeled_data[i][\"labels\"] for i in range(num_examples_to_interpret)]\n",
    "\n",
    "    print(\"\\nNER Pipeline Output for Example Texts:\")\n",
    "    for i, text in enumerate(selected_texts):\n",
    "        print(f\"Text {i+1}: {text}\")\n",
    "        predictions = ner_pipeline(text)\n",
    "        if predictions:\n",
    "            for entity in predictions:\n",
    "                print(f\"  - Entity: {entity['word']} | Type: {entity['entity_group']} | Score: {entity['score']:.2f}\")\n",
    "        else:\n",
    "            print(\"  - No entities found.\")\n",
    "        print(\".\" * 30)\n",
    "\n",
    "else:\n",
    "    print(\"No labeled data loaded. Cannot proceed with selecting examples for interpretation.\")\n",
    "    selected_texts = []\n",
    "    selected_ground_truth_labels = []"
   ]
  },
  {
   "cell_type": "markdown",
   "metadata": {
    "id": "jtYX89-jL63c"
   },
   "source": [
    "### LIME and SHAP Prediction Functions"
   ]
  },
  {
   "cell_type": "code",
   "execution_count": 17,
   "metadata": {
    "executionInfo": {
     "elapsed": 86,
     "status": "ok",
     "timestamp": 1751225540639,
     "user": {
      "displayName": "Milki Dida",
      "userId": "07464085856863573424"
     },
     "user_tz": -180
    },
    "id": "rsrmnhAvlNQC"
   },
   "outputs": [],
   "source": [
    "def lime_predict_proba(texts):\n",
    "    results = []\n",
    "    for text in texts:\n",
    "        inputs = tokenizer(text, return_tensors=\"pt\", truncation=True, padding=True).to(device)\n",
    "        with torch.no_grad():\n",
    "            logits = model(**inputs).logits\n",
    "\n",
    "        probabilities = torch.softmax(logits, dim=-1)\n",
    "        averaged_probs = torch.mean(probabilities, dim=1).squeeze().cpu().numpy()\n",
    "        results.append(averaged_probs)\n",
    "    return np.array(results)\n",
    "\n",
    "def shap_predict_sentence_tag_probs(texts):\n",
    "    all_sentence_probs = []\n",
    "    for text in texts:\n",
    "        inputs = tokenizer(text, return_tensors=\"pt\", truncation=True, padding=True).to(device)\n",
    "        with torch.no_grad():\n",
    "            logits = model(**inputs).logits\n",
    "        probabilities = torch.softmax(logits, dim=-1)\n",
    "        averaged_probs = torch.mean(probabilities, dim=1).squeeze().cpu().numpy()\n",
    "        all_sentence_probs.append(averaged_probs)\n",
    "    return np.array(all_sentence_probs)"
   ]
  },
  {
   "cell_type": "markdown",
   "metadata": {
    "id": "GwvcFz_3Lx_e"
   },
   "source": [
    "### Lime interpretation"
   ]
  },
  {
   "cell_type": "code",
   "execution_count": 18,
   "metadata": {
    "colab": {
     "base_uri": "https://localhost:8080/"
    },
    "executionInfo": {
     "elapsed": 469989,
     "status": "ok",
     "timestamp": 1751226043704,
     "user": {
      "displayName": "Milki Dida",
      "userId": "07464085856863573424"
     },
     "user_tz": -180
    },
    "id": "UPC3OCXBGPQy",
    "outputId": "67e01bf1-f8d0-4789-f639-2aa317008a31"
   },
   "outputs": [
    {
     "name": "stdout",
     "output_type": "stream",
     "text": [
      "\n",
      "Applying LIME for interpretation on selected CoNLL data examples\n",
      "\n",
      " Explaining Text 1: 'skechers archfit size 40 41 42 43 price 3400 birr አድራሻ - ሜክሲኮ ኮሜርስ ጀርባ መዚድ ፕላዛ የመጀመሪያ ደረጃ እንደወጡ 101 የቢሮ ቁጥር ያገኙናል or call 0920238243 ethiobrand'\n",
      "  Ground Truth Labels: ['B-Product', 'B-Product', 'O', 'O', 'O', 'O', 'O', 'B-PRICE', 'I-PRICE', 'I-PRICE', 'B-LOC', 'I-LOC', 'I-LOC', 'I-LOC', 'I-LOC', 'I-LOC', 'I-LOC', 'I-LOC', 'I-LOC', 'I-LOC', 'I-LOC', 'I-LOC', 'I-LOC', 'I-LOC', 'O', 'O', 'O', 'O']\n",
      "  Model Predicted Entities:\n",
      "    - skechers archfit (Product) Score: 0.40\n",
      "    - 340 (PRICE) Score: 0.38\n",
      "    - birr (PRICE) Score: 0.42\n",
      "    - አድራሻ - ሜክሲኮ ኮሜርስ ጀርባ መዚድ ፕላዛ የመጀመሪያ ደረጃ እንደወጡ 101 የቢሮ ቁጥር ያገኙናል (LOC) Score: 0.92\n",
      "\n",
      "     No LIME explanation generated for B-Product for this text.\n",
      "\n",
      "     No LIME explanation generated for B-PRICE for this text.\n",
      "\n",
      " LIME Explanation for B-LOC\n",
      "  Words contributing to B-LOC prediction:\n",
      "    0920238243: -0.0076\n",
      "    size: -0.0048\n",
      "    price: -0.0036\n",
      "    birr: 0.0035\n",
      "    or: -0.0026\n",
      "    LIME explanation saved to: lime_explanations/lime_explanation_text_1_label_B-LOC.html\n",
      "\n",
      "................................................................................\n",
      "\n",
      " Explaining Text 2: 'magic silicone dish washing gloves high quality ወፍራሙ ዕቃ ለማጠብ ቤት ለማፅዳት መኪና ለማጠብ ለተለያየ አገልግሎት የሚውል ዋጋ፦ 350ብር ውስን ፍሬ ነው ያለው አድራሻ መገናኛ_መሰረት_ደፋር_ሞል_ሁለተኛ_ፎቅ ቢሮ ቁ s05s06 0902660722 0928460606 በtelegram ለማዘዝ ይጠቀሙ ለተጨማሪ ማብራሪያ የቴሌግራም ገፃችን'\n",
      "  Ground Truth Labels: ['O', 'B-Product', 'I-Product', 'I-Product', 'B-Product', 'O', 'O', 'B-Product', 'I-Product', 'O', 'O', 'O', 'O', 'O', 'O', 'O', 'O', 'B-PRICE', 'I-PRICE', 'O', 'O', 'O', 'O', 'B-LOC', 'I-LOC', 'I-LOC', 'I-LOC', 'I-LOC', 'O', 'O', 'O', 'O', 'O', 'O', 'O', 'O', 'O']\n",
      "  Model Predicted Entities:\n",
      "    - magic silicone dish washing gloves high quality (Product) Score: 0.65\n",
      "    - ያለው አድራሻ መገናኛ _ መሰረት _ ደፋር _ ሞል _ ሁለተኛ _ ፎቅ ቢሮ ቁ s05 (LOC) Score: 0.56\n",
      "    - ##0 (LOC) Score: 0.36\n",
      "\n",
      "     No LIME explanation generated for B-Product for this text.\n",
      "\n",
      "     No LIME explanation generated for B-PRICE for this text.\n",
      "\n",
      " LIME Explanation for B-LOC\n",
      "  Words contributing to B-LOC prediction:\n",
      "    መገናኛ_መሰረት_ደፋር_ሞል_ሁለተኛ_ፎቅ: 0.0082\n",
      "    0902660722: -0.0052\n",
      "    0928460606: -0.0050\n",
      "    s05s06: 0.0036\n",
      "    silicone: 0.0031\n",
      "    LIME explanation saved to: lime_explanations/lime_explanation_text_2_label_B-LOC.html\n",
      "\n",
      "................................................................................\n",
      "\n",
      " Explaining Text 3: 'nike just do it size 39 40 41 42 43 price 3400 birr አድራሻ - ሜክሲኮ ኮሜርስ ጀርባ መዚድ ፕላዛ የመጀመሪያ ደረጃ እንደወጡ 101 የቢሮ ቁጥር ያገኙናል or call 0920238243 ethiobrand'\n",
      "  Ground Truth Labels: ['B-Product', 'I-Product', 'I-Product', 'I-Product', 'O', 'O', 'O', 'O', 'O', 'O', 'B-PRICE', 'I-PRICE', 'I-PRICE', 'B-LOC', 'I-LOC', 'I-LOC', 'I-LOC', 'I-LOC', 'I-LOC', 'I-LOC', 'I-LOC', 'I-LOC', 'I-LOC', 'I-LOC', 'I-LOC', 'I-LOC', 'I-LOC', 'O', 'O', 'O', 'O']\n",
      "  Model Predicted Entities:\n",
      "    - just do (Product) Score: 0.44\n",
      "    - 340 (PRICE) Score: 0.38\n",
      "    - birr (PRICE) Score: 0.43\n",
      "    - አድራሻ - ሜክሲኮ ኮሜርስ ጀርባ መዚድ ፕላዛ የመጀመሪያ ደረጃ እንደወጡ 101 የቢሮ ቁጥር ያገኙናል (LOC) Score: 0.93\n",
      "\n",
      "     No LIME explanation generated for B-Product for this text.\n",
      "\n",
      "     No LIME explanation generated for B-PRICE for this text.\n",
      "\n",
      " LIME Explanation for B-LOC\n",
      "  Words contributing to B-LOC prediction:\n",
      "    0920238243: -0.0068\n",
      "    size: -0.0049\n",
      "    አድራሻ: -0.0048\n",
      "    birr: 0.0045\n",
      "    just: -0.0035\n",
      "    LIME explanation saved to: lime_explanations/lime_explanation_text_3_label_B-LOC.html\n",
      "\n",
      "................................................................................\n",
      "\n",
      " Explaining Text 4: 'air jordan stay loyal size 40 41 42 43 44 price 3400 birr አድራሻ - ሜክሲኮ ኮሜርስ ጀርባ መዚድ ፕላዛ የመጀመሪያ ደረጃ እንደወጡ 101 የቢሮ ቁጥር ያገኙናል or call 0920238243 ethiobrand'\n",
      "  Ground Truth Labels: ['B-Product', 'I-Product', 'I-Product', 'I-Product', 'O', 'O', 'O', 'O', 'O', 'O', 'B-PRICE', 'I-PRICE', 'I-PRICE', 'B-LOC', 'I-LOC', 'I-LOC', 'I-LOC', 'I-LOC', 'I-LOC', 'I-LOC', 'I-LOC', 'I-LOC', 'I-LOC', 'I-LOC', 'I-LOC', 'I-LOC', 'I-LOC', 'O', 'O', 'O', 'O']\n",
      "  Model Predicted Entities:\n",
      "    - air jordan stay loyal (Product) Score: 0.43\n",
      "    - 340 (PRICE) Score: 0.37\n",
      "    - birr (PRICE) Score: 0.41\n",
      "    - አድራሻ - ሜክሲኮ ኮሜርስ ጀርባ መዚድ ፕላዛ የመጀመሪያ ደረጃ እንደወጡ 101 የቢሮ ቁጥር ያገኙናል (LOC) Score: 0.93\n",
      "\n",
      "     No LIME explanation generated for B-Product for this text.\n",
      "\n",
      "     No LIME explanation generated for B-PRICE for this text.\n",
      "\n",
      " LIME Explanation for B-LOC\n",
      "  Words contributing to B-LOC prediction:\n",
      "    0920238243: -0.0065\n",
      "    size: -0.0053\n",
      "    stay: -0.0043\n",
      "    አድራሻ: -0.0039\n",
      "    birr: 0.0033\n",
      "    LIME explanation saved to: lime_explanations/lime_explanation_text_4_label_B-LOC.html\n",
      "\n",
      "................................................................................\n",
      "\n",
      " Explaining Text 5: 'በረፍት ቀንዎ ሱቅ ላይ መስተናገድ ለምትፈልጉ ውድ ደንበኞቻችን ነገ ከጠዋቱ 430 _ ቀኑ 1100 ድረስ ሱቃችን ክፍት ሁኖ ይጠብቅዎታል ሱቅ መተው መግዛት ላልቻላችሁ በሞተረኞች ያሉበት እናደርሳለን ዘወትር ሰኞ _ቅዳሜ ከጠዋቱ 230 እስከ ምሽቱ 200 ድረስ ክፍት መሆኑን እንገልፃለን አድራሻ መገናኛ_መሰረት_ደፋር_ሞል_ሁለተኛ_ፎቅ ቢሮ ቁ s05s06 0902660722 0928460606 በtelegram ለማዘዝ ይጠቀሙ ለተጨማሪ ማብራሪያ የቴሌግራም ገፃችን'\n",
      "  Ground Truth Labels: ['O', 'O', 'O', 'O', 'O', 'O', 'O', 'O', 'O', 'O', 'O', 'O', 'O', 'O', 'O', 'O', 'O', 'O', 'O', 'O', 'O', 'O', 'O', 'O', 'O', 'O', 'O', 'O', 'O', 'O', 'O', 'O', 'O', 'O', 'O', 'O', 'O', 'O', 'B-LOC', 'I-LOC', 'I-LOC', 'I-LOC', 'I-LOC', 'O', 'O', 'O', 'O', 'O', 'O', 'O', 'O', 'O']\n",
      "  Model Predicted Entities:\n",
      "\n",
      "     No LIME explanation generated for B-Product for this text.\n",
      "\n",
      "     No LIME explanation generated for B-PRICE for this text.\n",
      "\n",
      " LIME Explanation for B-LOC\n",
      "  Words contributing to B-LOC prediction:\n",
      "    መገናኛ_መሰረት_ደፋር_ሞል_ሁለተኛ_ፎቅ: 0.0055\n",
      "    1100: -0.0028\n",
      "    230: -0.0024\n",
      "    200: -0.0020\n",
      "    _: -0.0016\n",
      "    LIME explanation saved to: lime_explanations/lime_explanation_text_5_label_B-LOC.html\n",
      "\n",
      "................................................................................\n"
     ]
    }
   ],
   "source": [
    "import lime\n",
    "import shap\n",
    "from lime.lime_text import LimeTextExplainer\n",
    "\n",
    "print(\"\\nApplying LIME for interpretation on selected CoNLL data examples\")\n",
    "\n",
    "explainer = LimeTextExplainer(class_names=lime_class_names)\n",
    "b_product_idx = lime_class_names.index('B-Product')\n",
    "b_price_idx = lime_class_names.index('B-PRICE')\n",
    "b_loc_idx = lime_class_names.index('B-LOC')\n",
    "\n",
    "for i, text_to_explain in enumerate(selected_texts):\n",
    "    print(f\"\\n Explaining Text {i+1}: '{text_to_explain}'\")\n",
    "    print(f\"  Ground Truth Labels: {selected_ground_truth_labels[i]}\")\n",
    "\n",
    "    model_predictions = ner_pipeline(text_to_explain)\n",
    "    print(\"  Model Predicted Entities:\")\n",
    "    for entity in model_predictions:\n",
    "        print(f\"    - {entity['word']} ({entity['entity_group']}) Score: {entity['score']:.2f}\")\n",
    "\n",
    "    explanation = explainer.explain_instance(\n",
    "        text_to_explain,\n",
    "        lime_predict_proba,\n",
    "        num_features=5,\n",
    "        num_samples=500,\n",
    "        top_labels=None\n",
    "    )\n",
    "\n",
    "    target_indices_to_explain = [b_product_idx, b_price_idx, b_loc_idx]\n",
    "    lime_output_dir = \"lime_explanations\"\n",
    "    os.makedirs(lime_output_dir, exist_ok=True)\n",
    "\n",
    "    for label_idx in target_indices_to_explain:\n",
    "        label_name = lime_class_names[label_idx]\n",
    "        if label_idx in explanation.local_exp:\n",
    "            print(f\"\\n LIME Explanation for {label_name}\")\n",
    "            print(f\"  Words contributing to {label_name} prediction:\")\n",
    "            for word, weight in explanation.as_list(label=label_idx):\n",
    "                print(f\"    {word}: {weight:.4f}\")\n",
    "            file_name = f'lime_explanation_text_{i+1}_label_{label_name}.html'\n",
    "            file_path = os.path.join(lime_output_dir, file_name)\n",
    "            explanation.save_to_file(file_path, labels=[label_idx])\n",
    "            print(f\"    LIME explanation saved to: {file_path}\")\n",
    "        else:\n",
    "            print(f\"\\n     No LIME explanation generated for {label_name} for this text.\")\n",
    "    print(\"\\n\" + \".\"*80)\n"
   ]
  },
  {
   "cell_type": "code",
   "execution_count": 19,
   "metadata": {
    "colab": {
     "base_uri": "https://localhost:8080/",
     "height": 1000,
     "referenced_widgets": [
      "222f14a533bb4808a37508fdd9d54bcb",
      "ed599f05b27b4ef8897853b74680d9ef",
      "e701e3a1e08746d99bcd236936ffdda8",
      "d5569d14f0c74d23b1723d6517f5253c",
      "a37c5a8fb48f470db737f140237ab627",
      "3b69b674720a4c1fb2f4e3086536904a",
      "6d51bc3c78bf43a7905cbb3cbd322e8d",
      "d03d07142d9345698ccce7274db1cf68",
      "df5bad56ebf046f1aa653d6ace511e93",
      "3321ca3c5dc748ed86843f1f5b5b0dba",
      "82ce865b3fb341e59aae49a1b30e01ac",
      "7d3d3c69e6494584b6f6c530d9868dda",
      "4f5c149dc8ea4b0e8cf9cc6aaebb0f06",
      "4d98a85326ca48b0a4565ffb2d499e4d",
      "2a10b03f02594ca6a4fa23ed60022577",
      "50e5a989e3864dabb53569ca8bf6d39f",
      "5e7a81957ba14055856bb9e6f8a7b964",
      "f7b1428aaabc4eb28c1241ec70762818",
      "c477b18ba34f4f909244d32fa08848b7",
      "ee491e4cb9e5476faa0d1bb00bc65615",
      "362b4467ca414828bc54201e3e44a347",
      "4f2f8e6429894dda851bfb6f11a0ecf4",
      "405958e3cfee48c3ba459d6505b3f187",
      "bb05cb34cca34fe1915d44fee0d1d321",
      "7e2912f25aca49fabc494cab77d04743",
      "1d4430cfe6a04bd2825eb1c284c7ebb9",
      "c26434469af742c8b46cb77116c3e92f",
      "55bdb8c369fa45a3a3f8648c68be0b65",
      "0705c31db6ba462f86b7d5895d01ce6b",
      "fc000c175511478794e91c24df8b3dff",
      "0d486b4bb8aa42eaba85c1a19d4567bb",
      "1d786969a0d8421993b40d77e423597b",
      "acdd294b67334bdd92c32719f8ca66e3",
      "6be651e61d2146b69ee7f9119e26e5bd",
      "8b67e79bbb0a49a192907c72b75054ad",
      "93a250c4ac4d43458520f99081e16a77",
      "f588c0ea987947c29c584d0211da997a",
      "633d83a1686447fe92a3c83c67a9af32",
      "04f9bbf44d86405e8760dd4bb6e705b1",
      "f79a43d96cd84510b4fea4c8c81ea49d",
      "d86b7d8929144785a0be2379d45f1517",
      "e9839d04edb54baba9067956eb88b742",
      "6f3feb5e8ca74d29af8590652f39b009",
      "44cda3b98d1c49228ecfdab18b341d15",
      "b48a0eb7aff44c9c91c2d6a6c6b275da",
      "d2c24f8305ce4af8be969abe9855e30e",
      "8fe0aa56f1ef44bea125e2326254675c",
      "c3676fd65cbb422daabd3a697f60074a",
      "dbe93e47a48c4acd8b4411805abfbc34",
      "4bb4736be6ac48c4846cdb8c69a35ac0",
      "1f6e3571f30245e8932a8092483f1c3b",
      "0f4d746eaf914ecfa82d98bb5acee9b2",
      "1d035fac2db343658b685ab7e67249a2",
      "629f7356a99c408ca2fb0fb5c7545deb",
      "647b2696643648969adcd42a1060baf2"
     ]
    },
    "executionInfo": {
     "elapsed": 337292,
     "status": "ok",
     "timestamp": 1751226382169,
     "user": {
      "displayName": "Milki Dida",
      "userId": "07464085856863573424"
     },
     "user_tz": -180
    },
    "id": "FP3UeoRv7Puf",
    "outputId": "0ed78ded-5b67-4f41-e982-11fa4929573d"
   },
   "outputs": [
    {
     "name": "stdout",
     "output_type": "stream",
     "text": [
      "\n",
      "Applying SHAP for interpretation on selected CoNLL data\n",
      "\n",
      " SHAP Explanation for Text 1: 'skechers archfit size 40 41 42 43 price 3400 birr አድራሻ - ሜክሲኮ ኮሜርስ ጀርባ መዚድ ፕላዛ የመጀመሪያ ደረጃ እንደወጡ 101 የቢሮ ቁጥር ያገኙናል or call 0920238243 ethiobrand'\n",
      "  Ground Truth Labels: ['B-Product', 'B-Product', 'O', 'O', 'O', 'O', 'O', 'B-PRICE', 'I-PRICE', 'I-PRICE', 'B-LOC', 'I-LOC', 'I-LOC', 'I-LOC', 'I-LOC', 'I-LOC', 'I-LOC', 'I-LOC', 'I-LOC', 'I-LOC', 'I-LOC', 'I-LOC', 'I-LOC', 'I-LOC', 'O', 'O', 'O', 'O']\n"
     ]
    },
    {
     "data": {
      "application/vnd.jupyter.widget-view+json": {
       "model_id": "222f14a533bb4808a37508fdd9d54bcb",
       "version_major": 2,
       "version_minor": 0
      },
      "text/plain": [
       "  0%|          | 0/498 [00:00<?, ?it/s]"
      ]
     },
     "metadata": {},
     "output_type": "display_data"
    },
    {
     "name": "stderr",
     "output_type": "stream",
     "text": [
      "PartitionExplainer explainer: 2it [01:11, 71.92s/it]               \n"
     ]
    },
    {
     "name": "stdout",
     "output_type": "stream",
     "text": [
      "\n",
      "  SHAP values (explaining sentence-level entity presence for top 3 labels):\n",
      "\n",
      " Explaining 'Output 0'\n",
      "    Base value (average prediction for 'Output 0'): 0.3768\n",
      "    Word contributions for 'Output 0':\n",
      "      : 0.0000\n",
      "      sk: 0.0000\n",
      "      eche: 0.0000\n",
      "\n",
      " Explaining 'Output 1'\n",
      "    Base value (average prediction for 'Output 1'): 0.1282\n",
      "    Word contributions for 'Output 1':\n",
      "      : -0.0199\n",
      "      eche: 0.0125\n",
      "      sk: -0.0014\n",
      "\n",
      " Explaining 'Output 2'\n",
      "    Base value (average prediction for 'Output 2'): 0.1580\n",
      "    Word contributions for 'Output 2':\n",
      "      eche: 0.0211\n",
      "      : -0.0197\n",
      "      sk: -0.0067\n",
      "\n",
      "................................................................................\n",
      "\n",
      " SHAP Explanation for Text 2: 'magic silicone dish washing gloves high quality ወፍራሙ ዕቃ ለማጠብ ቤት ለማፅዳት መኪና ለማጠብ ለተለያየ አገልግሎት የሚውል ዋጋ፦ 350ብር ውስን ፍሬ ነው ያለው አድራሻ መገናኛ_መሰረት_ደፋር_ሞል_ሁለተኛ_ፎቅ ቢሮ ቁ s05s06 0902660722 0928460606 በtelegram ለማዘዝ ይጠቀሙ ለተጨማሪ ማብራሪያ የቴሌግራም ገፃችን'\n",
      "  Ground Truth Labels: ['O', 'B-Product', 'I-Product', 'I-Product', 'B-Product', 'O', 'O', 'B-Product', 'I-Product', 'O', 'O', 'O', 'O', 'O', 'O', 'O', 'O', 'B-PRICE', 'I-PRICE', 'O', 'O', 'O', 'O', 'B-LOC', 'I-LOC', 'I-LOC', 'I-LOC', 'I-LOC', 'O', 'O', 'O', 'O', 'O', 'O', 'O', 'O', 'O']\n"
     ]
    },
    {
     "data": {
      "application/vnd.jupyter.widget-view+json": {
       "model_id": "7d3d3c69e6494584b6f6c530d9868dda",
       "version_major": 2,
       "version_minor": 0
      },
      "text/plain": [
       "  0%|          | 0/498 [00:00<?, ?it/s]"
      ]
     },
     "metadata": {},
     "output_type": "display_data"
    },
    {
     "name": "stderr",
     "output_type": "stream",
     "text": [
      "PartitionExplainer explainer: 2it [01:14, 74.61s/it]               \n"
     ]
    },
    {
     "name": "stdout",
     "output_type": "stream",
     "text": [
      "\n",
      "  SHAP values (explaining sentence-level entity presence for top 3 labels):\n",
      "\n",
      " Explaining 'Output 0'\n",
      "    Base value (average prediction for 'Output 0'): 0.3768\n",
      "    Word contributions for 'Output 0':\n",
      "      magic : 0.0050\n",
      "      : -0.0034\n",
      "      sil: 0.0001\n",
      "\n",
      " Explaining 'Output 1'\n",
      "    Base value (average prediction for 'Output 1'): 0.1580\n",
      "    Word contributions for 'Output 1':\n",
      "      magic : 0.0273\n",
      "      : -0.0149\n",
      "      sil: 0.0021\n",
      "\n",
      " Explaining 'Output 2'\n",
      "    Base value (average prediction for 'Output 2'): 0.1282\n",
      "    Word contributions for 'Output 2':\n",
      "      : -0.0139\n",
      "      magic : 0.0095\n",
      "      sil: 0.0005\n",
      "\n",
      "................................................................................\n",
      "\n",
      " SHAP Explanation for Text 3: 'nike just do it size 39 40 41 42 43 price 3400 birr አድራሻ - ሜክሲኮ ኮሜርስ ጀርባ መዚድ ፕላዛ የመጀመሪያ ደረጃ እንደወጡ 101 የቢሮ ቁጥር ያገኙናል or call 0920238243 ethiobrand'\n",
      "  Ground Truth Labels: ['B-Product', 'I-Product', 'I-Product', 'I-Product', 'O', 'O', 'O', 'O', 'O', 'O', 'B-PRICE', 'I-PRICE', 'I-PRICE', 'B-LOC', 'I-LOC', 'I-LOC', 'I-LOC', 'I-LOC', 'I-LOC', 'I-LOC', 'I-LOC', 'I-LOC', 'I-LOC', 'I-LOC', 'I-LOC', 'I-LOC', 'I-LOC', 'O', 'O', 'O', 'O']\n"
     ]
    },
    {
     "data": {
      "application/vnd.jupyter.widget-view+json": {
       "model_id": "405958e3cfee48c3ba459d6505b3f187",
       "version_major": 2,
       "version_minor": 0
      },
      "text/plain": [
       "  0%|          | 0/498 [00:00<?, ?it/s]"
      ]
     },
     "metadata": {},
     "output_type": "display_data"
    },
    {
     "name": "stderr",
     "output_type": "stream",
     "text": [
      "PartitionExplainer explainer: 2it [00:59, 59.25s/it]               \n"
     ]
    },
    {
     "name": "stdout",
     "output_type": "stream",
     "text": [
      "\n",
      "  SHAP values (explaining sentence-level entity presence for top 3 labels):\n",
      "\n",
      " Explaining 'Output 0'\n",
      "    Base value (average prediction for 'Output 0'): 0.3768\n",
      "    Word contributions for 'Output 0':\n",
      "      : -0.0022\n",
      "      ke : 0.0016\n",
      "      ni: -0.0001\n",
      "\n",
      " Explaining 'Output 1'\n",
      "    Base value (average prediction for 'Output 1'): 0.1282\n",
      "    Word contributions for 'Output 1':\n",
      "      ke : 0.0056\n",
      "      : -0.0051\n",
      "      ni: 0.0018\n",
      "\n",
      " Explaining 'Output 2'\n",
      "    Base value (average prediction for 'Output 2'): 0.1580\n",
      "    Word contributions for 'Output 2':\n",
      "      : -0.0099\n",
      "      ke : 0.0072\n",
      "      ni: 0.0014\n",
      "\n",
      "................................................................................\n",
      "\n",
      " SHAP Explanation for Text 4: 'air jordan stay loyal size 40 41 42 43 44 price 3400 birr አድራሻ - ሜክሲኮ ኮሜርስ ጀርባ መዚድ ፕላዛ የመጀመሪያ ደረጃ እንደወጡ 101 የቢሮ ቁጥር ያገኙናል or call 0920238243 ethiobrand'\n",
      "  Ground Truth Labels: ['B-Product', 'I-Product', 'I-Product', 'I-Product', 'O', 'O', 'O', 'O', 'O', 'O', 'B-PRICE', 'I-PRICE', 'I-PRICE', 'B-LOC', 'I-LOC', 'I-LOC', 'I-LOC', 'I-LOC', 'I-LOC', 'I-LOC', 'I-LOC', 'I-LOC', 'I-LOC', 'I-LOC', 'I-LOC', 'I-LOC', 'I-LOC', 'O', 'O', 'O', 'O']\n"
     ]
    },
    {
     "data": {
      "application/vnd.jupyter.widget-view+json": {
       "model_id": "6be651e61d2146b69ee7f9119e26e5bd",
       "version_major": 2,
       "version_minor": 0
      },
      "text/plain": [
       "  0%|          | 0/498 [00:00<?, ?it/s]"
      ]
     },
     "metadata": {},
     "output_type": "display_data"
    },
    {
     "name": "stderr",
     "output_type": "stream",
     "text": [
      "PartitionExplainer explainer: 2it [01:00, 60.10s/it]               \n"
     ]
    },
    {
     "name": "stdout",
     "output_type": "stream",
     "text": [
      "\n",
      "  SHAP values (explaining sentence-level entity presence for top 3 labels):\n",
      "\n",
      " Explaining 'Output 0'\n",
      "    Base value (average prediction for 'Output 0'): 0.3768\n",
      "    Word contributions for 'Output 0':\n",
      "      jord: 0.0086\n",
      "      : -0.0050\n",
      "      air : 0.0021\n",
      "\n",
      " Explaining 'Output 1'\n",
      "    Base value (average prediction for 'Output 1'): 0.1282\n",
      "    Word contributions for 'Output 1':\n",
      "      jord: 0.0125\n",
      "      : -0.0057\n",
      "      air : 0.0018\n",
      "\n",
      " Explaining 'Output 2'\n",
      "    Base value (average prediction for 'Output 2'): 0.1580\n",
      "    Word contributions for 'Output 2':\n",
      "      : -0.0101\n",
      "      jord: 0.0072\n",
      "      air : -0.0008\n",
      "\n",
      "................................................................................\n",
      "\n",
      " SHAP Explanation for Text 5: 'በረፍት ቀንዎ ሱቅ ላይ መስተናገድ ለምትፈልጉ ውድ ደንበኞቻችን ነገ ከጠዋቱ 430 _ ቀኑ 1100 ድረስ ሱቃችን ክፍት ሁኖ ይጠብቅዎታል ሱቅ መተው መግዛት ላልቻላችሁ በሞተረኞች ያሉበት እናደርሳለን ዘወትር ሰኞ _ቅዳሜ ከጠዋቱ 230 እስከ ምሽቱ 200 ድረስ ክፍት መሆኑን እንገልፃለን አድራሻ መገናኛ_መሰረት_ደፋር_ሞል_ሁለተኛ_ፎቅ ቢሮ ቁ s05s06 0902660722 0928460606 በtelegram ለማዘዝ ይጠቀሙ ለተጨማሪ ማብራሪያ የቴሌግራም ገፃችን'\n",
      "  Ground Truth Labels: ['O', 'O', 'O', 'O', 'O', 'O', 'O', 'O', 'O', 'O', 'O', 'O', 'O', 'O', 'O', 'O', 'O', 'O', 'O', 'O', 'O', 'O', 'O', 'O', 'O', 'O', 'O', 'O', 'O', 'O', 'O', 'O', 'O', 'O', 'O', 'O', 'O', 'O', 'B-LOC', 'I-LOC', 'I-LOC', 'I-LOC', 'I-LOC', 'O', 'O', 'O', 'O', 'O', 'O', 'O', 'O', 'O']\n"
     ]
    },
    {
     "data": {
      "application/vnd.jupyter.widget-view+json": {
       "model_id": "b48a0eb7aff44c9c91c2d6a6c6b275da",
       "version_major": 2,
       "version_minor": 0
      },
      "text/plain": [
       "  0%|          | 0/498 [00:00<?, ?it/s]"
      ]
     },
     "metadata": {},
     "output_type": "display_data"
    },
    {
     "name": "stderr",
     "output_type": "stream",
     "text": [
      "PartitionExplainer explainer: 2it [01:11, 71.14s/it]               "
     ]
    },
    {
     "name": "stdout",
     "output_type": "stream",
     "text": [
      "\n",
      "  SHAP values (explaining sentence-level entity presence for top 3 labels):\n",
      "\n",
      " Explaining 'Output 0'\n",
      "    Base value (average prediction for 'Output 0'): 0.3768\n",
      "    Word contributions for 'Output 0':\n",
      "      : 0.0048\n",
      "      በረፍት : -0.0019\n",
      "      ቀንዎ : -0.0008\n",
      "\n",
      " Explaining 'Output 1'\n",
      "    Base value (average prediction for 'Output 1'): 0.1282\n",
      "    Word contributions for 'Output 1':\n",
      "      : 0.0089\n",
      "      ቀንዎ : -0.0028\n",
      "      በረፍት : -0.0007\n",
      "\n",
      " Explaining 'Output 2'\n",
      "    Base value (average prediction for 'Output 2'): 0.1580\n",
      "    Word contributions for 'Output 2':\n",
      "      : 0.0074\n",
      "      ቀንዎ : -0.0022\n",
      "      በረፍት : -0.0003\n",
      "\n",
      "................................................................................\n"
     ]
    },
    {
     "name": "stderr",
     "output_type": "stream",
     "text": [
      "\n"
     ]
    }
   ],
   "source": [
    "print(\"\\nApplying SHAP for interpretation on selected CoNLL data\")\n",
    "\n",
    "if len(selected_texts) > 0:\n",
    "    masker = shap.maskers.Text(tokenizer, mask_token=tokenizer.mask_token)\n",
    "    explainer_shap = shap.Explainer(shap_predict_sentence_tag_probs, masker)\n",
    "\n",
    "    for i, text_to_explain in enumerate(selected_texts):\n",
    "        print(f\"\\n SHAP Explanation for Text {i+1}: '{text_to_explain}'\")\n",
    "        print(f\"  Ground Truth Labels: {selected_ground_truth_labels[i]}\")\n",
    "\n",
    "        shap_values = explainer_shap(\n",
    "            [text_to_explain],\n",
    "            outputs=shap.Explanation.argsort.flip[:3]\n",
    "        )\n",
    "\n",
    "        print(\"\\n  SHAP values (explaining sentence-level entity presence for top 3 labels):\")\n",
    "\n",
    "        for output_idx in range(len(shap_values[0].output_names)):\n",
    "            label_name = shap_values[0].output_names[output_idx]\n",
    "            print(f\"\\n Explaining '{label_name}'\")\n",
    "            base_value = shap_values[0].base_values[output_idx]\n",
    "            feature_values = shap_values[0].values[output_idx]\n",
    "            feature_data = shap_values[0].data\n",
    "\n",
    "            print(f\"    Base value (average prediction for '{label_name}'): {base_value:.4f}\")\n",
    "            print(f\"    Word contributions for '{label_name}':\")\n",
    "            word_contributions = list(zip(feature_data, feature_values))\n",
    "            word_contributions.sort(key=lambda x: abs(x[1]), reverse=True)\n",
    "            for word, weight in word_contributions:\n",
    "                print(f\"      {word}: {weight:.4f}\")\n",
    "        print(\"\\n\" + \".\"*80)\n",
    "\n",
    "else:\n",
    "    print(\"No selected texts for SHAP analysis.\")"
   ]
  },
  {
   "cell_type": "code",
   "execution_count": null,
   "metadata": {
    "id": "QZ7NdGP0D8ei"
   },
   "outputs": [],
   "source": []
  },
  {
   "cell_type": "markdown",
   "metadata": {
    "id": "KGNQ0M6PClkw"
   },
   "source": [
    "#### LIME & SHAP Insights\n",
    "\n",
    "**Location (B-LOC):**\n",
    "- **LIME** correctly highlighted location words like \"መገናኛ...\" with positive contributions.\n",
    "- Some expected words like \"አድራሻ\" or phone numbers had low or negative impact, suggesting inconsistent model understanding.\n",
    "- **SHAP** also highlighted useful words, but it used generic labels like \"Output 0\", making it hard to match them to B-LOC directly.\n",
    "\n",
    "**Product (B-Product) & Price (B-PRICE):**\n",
    "- **LIME** gave no explanations for these, meaning the model didn't predict them confidently.\n",
    "- Predictions like \"skechers archfit\" (0.40) and \"340\" (0.38) had lower scores compared to B-LOC predictions.\n",
    "- **SHAP** couldn't give clear insights either due to missing label mapping.\n",
    "\n",
    "---\n",
    "\n",
    "####  Areas for Improvement\n",
    "\n",
    "1. **Lack of Product & Price Examples:**\n",
    "   - The model struggles with these entities.\n",
    "   - Add more labeled examples with diverse products and price formats.\n",
    "\n",
    "2. **Unclear SHAP Output:**\n",
    "   - SHAP uses generic output names.\n",
    "   - Map SHAP outputs to actual labels (B-LOC, B-Product, etc.) using id2label.\n",
    "\n",
    "3. **Tokenization Confusion:**\n",
    "   - Some relevant words are not contributing as expected.\n",
    "   - Review how compound Amharic words and numbers are tokenized. Add clearer examples.\n",
    "\n",
    "\n",
    "The model performs well on **Location** entities but struggles with **Product** and **Price**. Improving training data and label mapping in SHAP will boost both performance and interpretability.\n"
   ]
  },
  {
   "cell_type": "code",
   "execution_count": null,
   "metadata": {
    "id": "SIP1jU6RCmOV"
   },
   "outputs": [],
   "source": [
    "import nbformat\n",
    "notebook_path = \"/content/Amharic-E-commerce-Data-Extractor/notebooks/model_Interpretability.ipynb\"\n",
    "with open(notebook_path, \"r\", encoding=\"utf-8\") as f:\n",
    "    nb = nbformat.read(f, as_version=4)\n",
    "\n",
    "if 'widgets' in nb['metadata']:\n",
    "    del nb['metadata']['widgets']\n",
    "    print(\"Removed metadata.widgets\")\n",
    "\n",
    "with open(notebook_path, \"w\", encoding=\"utf-8\") as f:\n",
    "    nbformat.write(nb, f)\n",
    "print(\"Notebook cleaned and saved.\")"
   ]
  },
  {
   "cell_type": "code",
   "execution_count": null,
   "metadata": {
    "id": "YPXc8UxdB9Zy"
   },
   "outputs": [],
   "source": []
  },
  {
   "cell_type": "code",
   "execution_count": null,
   "metadata": {
    "id": "1aFQFyjlB9Wz"
   },
   "outputs": [],
   "source": [
    "!cp \"/content/drive/My Drive/Colab Notebooks/model_Interpretability.ipynb\" /content/Amharic-E-commerce-Data-Extractor/notebooks"
   ]
  },
  {
   "cell_type": "code",
   "execution_count": null,
   "metadata": {
    "id": "pdCYcAfXNb06"
   },
   "outputs": [],
   "source": [
    "%cd /content/Amharic-E-commerce-Data-Extractor"
   ]
  },
  {
   "cell_type": "code",
   "execution_count": null,
   "metadata": {
    "id": "M7nnHUmFB9R_"
   },
   "outputs": [],
   "source": [
    "# !ssh-keygen -t ed25519 -C \"milkidida131@gmail.com\" -f ~/.ssh/id_ed25519 -N \"\""
   ]
  },
  {
   "cell_type": "code",
   "execution_count": null,
   "metadata": {
    "id": "aN1-OFQ_B9NL"
   },
   "outputs": [],
   "source": [
    "# !mkdir -p ~/.ssh\n",
    "# !eval \"$(ssh-agent -s)\" && ssh-add ~/.ssh/id_ed25519"
   ]
  },
  {
   "cell_type": "code",
   "execution_count": null,
   "metadata": {
    "id": "hNHLwM1yB9IR"
   },
   "outputs": [],
   "source": [
    "# !mkdir -p ~/.ssh && ssh-keyscan github.com >> ~/.ssh/known_hosts"
   ]
  },
  {
   "cell_type": "code",
   "execution_count": null,
   "metadata": {
    "id": "k-zJZcsJM2Eh"
   },
   "outputs": [],
   "source": [
    "# !cat ~/.ssh/id_ed25519.pub"
   ]
  },
  {
   "cell_type": "code",
   "execution_count": null,
   "metadata": {
    "id": "Btehwp9DM4ce"
   },
   "outputs": [],
   "source": [
    "# !ssh -T git@github.com"
   ]
  },
  {
   "cell_type": "code",
   "execution_count": null,
   "metadata": {
    "id": "51AsXRxNM6px"
   },
   "outputs": [],
   "source": [
    "!git remote set-url origin git@github.com:milki93/Amharic-E-commerce-Data-Extractor.git"
   ]
  },
  {
   "cell_type": "code",
   "execution_count": null,
   "metadata": {
    "id": "A3cR6JZ8M9ht"
   },
   "outputs": [],
   "source": [
    "!git checkout -b task-5"
   ]
  },
  {
   "cell_type": "code",
   "execution_count": null,
   "metadata": {
    "id": "wjJwNssPNBmu"
   },
   "outputs": [],
   "source": [
    "!git add notebooks/model_comparison_ner.ipynb\n",
    "!git commit -m \"Add model comparison of NER appling on the dataset\"\n",
    "!git push origin task-4"
   ]
  }
 ],
 "metadata": {
  "colab": {
   "authorship_tag": "ABX9TyNJvUUyae454ZBy4uBJyjbE",
   "provenance": []
  },
  "kernelspec": {
   "display_name": "Python 3",
   "name": "python3"
  },
  "language_info": {
   "name": "python"
  }
 },
 "nbformat": 4,
 "nbformat_minor": 0
}
